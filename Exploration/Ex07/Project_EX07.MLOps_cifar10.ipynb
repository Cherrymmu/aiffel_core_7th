{
 "cells": [
  {
   "cell_type": "markdown",
   "id": "6e19157b",
   "metadata": {},
   "source": [
    "## Exploration 7. 머신러닝 모델을 제품으로 만들어보자 : MLOps 기초\n",
    "\n",
    "# Project 'CIFAR10 모델 튜닝 & 배포'\n",
    "\n",
    "CIFAR10 프로젝트를 기반으로 데이터를 수정하고 하이퍼파라미터 튜닝을 한 다음 배포\n",
    "\n",
    "**[내용 구성]**\n",
    "\n",
    "0. Data Centric AI 맛보기\n",
    "    - 잘못된 label 수정 (labelerrors.com 참고)\n",
    "1. 모델 고정해서 사용\n",
    "2. 하이퍼파라미터 튜닝\n",
    "3. 모델배포(옵션)\n",
    "4. TFLite 모델 생성(옵션)\n",
    "5. 박찬성님의 TFX 프로젝트 분석(추가미션)"
   ]
  },
  {
   "cell_type": "code",
   "execution_count": 1,
   "id": "dd4acb5c-036c-4b26-acd4-44553cfe3668",
   "metadata": {},
   "outputs": [],
   "source": [
    "# # install KerasTuner \n",
    "# !pip install keras-tuner"
   ]
  },
  {
   "cell_type": "code",
   "execution_count": 2,
   "id": "4745d364",
   "metadata": {},
   "outputs": [
    {
     "name": "stdout",
     "output_type": "stream",
     "text": [
      "tensorflow 2.15.0\n"
     ]
    }
   ],
   "source": [
    "# import library\n",
    "\n",
    "# for file path access\n",
    "import os\n",
    "\n",
    "# for data visualization\n",
    "import matplotlib.pyplot as plt\n",
    "%matplotlib inline\n",
    "\n",
    "# for math operations\n",
    "import numpy as np\n",
    "# for managing tensors\n",
    "import tensorflow as tf\n",
    "# for model design\n",
    "from tensorflow.keras import layers\n",
    "\n",
    "# for keras tuner\n",
    "import keras\n",
    "import keras_tuner as kt\n",
    "from sklearn.model_selection import train_test_split\n",
    "\n",
    "# version check\n",
    "print('tensorflow', tf.__version__)"
   ]
  },
  {
   "cell_type": "markdown",
   "id": "655f2bc8-b603-4770-aa4e-b6f07a6836e4",
   "metadata": {},
   "source": [
    "# 0. Datacentric AI\n",
    "- [labelerrors.com](https://labelerrors.com/)을 참고해서 데이터셋에 잘못된 label이 있는지 확인하고 수정\n",
    "\n",
    "**[수정사항]**\n",
    "- ID 값을 이용해서 총 22개 데이터 수정\n"
   ]
  },
  {
   "cell_type": "markdown",
   "id": "0aebaa45-bdd7-4bac-a7e9-b9e063a4815c",
   "metadata": {},
   "source": [
    "## Load Data\n",
    "- keras CIFAR10 dataset 활용\n",
    "\n",
    "\n",
    "**cifar10 label 정보**\n",
    "> Label  -\tDescription<br>\n",
    "0\tairplane<br>\n",
    "1\tautomobile<br>\n",
    "2\tbird<br>\n",
    "3\tcat<br>\n",
    "4\tdeer<br>\n",
    "5\tdog<br>\n",
    "6\tfrog<br>\n",
    "7\thorse<br>\n",
    "8\tship<br>\n",
    "9\ttruck"
   ]
  },
  {
   "cell_type": "code",
   "execution_count": 17,
   "id": "ebc473d1-a88c-4776-a69e-02fd938a1a2b",
   "metadata": {},
   "outputs": [
    {
     "data": {
      "text/plain": [
       "((50000, 32, 32, 3), (50000, 1), (10000, 32, 32, 3), (10000, 1))"
      ]
     },
     "execution_count": 17,
     "metadata": {},
     "output_type": "execute_result"
    }
   ],
   "source": [
    "# load cifar10 dataset from keras\n",
    "cifar10 = keras.datasets.cifar10\n",
    "\n",
    "(x_train, y_train), (x_test, y_test) = cifar10.load_data() \n",
    "\n",
    "x_train.shape, y_train.shape, x_test.shape, y_test.shape"
   ]
  },
  {
   "cell_type": "markdown",
   "id": "fbe27d27-ef2a-4301-87bd-0da584143b4b",
   "metadata": {},
   "source": [
    "- 데이터가 어떤 방식으로 들어있는지, ID값을 사용할수 있는지 확인"
   ]
  },
  {
   "cell_type": "code",
   "execution_count": 4,
   "id": "d2cfcf05-b216-4d5c-9381-ea2099148045",
   "metadata": {},
   "outputs": [
    {
     "data": {
      "text/plain": [
       "array([[[[ 59,  62,  63],\n",
       "         [ 43,  46,  45],\n",
       "         [ 50,  48,  43],\n",
       "         ...,\n",
       "         [158, 132, 108],\n",
       "         [152, 125, 102],\n",
       "         [148, 124, 103]],\n",
       "\n",
       "        [[ 16,  20,  20],\n",
       "         [  0,   0,   0],\n",
       "         [ 18,   8,   0],\n",
       "         ...,\n",
       "         [123,  88,  55],\n",
       "         [119,  83,  50],\n",
       "         [122,  87,  57]],\n",
       "\n",
       "        [[ 25,  24,  21],\n",
       "         [ 16,   7,   0],\n",
       "         [ 49,  27,   8],\n",
       "         ...,\n",
       "         [118,  84,  50],\n",
       "         [120,  84,  50],\n",
       "         [109,  73,  42]],\n",
       "\n",
       "        ...,\n",
       "\n",
       "        [[208, 170,  96],\n",
       "         [201, 153,  34],\n",
       "         [198, 161,  26],\n",
       "         ...,\n",
       "         [160, 133,  70],\n",
       "         [ 56,  31,   7],\n",
       "         [ 53,  34,  20]],\n",
       "\n",
       "        [[180, 139,  96],\n",
       "         [173, 123,  42],\n",
       "         [186, 144,  30],\n",
       "         ...,\n",
       "         [184, 148,  94],\n",
       "         [ 97,  62,  34],\n",
       "         [ 83,  53,  34]],\n",
       "\n",
       "        [[177, 144, 116],\n",
       "         [168, 129,  94],\n",
       "         [179, 142,  87],\n",
       "         ...,\n",
       "         [216, 184, 140],\n",
       "         [151, 118,  84],\n",
       "         [123,  92,  72]]]], dtype=uint8)"
      ]
     },
     "execution_count": 4,
     "metadata": {},
     "output_type": "execute_result"
    }
   ],
   "source": [
    "x_train[:1]"
   ]
  },
  {
   "cell_type": "code",
   "execution_count": 5,
   "id": "86d4618c-258f-427c-91b3-f8580a9bd932",
   "metadata": {},
   "outputs": [
    {
     "data": {
      "text/plain": [
       "array([[6],\n",
       "       [9],\n",
       "       [9]], dtype=uint8)"
      ]
     },
     "execution_count": 5,
     "metadata": {},
     "output_type": "execute_result"
    }
   ],
   "source": [
    "y_train[:3]"
   ]
  },
  {
   "cell_type": "markdown",
   "id": "dabe3fd5-7280-4b19-bf61-c134abacb78c",
   "metadata": {},
   "source": [
    "- 데이터가 numpy array로 있다\n",
    "- 변경해야하는 데이터는 y_train, y_test - label데이터이니 홈페이지의 잘못된 index의 이미지를 출력해보고 사진이 맞으면 해당 값을 변경해본다"
   ]
  },
  {
   "cell_type": "code",
   "execution_count": 13,
   "id": "95e4285c-86e5-463b-b356-e2c3cd9ecfef",
   "metadata": {},
   "outputs": [],
   "source": [
    "# visualize image data with label using index\n",
    "import cv2\n",
    "\n",
    "def show_image_with_index(images, labels, indices):\n",
    "    num_images = len(indices)\n",
    "    ncols = min(num_images, 6) # maximum number of columns to display\n",
    "    # nrows = (num_images - 1) // ncols + 1 # calculate the number of rows\n",
    "    \n",
    "    figs, axs = plt.subplots(figsize=(22,6), nrows=1, ncols=ncols)\n",
    "    \n",
    "    for i, index in enumerate(indices):\n",
    "        axs[i].imshow(images[index])\n",
    "        label = labels[index].squeeze()\n",
    "        axs[i].set_title(\"Index: {}, Label: {} {}\".format(index, labels[index], NAMES[int(label)]))\n",
    "        axs[i].axis('off') # remove axis lines\n",
    "\n",
    "    # remove any empty subplots if the number of images is not a multiple of ncols\n",
    "    for i in range(num_images, ncols):\n",
    "        axs[i // ncols, i % ncols].axis('off')\n",
    "\n",
    "    plt.show()"
   ]
  },
  {
   "cell_type": "code",
   "execution_count": 7,
   "id": "0aa469d4-a4ba-4acc-9bb7-0b3b50f0d8dd",
   "metadata": {},
   "outputs": [],
   "source": [
    "# cifar10 label index\n",
    "NAMES = ['airplane', 'automobile', 'bird', 'cat', 'deer', 'dog', 'frog', 'horse', 'ship', 'truck']"
   ]
  },
  {
   "cell_type": "code",
   "execution_count": 14,
   "id": "4c1b1a86-2f62-4c90-b28c-bf0156b1cab1",
   "metadata": {},
   "outputs": [
    {
     "data": {
      "image/png": "[encoded data removed]",
      "text/plain": [
       "<Figure size 2200x600 with 4 Axes>"
      ]
     },
     "metadata": {},
     "output_type": "display_data"
    }
   ],
   "source": [
    "# 4 sample image\n",
    "'''ID number on labelerrors.com'''\n",
    "indices_to_visualize = [2405, 6877, 8058, 2532] \n",
    "show_image_with_index(x_train, y_train, indices_to_visualize)"
   ]
  },
  {
   "cell_type": "markdown",
   "id": "d35fda47-3a7c-4dc2-84ac-a6e0d22276ae",
   "metadata": {},
   "source": [
    "- 데이터를 가져올때 train, test데이터로 나눠서 가져오면서 index값이 달라진걸지도 모르겠다\n",
    "- 다시 데이터를 하나의 변수에 담아서 가져오고 index 값을 확인한다\n",
    "    - [cleanlab github](https://github.com/cleanlab/label-errors/tree/main?tab=readme-ov-file), [tutorial](https://github.com/cleanlab/label-errors/blob/main/examples/Tutorial%20-%20How%20To%20Find%20Label%20Errors%20With%20CleanLab.ipynb)\u001f코드를 보고 index정보를 가져오려고 했지만 시간내에 작업하는게 어려워보인다\n",
    "    - 지금까지 파악한 정보를 정리하면 \n",
    "        - test 데이터셋에 대한 error만 정리되어있음\n",
    "        - [json file](https://github.com/cleanlab/label-errors/blob/main/mturk/cifar10_mturk.json)에 원래 test dataset index가 적혀있다\n",
    "- json 파일을 불러와서 해당 정보를 활용해서 코드로 레이블을 바로 수정하는 작업을 하면 좋겠지만(그게 가능하려나?) 시간이 부족하니 index 정보에 맞춰서 수작업으로 해당 레이블을 수정해본다"
   ]
  },
  {
   "cell_type": "code",
   "execution_count": 15,
   "id": "4334fa3c-0f57-47d8-8258-24949ae4fed4",
   "metadata": {},
   "outputs": [],
   "source": [
    "# load test set\n",
    "_, (test_data, test_labels) = cifar10.load_data()"
   ]
  },
  {
   "cell_type": "code",
   "execution_count": 16,
   "id": "9e5381ac-f7f3-4646-9757-0947be5d9d7c",
   "metadata": {},
   "outputs": [
    {
     "data": {
      "image/png": "[encoded data removed]",
      "text/plain": [
       "<Figure size 2200x600 with 4 Axes>"
      ]
     },
     "metadata": {},
     "output_type": "display_data"
    }
   ],
   "source": [
    "# 4 sample images check \n",
    "indices_to_visualize = [20, 52, 57, 58] \n",
    "show_image_with_index(test_data, test_labels, indices_to_visualize)"
   ]
  },
  {
   "cell_type": "markdown",
   "id": "31fc24d5-82bc-4c3d-95c8-23b22cf7c180",
   "metadata": {},
   "source": [
    "- 이것도 아닌것같다.\n",
    "- 레이블 수정은 프로젝트 이후에 시간이 생기면 다시 도전!\n",
    "- 다시 dataset 생성"
   ]
  },
  {
   "cell_type": "code",
   "execution_count": 18,
   "id": "0d59e9ec-b3a9-4583-9d27-f2e92ea0db7f",
   "metadata": {},
   "outputs": [
    {
     "data": {
      "text/plain": [
       "((50000, 32, 32, 3), (50000, 1), (10000, 32, 32, 3), (10000, 1))"
      ]
     },
     "execution_count": 18,
     "metadata": {},
     "output_type": "execute_result"
    }
   ],
   "source": [
    "# load dataset\n",
    "(x_train, y_train), (x_test, y_test) = cifar10.load_data() \n",
    "x_train.shape, y_train.shape, x_test.shape, y_test.shape"
   ]
  },
  {
   "cell_type": "code",
   "execution_count": 21,
   "id": "1409c543-6b7e-4ff9-aa0d-de416a91c6c0",
   "metadata": {},
   "outputs": [
    {
     "data": {
      "text/plain": [
       "(array([[0., 0., 0., 0., 0., 0., 1., 0., 0., 0.],\n",
       "        [0., 0., 0., 0., 0., 0., 0., 0., 0., 1.],\n",
       "        [0., 0., 0., 0., 0., 0., 0., 0., 0., 1.]], dtype=float32),\n",
       " array([[0., 0., 0., 1., 0., 0., 0., 0., 0., 0.],\n",
       "        [0., 0., 0., 0., 0., 0., 0., 0., 1., 0.],\n",
       "        [0., 0., 0., 0., 0., 0., 0., 0., 1., 0.]], dtype=float32))"
      ]
     },
     "execution_count": 21,
     "metadata": {},
     "output_type": "execute_result"
    }
   ],
   "source": [
    "# label encoding - categorical \n",
    "y_train = tf.keras.utils.to_categorical(y_train)\n",
    "y_test = tf.keras.utils.to_categorical(y_test)\n",
    "\n",
    "y_train[:3], y_test[:3]"
   ]
  },
  {
   "cell_type": "code",
   "execution_count": 22,
   "id": "cad93413-9151-404f-8b7b-51d273de053b",
   "metadata": {},
   "outputs": [
    {
     "name": "stdout",
     "output_type": "stream",
     "text": [
      "(40000, 32, 32, 3)\n"
     ]
    }
   ],
   "source": [
    "# split data - train, validation = 8:2 \n",
    "X_train, X_val, y_train, y_val = train_test_split(x_train, y_train, test_size = 0.2)\n",
    "print(X_train.shape)"
   ]
  },
  {
   "cell_type": "markdown",
   "id": "54c3b343",
   "metadata": {},
   "source": [
    "---\n",
    "# 1. 모델 고정해서 사용\n",
    "<img src='./img/cifar10_model.png'>\n",
    "\n",
    "- 사진과 동일한 모델을 생성"
   ]
  },
  {
   "cell_type": "code",
   "execution_count": 24,
   "id": "128d2a78",
   "metadata": {},
   "outputs": [],
   "source": [
    "# build model\n",
    "def build_model():\n",
    "    model = tf.keras.Sequential()\n",
    "    model.add(tf.keras.Input(shape = X_train.shape[1:], name='inputs'))\n",
    "\n",
    "    # con2d layer 1\n",
    "    model.add(layers.Conv2D(32, (2,2), activation='relu'))\n",
    "    # average pooling layer 1\n",
    "    model.add(layers.AveragePooling2D(1,1))\n",
    "    # batch normalization 1\n",
    "    model.add(layers.BatchNormalization())\n",
    "    # conv2d layer 2\n",
    "    model.add(layers.Conv2D(64, (2,2), activation='relu'))\n",
    "    # average pooling layer 2\n",
    "    model.add(layers.AveragePooling2D(1,1))\n",
    "    # batch normalization 2\n",
    "    model.add(layers.BatchNormalization())\n",
    "\n",
    "    # flatten layer\n",
    "    model.add(layers.Flatten())\n",
    "    # dense layer\n",
    "    model.add(layers.Dense(256, activation='relu'))\n",
    "    # dropout layer - 50% \n",
    "    model.add(layers.Dropout(0.5))\n",
    "    # output layer\n",
    "    model.add(layers.Dense(10, activation='softmax', name = 'outputs'))\n",
    "\n",
    "    # compile\n",
    "    model.compile(optimizer = 'adam',\n",
    "              loss='categorical_crossentropy', \n",
    "              metrics=['accuracy'])\n",
    "    \n",
    "    return model"
   ]
  },
  {
   "cell_type": "code",
   "execution_count": 25,
   "id": "8f6dbb05",
   "metadata": {},
   "outputs": [
    {
     "name": "stderr",
     "output_type": "stream",
     "text": [
      "2024-01-29 16:36:18.778091: I metal_plugin/src/device/metal_device.cc:1154] Metal device set to: Apple M2\n",
      "2024-01-29 16:36:18.779526: I metal_plugin/src/device/metal_device.cc:296] systemMemory: 8.00 GB\n",
      "2024-01-29 16:36:18.779534: I metal_plugin/src/device/metal_device.cc:313] maxCacheSize: 2.67 GB\n",
      "2024-01-29 16:36:18.781046: I tensorflow/core/common_runtime/pluggable_device/pluggable_device_factory.cc:306] Could not identify NUMA node of platform GPU ID 0, defaulting to 0. Your kernel may not have been built with NUMA support.\n",
      "2024-01-29 16:36:18.782295: I tensorflow/core/common_runtime/pluggable_device/pluggable_device_factory.cc:272] Created TensorFlow device (/job:localhost/replica:0/task:0/device:GPU:0 with 0 MB memory) -> physical PluggableDevice (device: 0, name: METAL, pci bus id: <undefined>)\n"
     ]
    },
    {
     "name": "stdout",
     "output_type": "stream",
     "text": [
      "Model: \"sequential\"\n",
      "_________________________________________________________________\n",
      " Layer (type)                Output Shape              Param #   \n",
      "=================================================================\n",
      " conv2d (Conv2D)             (None, 31, 31, 32)        416       \n",
      "                                                                 \n",
      " average_pooling2d (Average  (None, 31, 31, 32)        0         \n",
      " Pooling2D)                                                      \n",
      "                                                                 \n",
      " batch_normalization (Batch  (None, 31, 31, 32)        128       \n",
      " Normalization)                                                  \n",
      "                                                                 \n",
      " conv2d_1 (Conv2D)           (None, 30, 30, 64)        8256      \n",
      "                                                                 \n",
      " average_pooling2d_1 (Avera  (None, 30, 30, 64)        0         \n",
      " gePooling2D)                                                    \n",
      "                                                                 \n",
      " batch_normalization_1 (Bat  (None, 30, 30, 64)        256       \n",
      " chNormalization)                                                \n",
      "                                                                 \n",
      " flatten (Flatten)           (None, 57600)             0         \n",
      "                                                                 \n",
      " dense (Dense)               (None, 256)               14745856  \n",
      "                                                                 \n",
      " dropout (Dropout)           (None, 256)               0         \n",
      "                                                                 \n",
      " outputs (Dense)             (None, 10)                2570      \n",
      "                                                                 \n",
      "=================================================================\n",
      "Total params: 14757482 (56.30 MB)\n",
      "Trainable params: 14757290 (56.29 MB)\n",
      "Non-trainable params: 192 (768.00 Byte)\n",
      "_________________________________________________________________\n"
     ]
    }
   ],
   "source": [
    "# make model\n",
    "model = build_model()\n",
    "\n",
    "model.summary()"
   ]
  },
  {
   "cell_type": "markdown",
   "id": "379c1adb-2493-4c25-b97c-3a0831e664f6",
   "metadata": {},
   "source": [
    "- 모델이 다르다.\n",
    "- gpt도움을 받아서 모델생성 함수 수정"
   ]
  },
  {
   "cell_type": "code",
   "execution_count": 26,
   "id": "93747730-6201-48f4-b3a7-63fb7cbfb918",
   "metadata": {},
   "outputs": [],
   "source": [
    "def build_modified_model():\n",
    "    model = tf.keras.Sequential()\n",
    "    model.add(tf.keras.Input(shape=X_train.shape[1:], name='inputs'))\n",
    "\n",
    "    # Conv2D layer 1\n",
    "    model.add(layers.Conv2D(32, (3, 3), activation='relu', padding='valid'))\n",
    "    # Average Pooling layer 1\n",
    "    model.add(layers.AveragePooling2D(2, 2))\n",
    "    # Batch Normalization 1\n",
    "    model.add(layers.BatchNormalization())\n",
    "\n",
    "    # Conv2D layer 2\n",
    "    model.add(layers.Conv2D(64, (3, 3), activation='relu', padding='valid'))\n",
    "    # Average Pooling layer 2\n",
    "    model.add(layers.AveragePooling2D(2, 2))\n",
    "    # Batch Normalization 2\n",
    "    model.add(layers.BatchNormalization())\n",
    "\n",
    "    # Flatten layer\n",
    "    model.add(layers.Flatten())\n",
    "    # Dense layer\n",
    "    model.add(layers.Dense(256, activation='relu'))\n",
    "    # Dropout layer - 50%\n",
    "    model.add(layers.Dropout(0.5))\n",
    "    # Output layer\n",
    "    model.add(layers.Dense(10, activation='softmax', name='outputs'))\n",
    "\n",
    "    # Compile\n",
    "    model.compile(optimizer='adam',\n",
    "                  loss='categorical_crossentropy',\n",
    "                  metrics=['accuracy'])\n",
    "\n",
    "    return model"
   ]
  },
  {
   "cell_type": "code",
   "execution_count": 28,
   "id": "df8208c6-229c-4328-9a25-2d05ee378cb4",
   "metadata": {},
   "outputs": [
    {
     "name": "stdout",
     "output_type": "stream",
     "text": [
      "Model: \"sequential_2\"\n",
      "_________________________________________________________________\n",
      " Layer (type)                Output Shape              Param #   \n",
      "=================================================================\n",
      " conv2d_4 (Conv2D)           (None, 30, 30, 32)        896       \n",
      "                                                                 \n",
      " average_pooling2d_4 (Avera  (None, 15, 15, 32)        0         \n",
      " gePooling2D)                                                    \n",
      "                                                                 \n",
      " batch_normalization_4 (Bat  (None, 15, 15, 32)        128       \n",
      " chNormalization)                                                \n",
      "                                                                 \n",
      " conv2d_5 (Conv2D)           (None, 13, 13, 64)        18496     \n",
      "                                                                 \n",
      " average_pooling2d_5 (Avera  (None, 6, 6, 64)          0         \n",
      " gePooling2D)                                                    \n",
      "                                                                 \n",
      " batch_normalization_5 (Bat  (None, 6, 6, 64)          256       \n",
      " chNormalization)                                                \n",
      "                                                                 \n",
      " flatten_2 (Flatten)         (None, 2304)              0         \n",
      "                                                                 \n",
      " dense_2 (Dense)             (None, 256)               590080    \n",
      "                                                                 \n",
      " dropout_2 (Dropout)         (None, 256)               0         \n",
      "                                                                 \n",
      " outputs (Dense)             (None, 10)                2570      \n",
      "                                                                 \n",
      "=================================================================\n",
      "Total params: 612426 (2.34 MB)\n",
      "Trainable params: 612234 (2.34 MB)\n",
      "Non-trainable params: 192 (768.00 Byte)\n",
      "_________________________________________________________________\n"
     ]
    }
   ],
   "source": [
    "# remake model\n",
    "model = build_modified_model()\n",
    "\n",
    "model.summary()"
   ]
  },
  {
   "cell_type": "markdown",
   "id": "f3249e31-78c0-4ef8-8292-70c78860f66a",
   "metadata": {},
   "source": [
    "- 같아졌다! 시간이 없으니 일단 패스"
   ]
  },
  {
   "cell_type": "markdown",
   "id": "96748087-9e70-43a7-8a3a-e1726ff9084c",
   "metadata": {},
   "source": [
    "# 2. 하이퍼파라미터 튜닝\n",
    "\n",
    "## DeepTuner\n",
    "- `kerastuner.Tuner`를 인자로 하는 class\n",
    "- `run_trial`,`save_model`,`load_model` 함수 실행\n",
    "    - `run_trial`에서 중요한 부분! : `hypermodel`, `trial`\n",
    "  \n",
    "  \n",
    "**KerasTuner의 hypermodel**\n",
    "\n",
    "- 모델 공유 및 재사용하기 위해 검색 공간을 캡슐화하는 모델\n",
    "- `hp` 인수를 사용해서 `keras.Model` 생성\n",
    "    - 만들고 싶은 모델을 쌓는 과정에서 하이퍼파라미터 튜닝을 위한 검색공간을 만들때 hp 인수를 사용해서 모델 생성\n",
    "- `build` 메소드를 활용하면 **모델빌드 + 하이퍼파라미텨 튜닝 시작**\n",
    "\n",
    "\n",
    "**KerasTuner의 trial**\n",
    "- Oracle에 속하는 class\n",
    "    - Oracle : KerasTuner`의 모든 검색 알고리즘에서 사용하는 기본 클래스\n",
    "- 종류 : RandomSearchOracle, BayesianOptimizationOracle, HyperbandOracle\n",
    "    - KerasTuner가 하이퍼파라미터를 정할때 사용하는 알고리즘\n",
    "- `trial.hyperparameter` : Oracle이 찾아야하는 하이퍼파라미터\n",
    "    - = `hypermodel`의 `hp`"
   ]
  },
  {
   "cell_type": "code",
   "execution_count": 32,
   "id": "489a4989-c3df-4ed4-a65e-d8d0012e04c1",
   "metadata": {},
   "outputs": [],
   "source": [
    "class DeepTuner(kt.Tuner):\n",
    "    def run_trial(self, trial, X, y, validation_data, **fit_kwargs):\n",
    "        # model은 고정이니 이 부분은 제외\n",
    "        # model = self.hypermodel.build(trial.hyperparameters)      # 모델빌드 + 하이퍼파라미터 튜닝 시작\n",
    "        model.fit(X, y, batch_size=trial.hyperparameters.Choice(  # trial : batch size 검색\n",
    "            'batch_size', [16, 32]), **fit_kwargs)\n",
    "\n",
    "\n",
    "        X_val, y_val = validation_data\n",
    "        eval_scores = model.evaluate(X_val, y_val)\n",
    "        return {name: value for name, value in zip(\n",
    "            model.metrics_names,\n",
    "            eval_scores)}"
   ]
  },
  {
   "cell_type": "markdown",
   "id": "b5938f0e-20c2-4b1d-9b09-c3692d40abd0",
   "metadata": {},
   "source": [
    "## KerasTuner 정의 & 파라미터 탐색\n",
    "- BayesianOptimizationOracle을 사용\n",
    "    - Objective :accuracy, max\n",
    "    - trial : 10\n",
    "- `search` : 파라미터 탐색 함수\n",
    "- 무거운 모델을 돌릴경우 하이퍼파라미터 튜닝 작업 소요시간이 늘어남\n",
    "    - **search epoch를 3-4로 작게 설정 -> 최고의 하이퍼파라미터 추출 -> 본격 모델학습때 epoch를 넉넉하게 설정**"
   ]
  },
  {
   "cell_type": "code",
   "execution_count": 33,
   "id": "99a75c4f-781e-4ddc-8ddf-92f61ca07412",
   "metadata": {},
   "outputs": [
    {
     "name": "stdout",
     "output_type": "stream",
     "text": [
      "Trial 2 Complete [00h 00m 57s]\n",
      "accuracy: 0.5863999724388123\n",
      "\n",
      "Best accuracy So Far: 0.5863999724388123\n",
      "Total elapsed time: 00h 02m 33s\n"
     ]
    }
   ],
   "source": [
    "# make keras tuner\n",
    "my_keras_tuner = DeepTuner(\n",
    "    oracle=kt.oracles.BayesianOptimizationOracle(\n",
    "        objective=kt.Objective('accuracy', 'max'),\n",
    "        max_trials=10,\n",
    "        seed=42),\n",
    "    # hypermodel=build_model,  # 모델은 고정되어있으니 이 부분은 제외\n",
    "    overwrite=True,\n",
    "    project_name='my_keras_tuner')\n",
    "\n",
    "# Navigate parameters\n",
    "my_keras_tuner.search(\n",
    "    X_train, y_train, validation_data=(X_val, y_val), epochs=3)"
   ]
  },
  {
   "cell_type": "markdown",
   "id": "e231eef5-1a9e-406b-b1d0-3bd84259228c",
   "metadata": {},
   "source": [
    "## Select best hyperparameter\n",
    "- `KerasTuner.get_best_hyperparamters`를 이용해서 가장 좋은 하이퍼파라미터 추출\n",
    "- 추출한 하이퍼파라미터를 build_model()에 넣어서 모델 생성"
   ]
  },
  {
   "cell_type": "code",
   "execution_count": 34,
   "id": "b7ecdb64-f0c0-4489-b122-4777a9a7c7bc",
   "metadata": {},
   "outputs": [
    {
     "ename": "TypeError",
     "evalue": "build_model() takes 0 positional arguments but 1 was given",
     "output_type": "error",
     "traceback": [
      "\u001b[0;31m---------------------------------------------------------------------------\u001b[0m",
      "\u001b[0;31mTypeError\u001b[0m                                 Traceback (most recent call last)",
      "Cell \u001b[0;32mIn[34], line 5\u001b[0m\n\u001b[1;32m      2\u001b[0m best_hps \u001b[38;5;241m=\u001b[39m my_keras_tuner\u001b[38;5;241m.\u001b[39mget_best_hyperparameters(num_trials\u001b[38;5;241m=\u001b[39m\u001b[38;5;241m10\u001b[39m)[\u001b[38;5;241m0\u001b[39m]\n\u001b[1;32m      4\u001b[0m \u001b[38;5;66;03m# Make the best model with the hyperparameters\u001b[39;00m\n\u001b[0;32m----> 5\u001b[0m model \u001b[38;5;241m=\u001b[39m \u001b[43mbuild_model\u001b[49m\u001b[43m(\u001b[49m\u001b[43mbest_hps\u001b[49m\u001b[43m)\u001b[49m\n\u001b[1;32m      6\u001b[0m model\u001b[38;5;241m.\u001b[39msummary()\n",
      "\u001b[0;31mTypeError\u001b[0m: build_model() takes 0 positional arguments but 1 was given"
     ]
    }
   ],
   "source": [
    "# Extract the best hyperparameters\n",
    "best_hps = my_keras_tuner.get_best_hyperparameters(num_trials=10)[0]\n",
    "\n",
    "# Make the best model with the hyperparameters\n",
    "model = build_model(best_hps)\n",
    "model.summary()"
   ]
  },
  {
   "cell_type": "markdown",
   "id": "72d4a561-20b4-43e0-bbb2-b151edcceda1",
   "metadata": {},
   "source": [
    "- 모델은 고정이라서 hp 인수를 받지 않는 형식으로 모델을 만들었는데, 받아서 만들어야했나보다."
   ]
  },
  {
   "cell_type": "markdown",
   "id": "d2c19d56-268e-46c6-b9ee-5be392fa3061",
   "metadata": {},
   "source": [
    "# ===== SUMMARY =====\n",
    "이론은 대충 어떤 흐름으로 진행되는지는 이해했지만 실제로 코드를 만들때 어떻게 적용해야하는지 어려웠다. keras tuner도 문제였지만 앞서서 labelerrors.com에서 label을 바꾸는 부분을 이해하느라 시간을 너무 많이 소요했다. 공부할게 많다:)"
   ]
  },
  {
   "cell_type": "markdown",
   "id": "b44868d3-debd-4976-9ff1-ee4bde83e5d2",
   "metadata": {},
   "source": [
    "# ===== KPT ======\n",
    "\n",
    "**[KEEP]**\n",
    "- 새로운 코드와 이론을 보는걸 두려워하지않았다:)\n",
    "\n",
    "**[PROBLEM]**\n",
    "- keras tuner의 실제 적용방식에 대한 이해가 부족하다. 모델을 고정시킨 경우엔 어떻게 모델을 만들고 tuner의 hp 인수를 설정해야하는지, 모델빌드는 어떻게 해야하는지 이해가 안되었다.\n",
    "- 레이블을 변경하는데 실패. 해당 홈페이지에 어떻게 레이블 정보를 만들어두었는지 내용을 파악하는데 시간이 너무 오래 걸렸다.\n",
    "\n",
    "**[TRY]**\n",
    "- 레이블을 고치는 부분부터 다시 차근차근 시도해본다\n",
    "- keras tuner도 정답지 노트북을 하나 찾아서 다시 필사해가며 공부한다"
   ]
  },
  {
   "cell_type": "code",
   "execution_count": null,
   "id": "adae9551-ebf3-45b1-b109-2c18f4bc4dda",
   "metadata": {},
   "outputs": [],
   "source": []
  }
 ],
 "metadata": {
  "kernelspec": {
   "display_name": "Python 3 (ipykernel)",
   "language": "python",
   "name": "python3"
  },
  "language_info": {
   "codemirror_mode": {
    "name": "ipython",
    "version": 3
   },
   "file_extension": ".py",
   "mimetype": "text/x-python",
   "name": "python",
   "nbconvert_exporter": "python",
   "pygments_lexer": "ipython3",
   "version": "3.9.18"
  },
  "toc": {
   "base_numbering": 1,
   "nav_menu": {},
   "number_sections": false,
   "sideBar": true,
   "skip_h1_title": false,
   "title_cell": "Table of Contents",
   "title_sidebar": "Contents",
   "toc_cell": false,
   "toc_position": {
    "height": "calc(100% - 180px)",
    "left": "10px",
    "top": "150px",
    "width": "241.797px"
   },
   "toc_section_display": true,
   "toc_window_display": false
  }
 },
 "nbformat": 4,
 "nbformat_minor": 5
}
