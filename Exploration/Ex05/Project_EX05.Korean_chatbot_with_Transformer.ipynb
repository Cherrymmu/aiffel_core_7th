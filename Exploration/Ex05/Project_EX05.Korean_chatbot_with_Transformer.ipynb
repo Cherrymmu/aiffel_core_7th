{
 "cells": [
  {
   "cell_type": "markdown",
   "id": "15ac4e0f",
   "metadata": {},
   "source": [
    "## Exploration 5. 트랜스포머로 만드는 대화형 챗봇\n",
    "\n",
    "# Project '한국어 데이터로 챗봇 만들기'\n",
    "- 영어로 만들었던 챗봇을 한국어 데이터로 바꿔서 훈련진행\n",
    "\n",
    "**[노드 학습내용]**\n",
    "\n",
    "- encoder, decoder 개념\n",
    "- Transformer 입력방식 - positionalencoding layer\n",
    "- attention mechanism\n",
    "    - Scaled dot-product attention\n",
    "    - Multi-head attention\n",
    "- Transformer maskings - Padding Masking, Look ahead Masking\n",
    "- Transformer 구조 설계\n",
    "- 데이터셋 준비 - 병렬 데이터 전처리, 교사강요\n",
    "- 트랜스포머 모델을 통한 챗봇 테스트\n",
    "\n",
    "\n",
    "**[진행과정]**\n",
    "1. Step 1. 데이터 준비\n",
    "2. Step 2. 트랜스포머 모델 구현\n",
    "3. Step 3. 모델 훈련\n",
    "4. Step 4. 모델 테스트\n"
   ]
  },
  {
   "cell_type": "code",
   "execution_count": 1,
   "id": "ae2113ce",
   "metadata": {},
   "outputs": [
    {
     "name": "stdout",
     "output_type": "stream",
     "text": [
      "2.6.0\n"
     ]
    }
   ],
   "source": [
    "# tensorflow version check\n",
    "import tensorflow as tf\n",
    "print(tf.__version__)"
   ]
  },
  {
   "cell_type": "code",
   "execution_count": 74,
   "id": "9078fde5",
   "metadata": {},
   "outputs": [],
   "source": [
    "# import libraries\n",
    "import tensorflow as tf\n",
    "import tensorflow_datasets as tfds\n",
    "import os\n",
    "import re\n",
    "import numpy as np\n",
    "import matplotlib.pyplot as plt"
   ]
  },
  {
   "cell_type": "markdown",
   "id": "3a79d30d",
   "metadata": {},
   "source": [
    "---\n",
    "\n",
    "# ===STEP 1. 데이터 준비===\n",
    "\n",
    "# Dataset\n",
    "**송영숙님이 공개한 한국어 챗봇 데이터** <br>\n",
    "[다운도르 링크:songys/Chatbot_data](https://github.com/songys/Chatbot_data/blob/master/ChatbotData.csv)\n",
    "\n",
    "- [Korpora](https://ko-nlp.github.io/Korpora/ko-docs/introduction/quicktour.html)를 참고해서 데이터 로드"
   ]
  },
  {
   "cell_type": "code",
   "execution_count": null,
   "id": "77cd158d",
   "metadata": {},
   "outputs": [],
   "source": [
    "# # prepare dataset directory \n",
    "# ! mkdir -p ~/aiffel/transformer_chatbot/data/\n",
    "# ! ln -s ~/data/* ~/aiffel/transformer_chatbot/data/"
   ]
  },
  {
   "cell_type": "code",
   "execution_count": 2,
   "id": "ef5383cf",
   "metadata": {
    "scrolled": true
   },
   "outputs": [
    {
     "name": "stdout",
     "output_type": "stream",
     "text": [
      "Collecting Korpora\n",
      "  Downloading Korpora-0.2.0-py3-none-any.whl (57 kB)\n",
      "\u001b[2K     \u001b[38;2;114;156;31m━━━━━━━━━━━━━━━━━━━━━━━━━━━━━━━━━━━━━━━━\u001b[0m \u001b[32m57.8/57.8 kB\u001b[0m \u001b[31m2.2 MB/s\u001b[0m eta \u001b[36m0:00:00\u001b[0m\n",
      "\u001b[?25hCollecting dataclasses>=0.6 (from Korpora)\n",
      "  Downloading dataclasses-0.6-py3-none-any.whl (14 kB)\n",
      "Requirement already satisfied: numpy>=1.18.0 in /Users/seullee/.pyenv/versions/home-env/lib/python3.11/site-packages (from Korpora) (1.26.2)\n",
      "Requirement already satisfied: tqdm>=4.46.0 in /Users/seullee/.pyenv/versions/home-env/lib/python3.11/site-packages (from Korpora) (4.66.1)\n",
      "Requirement already satisfied: requests>=2.20.0 in /Users/seullee/.pyenv/versions/home-env/lib/python3.11/site-packages (from Korpora) (2.31.0)\n",
      "Collecting xlrd>=1.2.0 (from Korpora)\n",
      "  Downloading xlrd-2.0.1-py2.py3-none-any.whl (96 kB)\n",
      "\u001b[2K     \u001b[38;2;114;156;31m━━━━━━━━━━━━━━━━━━━━━━━━━━━━━━━━━━━━━━━━\u001b[0m \u001b[32m96.5/96.5 kB\u001b[0m \u001b[31m3.8 MB/s\u001b[0m eta \u001b[36m0:00:00\u001b[0m\n",
      "\u001b[?25hRequirement already satisfied: charset-normalizer<4,>=2 in /Users/seullee/.pyenv/versions/home-env/lib/python3.11/site-packages (from requests>=2.20.0->Korpora) (3.3.2)\n",
      "Requirement already satisfied: idna<4,>=2.5 in /Users/seullee/.pyenv/versions/home-env/lib/python3.11/site-packages (from requests>=2.20.0->Korpora) (3.4)\n",
      "Requirement already satisfied: urllib3<3,>=1.21.1 in /Users/seullee/.pyenv/versions/home-env/lib/python3.11/site-packages (from requests>=2.20.0->Korpora) (2.1.0)\n",
      "Requirement already satisfied: certifi>=2017.4.17 in /Users/seullee/.pyenv/versions/home-env/lib/python3.11/site-packages (from requests>=2.20.0->Korpora) (2023.11.17)\n",
      "Installing collected packages: dataclasses, xlrd, Korpora\n",
      "Successfully installed Korpora-0.2.0 dataclasses-0.6 xlrd-2.0.1\n"
     ]
    }
   ],
   "source": [
    "# # download package\n",
    "# !pip install Korpora"
   ]
  },
  {
   "cell_type": "code",
   "execution_count": 4,
   "id": "de515887",
   "metadata": {},
   "outputs": [
    {
     "name": "stdout",
     "output_type": "stream",
     "text": [
      "/Users/seullee/Documents/STUDY-AI/AIFFEL/Aiffel_home/Exploration/Ex05\n"
     ]
    }
   ],
   "source": [
    "# prepare dataset directory \n",
    "# 현재 주피터 노트북이 실행 중인 디렉토리를 가져옴\n",
    "import os\n",
    "\n",
    "current_directory = os.getcwd()\n",
    "print(current_directory)"
   ]
  },
  {
   "cell_type": "code",
   "execution_count": 5,
   "id": "449f7cd4",
   "metadata": {},
   "outputs": [
    {
     "name": "stdout",
     "output_type": "stream",
     "text": [
      "/Users/seullee/Documents/STUDY-AI/AIFFEL/Aiffel_home/Exploration/Ex05/transformer_chatbot\n"
     ]
    }
   ],
   "source": [
    "# 데이터셋을 저장할 경로 설정 (현재 디렉토리 기준으로 상대 경로로 설정)\n",
    "data_path = os.path.join(current_directory, 'transformer_chatbot')\n",
    "\n",
    "# 경로가 존재하지 않는 경우, 해당 경로를 생성\n",
    "if not os.path.exists(data_path):\n",
    "    os.makedirs(data_path)\n",
    "\n",
    "print(data_path)"
   ]
  },
  {
   "cell_type": "code",
   "execution_count": 8,
   "id": "9397cc11",
   "metadata": {
    "scrolled": true
   },
   "outputs": [
    {
     "ename": "HTTPError",
     "evalue": "HTTP Error 404: Not Found",
     "output_type": "error",
     "traceback": [
      "\u001b[0;31m---------------------------------------------------------------------------\u001b[0m",
      "\u001b[0;31mHTTPError\u001b[0m                                 Traceback (most recent call last)",
      "Cell \u001b[0;32mIn[8], line 6\u001b[0m\n\u001b[1;32m      3\u001b[0m \u001b[38;5;28;01mimport\u001b[39;00m \u001b[38;5;21;01mrequests\u001b[39;00m\n\u001b[1;32m      4\u001b[0m \u001b[38;5;28;01mfrom\u001b[39;00m \u001b[38;5;21;01mKorpora\u001b[39;00m \u001b[38;5;28;01mimport\u001b[39;00m Korpora\n\u001b[0;32m----> 6\u001b[0m corpus \u001b[38;5;241m=\u001b[39m \u001b[43mKorpora\u001b[49m\u001b[38;5;241;43m.\u001b[39;49m\u001b[43mfetch\u001b[49m\u001b[43m(\u001b[49m\u001b[38;5;124;43m\"\u001b[39;49m\u001b[38;5;124;43mkorean_chatbot_data\u001b[39;49m\u001b[38;5;124;43m\"\u001b[39;49m\u001b[43m,\u001b[49m\u001b[43m \u001b[49m\u001b[43mroot_dir\u001b[49m\u001b[38;5;241;43m=\u001b[39;49m\u001b[43mdata_path\u001b[49m\u001b[43m)\u001b[49m\n",
      "File \u001b[0;32m~/.pyenv/versions/home-env/lib/python3.11/site-packages/Korpora/loader.py:70\u001b[0m, in \u001b[0;36mKorpora.fetch\u001b[0;34m(cls, corpus_name, root_dir, force_download)\u001b[0m\n\u001b[1;32m     68\u001b[0m \u001b[38;5;28;01mfor\u001b[39;00m name \u001b[38;5;129;01min\u001b[39;00m corpus_name:\n\u001b[1;32m     69\u001b[0m     fetch_func \u001b[38;5;241m=\u001b[39m FETCH[name]\n\u001b[0;32m---> 70\u001b[0m     \u001b[43mfetch_func\u001b[49m\u001b[43m(\u001b[49m\u001b[43mroot_dir\u001b[49m\u001b[43m,\u001b[49m\u001b[43m \u001b[49m\u001b[43mforce_download\u001b[49m\u001b[43m)\u001b[49m\n",
      "File \u001b[0;32m~/.pyenv/versions/home-env/lib/python3.11/site-packages/Korpora/korpus_chatbot_data.py:73\u001b[0m, in \u001b[0;36mfetch_chatbot\u001b[0;34m(root_dir, force_download)\u001b[0m\n\u001b[1;32m     71\u001b[0m destination \u001b[38;5;241m=\u001b[39m information[\u001b[38;5;124m'\u001b[39m\u001b[38;5;124mdestination\u001b[39m\u001b[38;5;124m'\u001b[39m]\n\u001b[1;32m     72\u001b[0m local_path \u001b[38;5;241m=\u001b[39m os\u001b[38;5;241m.\u001b[39mpath\u001b[38;5;241m.\u001b[39mjoin(os\u001b[38;5;241m.\u001b[39mpath\u001b[38;5;241m.\u001b[39mabspath(root_dir), destination)\n\u001b[0;32m---> 73\u001b[0m \u001b[43mfetch\u001b[49m\u001b[43m(\u001b[49m\u001b[43murl\u001b[49m\u001b[43m,\u001b[49m\u001b[43m \u001b[49m\u001b[43mlocal_path\u001b[49m\u001b[43m,\u001b[49m\u001b[43m \u001b[49m\u001b[38;5;124;43m'\u001b[39;49m\u001b[38;5;124;43mkorean_chatbot_data\u001b[39;49m\u001b[38;5;124;43m'\u001b[39;49m\u001b[43m,\u001b[49m\u001b[43m \u001b[49m\u001b[43mforce_download\u001b[49m\u001b[43m,\u001b[49m\u001b[43m \u001b[49m\u001b[43minformation\u001b[49m\u001b[43m[\u001b[49m\u001b[38;5;124;43m'\u001b[39;49m\u001b[38;5;124;43mmethod\u001b[39;49m\u001b[38;5;124;43m'\u001b[39;49m\u001b[43m]\u001b[49m\u001b[43m)\u001b[49m\n",
      "File \u001b[0;32m~/.pyenv/versions/home-env/lib/python3.11/site-packages/Korpora/utils.py:215\u001b[0m, in \u001b[0;36mfetch\u001b[0;34m(remote_path, local_path, corpus_name, force_download, method)\u001b[0m\n\u001b[1;32m    212\u001b[0m check_dir(destination)\n\u001b[1;32m    214\u001b[0m \u001b[38;5;28;01mif\u001b[39;00m method \u001b[38;5;241m==\u001b[39m \u001b[38;5;124m\"\u001b[39m\u001b[38;5;124mdownload\u001b[39m\u001b[38;5;124m\"\u001b[39m:\n\u001b[0;32m--> 215\u001b[0m     \u001b[43mweb_download\u001b[49m\u001b[43m(\u001b[49m\u001b[43mremote_path\u001b[49m\u001b[43m,\u001b[49m\u001b[43m \u001b[49m\u001b[43mdestination\u001b[49m\u001b[43m,\u001b[49m\u001b[43m \u001b[49m\u001b[43mcorpus_name\u001b[49m\u001b[43m,\u001b[49m\u001b[43m \u001b[49m\u001b[43mforce_download\u001b[49m\u001b[43m)\u001b[49m\n\u001b[1;32m    216\u001b[0m \u001b[38;5;28;01melif\u001b[39;00m method \u001b[38;5;241m==\u001b[39m \u001b[38;5;124m\"\u001b[39m\u001b[38;5;124mgoogle_drive\u001b[39m\u001b[38;5;124m\"\u001b[39m:\n\u001b[1;32m    217\u001b[0m     google_drive_download(remote_path, destination, corpus_name, force_download)\n",
      "File \u001b[0;32m~/.pyenv/versions/home-env/lib/python3.11/site-packages/Korpora/utils.py:110\u001b[0m, in \u001b[0;36mweb_download\u001b[0;34m(url, local_path, corpus_name, force_download)\u001b[0m\n\u001b[1;32m    109\u001b[0m \u001b[38;5;28;01mdef\u001b[39;00m \u001b[38;5;21mweb_download\u001b[39m(url, local_path, corpus_name\u001b[38;5;241m=\u001b[39m\u001b[38;5;124m'\u001b[39m\u001b[38;5;124m'\u001b[39m, force_download\u001b[38;5;241m=\u001b[39m\u001b[38;5;28;01mFalse\u001b[39;00m):\n\u001b[0;32m--> 110\u001b[0m     site \u001b[38;5;241m=\u001b[39m \u001b[43mrequest\u001b[49m\u001b[38;5;241;43m.\u001b[39;49m\u001b[43murlopen\u001b[49m\u001b[43m(\u001b[49m\u001b[43murl\u001b[49m\u001b[43m)\u001b[49m\n\u001b[1;32m    111\u001b[0m     meta \u001b[38;5;241m=\u001b[39m site\u001b[38;5;241m.\u001b[39minfo()\n\u001b[1;32m    112\u001b[0m     remote_size \u001b[38;5;241m=\u001b[39m \u001b[38;5;28mint\u001b[39m(meta[\u001b[38;5;124m'\u001b[39m\u001b[38;5;124mContent-Length\u001b[39m\u001b[38;5;124m'\u001b[39m])\n",
      "File \u001b[0;32m~/.pyenv/versions/3.11.1/lib/python3.11/urllib/request.py:216\u001b[0m, in \u001b[0;36murlopen\u001b[0;34m(url, data, timeout, cafile, capath, cadefault, context)\u001b[0m\n\u001b[1;32m    214\u001b[0m \u001b[38;5;28;01melse\u001b[39;00m:\n\u001b[1;32m    215\u001b[0m     opener \u001b[38;5;241m=\u001b[39m _opener\n\u001b[0;32m--> 216\u001b[0m \u001b[38;5;28;01mreturn\u001b[39;00m \u001b[43mopener\u001b[49m\u001b[38;5;241;43m.\u001b[39;49m\u001b[43mopen\u001b[49m\u001b[43m(\u001b[49m\u001b[43murl\u001b[49m\u001b[43m,\u001b[49m\u001b[43m \u001b[49m\u001b[43mdata\u001b[49m\u001b[43m,\u001b[49m\u001b[43m \u001b[49m\u001b[43mtimeout\u001b[49m\u001b[43m)\u001b[49m\n",
      "File \u001b[0;32m~/.pyenv/versions/3.11.1/lib/python3.11/urllib/request.py:525\u001b[0m, in \u001b[0;36mOpenerDirector.open\u001b[0;34m(self, fullurl, data, timeout)\u001b[0m\n\u001b[1;32m    523\u001b[0m \u001b[38;5;28;01mfor\u001b[39;00m processor \u001b[38;5;129;01min\u001b[39;00m \u001b[38;5;28mself\u001b[39m\u001b[38;5;241m.\u001b[39mprocess_response\u001b[38;5;241m.\u001b[39mget(protocol, []):\n\u001b[1;32m    524\u001b[0m     meth \u001b[38;5;241m=\u001b[39m \u001b[38;5;28mgetattr\u001b[39m(processor, meth_name)\n\u001b[0;32m--> 525\u001b[0m     response \u001b[38;5;241m=\u001b[39m \u001b[43mmeth\u001b[49m\u001b[43m(\u001b[49m\u001b[43mreq\u001b[49m\u001b[43m,\u001b[49m\u001b[43m \u001b[49m\u001b[43mresponse\u001b[49m\u001b[43m)\u001b[49m\n\u001b[1;32m    527\u001b[0m \u001b[38;5;28;01mreturn\u001b[39;00m response\n",
      "File \u001b[0;32m~/.pyenv/versions/3.11.1/lib/python3.11/urllib/request.py:634\u001b[0m, in \u001b[0;36mHTTPErrorProcessor.http_response\u001b[0;34m(self, request, response)\u001b[0m\n\u001b[1;32m    631\u001b[0m \u001b[38;5;66;03m# According to RFC 2616, \"2xx\" code indicates that the client's\u001b[39;00m\n\u001b[1;32m    632\u001b[0m \u001b[38;5;66;03m# request was successfully received, understood, and accepted.\u001b[39;00m\n\u001b[1;32m    633\u001b[0m \u001b[38;5;28;01mif\u001b[39;00m \u001b[38;5;129;01mnot\u001b[39;00m (\u001b[38;5;241m200\u001b[39m \u001b[38;5;241m<\u001b[39m\u001b[38;5;241m=\u001b[39m code \u001b[38;5;241m<\u001b[39m \u001b[38;5;241m300\u001b[39m):\n\u001b[0;32m--> 634\u001b[0m     response \u001b[38;5;241m=\u001b[39m \u001b[38;5;28;43mself\u001b[39;49m\u001b[38;5;241;43m.\u001b[39;49m\u001b[43mparent\u001b[49m\u001b[38;5;241;43m.\u001b[39;49m\u001b[43merror\u001b[49m\u001b[43m(\u001b[49m\n\u001b[1;32m    635\u001b[0m \u001b[43m        \u001b[49m\u001b[38;5;124;43m'\u001b[39;49m\u001b[38;5;124;43mhttp\u001b[39;49m\u001b[38;5;124;43m'\u001b[39;49m\u001b[43m,\u001b[49m\u001b[43m \u001b[49m\u001b[43mrequest\u001b[49m\u001b[43m,\u001b[49m\u001b[43m \u001b[49m\u001b[43mresponse\u001b[49m\u001b[43m,\u001b[49m\u001b[43m \u001b[49m\u001b[43mcode\u001b[49m\u001b[43m,\u001b[49m\u001b[43m \u001b[49m\u001b[43mmsg\u001b[49m\u001b[43m,\u001b[49m\u001b[43m \u001b[49m\u001b[43mhdrs\u001b[49m\u001b[43m)\u001b[49m\n\u001b[1;32m    637\u001b[0m \u001b[38;5;28;01mreturn\u001b[39;00m response\n",
      "File \u001b[0;32m~/.pyenv/versions/3.11.1/lib/python3.11/urllib/request.py:563\u001b[0m, in \u001b[0;36mOpenerDirector.error\u001b[0;34m(self, proto, *args)\u001b[0m\n\u001b[1;32m    561\u001b[0m \u001b[38;5;28;01mif\u001b[39;00m http_err:\n\u001b[1;32m    562\u001b[0m     args \u001b[38;5;241m=\u001b[39m (\u001b[38;5;28mdict\u001b[39m, \u001b[38;5;124m'\u001b[39m\u001b[38;5;124mdefault\u001b[39m\u001b[38;5;124m'\u001b[39m, \u001b[38;5;124m'\u001b[39m\u001b[38;5;124mhttp_error_default\u001b[39m\u001b[38;5;124m'\u001b[39m) \u001b[38;5;241m+\u001b[39m orig_args\n\u001b[0;32m--> 563\u001b[0m     \u001b[38;5;28;01mreturn\u001b[39;00m \u001b[38;5;28;43mself\u001b[39;49m\u001b[38;5;241;43m.\u001b[39;49m\u001b[43m_call_chain\u001b[49m\u001b[43m(\u001b[49m\u001b[38;5;241;43m*\u001b[39;49m\u001b[43margs\u001b[49m\u001b[43m)\u001b[49m\n",
      "File \u001b[0;32m~/.pyenv/versions/3.11.1/lib/python3.11/urllib/request.py:496\u001b[0m, in \u001b[0;36mOpenerDirector._call_chain\u001b[0;34m(self, chain, kind, meth_name, *args)\u001b[0m\n\u001b[1;32m    494\u001b[0m \u001b[38;5;28;01mfor\u001b[39;00m handler \u001b[38;5;129;01min\u001b[39;00m handlers:\n\u001b[1;32m    495\u001b[0m     func \u001b[38;5;241m=\u001b[39m \u001b[38;5;28mgetattr\u001b[39m(handler, meth_name)\n\u001b[0;32m--> 496\u001b[0m     result \u001b[38;5;241m=\u001b[39m \u001b[43mfunc\u001b[49m\u001b[43m(\u001b[49m\u001b[38;5;241;43m*\u001b[39;49m\u001b[43margs\u001b[49m\u001b[43m)\u001b[49m\n\u001b[1;32m    497\u001b[0m     \u001b[38;5;28;01mif\u001b[39;00m result \u001b[38;5;129;01mis\u001b[39;00m \u001b[38;5;129;01mnot\u001b[39;00m \u001b[38;5;28;01mNone\u001b[39;00m:\n\u001b[1;32m    498\u001b[0m         \u001b[38;5;28;01mreturn\u001b[39;00m result\n",
      "File \u001b[0;32m~/.pyenv/versions/3.11.1/lib/python3.11/urllib/request.py:643\u001b[0m, in \u001b[0;36mHTTPDefaultErrorHandler.http_error_default\u001b[0;34m(self, req, fp, code, msg, hdrs)\u001b[0m\n\u001b[1;32m    642\u001b[0m \u001b[38;5;28;01mdef\u001b[39;00m \u001b[38;5;21mhttp_error_default\u001b[39m(\u001b[38;5;28mself\u001b[39m, req, fp, code, msg, hdrs):\n\u001b[0;32m--> 643\u001b[0m     \u001b[38;5;28;01mraise\u001b[39;00m HTTPError(req\u001b[38;5;241m.\u001b[39mfull_url, code, msg, hdrs, fp)\n",
      "\u001b[0;31mHTTPError\u001b[0m: HTTP Error 404: Not Found"
     ]
    }
   ],
   "source": [
    "# download data\n",
    "# Korpora package중에서 송영숙님 챗봇데이터  'korean_chatbot_data'만 사용\n",
    "import requests\n",
    "from Korpora import Korpora\n",
    "\n",
    "corpus = Korpora.fetch(\"korean_chatbot_data\", root_dir=data_path)"
   ]
  },
  {
   "cell_type": "markdown",
   "id": "d1955f5a",
   "metadata": {},
   "source": [
    "- url을 읽어오는 부분에서 에러가 생기는것같다. (참고-[stackoverflow](https://stackoverflow.com/questions/42441211/python-urllib-error-httperror-http-error-404-not-found))\n",
    "- 터미널 명령어로 시도"
   ]
  },
  {
   "cell_type": "code",
   "execution_count": 9,
   "id": "7fa273ae",
   "metadata": {
    "scrolled": true
   },
   "outputs": [
    {
     "data": {
      "text/plain": [
       "{'kcbert': 'beomi@github 님이 만드신 KcBERT 학습데이터',\n",
       " 'korean_chatbot_data': 'songys@github 님이 만드신 챗봇 문답 데이터',\n",
       " 'korean_hate_speech': '{inmoonlight,warnikchow,beomi}@github 님이 만드신 혐오댓글데이터',\n",
       " 'korean_parallel_koen_news': 'jungyeul@github 님이 만드신 병렬 말뭉치',\n",
       " 'korean_petitions': 'lovit@github 님이 만드신 2017.08 ~ 2019.03 청와대 청원데이터',\n",
       " 'kornli': 'KakaoBrain 에서 제공하는 Natural Language Inference (NLI) 데이터',\n",
       " 'korsts': 'KakaoBrain 에서 제공하는 Semantic Textual Similarity (STS) 데이터',\n",
       " 'kowikitext': 'lovit@github 님이 만드신 wikitext 형식의 한국어 위키피디아 데이터',\n",
       " 'namuwikitext': 'lovit@github 님이 만드신 wikitext 형식의 나무위키 데이터',\n",
       " 'naver_changwon_ner': '네이버 + 창원대 NER shared task data',\n",
       " 'nsmc': 'e9t@github 님이 만드신 Naver sentiment movie corpus v1.0',\n",
       " 'question_pair': 'songys@github 님이 만드신 질문쌍(Paired Question v.2)',\n",
       " 'modu_news': '국립국어원에서 만든 모두의 말뭉치: 뉴스 말뭉치',\n",
       " 'modu_messenger': '국립국어원에서 만든 모두의 말뭉치: 메신저 말뭉치',\n",
       " 'modu_mp': '국립국어원에서 만든 모두의 말뭉치: 형태 분석 말뭉치',\n",
       " 'modu_ne': '국립국어원에서 만든 모두의 말뭉치: 개체명 분석 말뭉치',\n",
       " 'modu_spoken': '국립국어원에서 만든 모두의 말뭉치: 구어 말뭉치',\n",
       " 'modu_web': '국립국어원에서 만든 모두의 말뭉치: 웹 말뭉치',\n",
       " 'modu_written': '국립국어원에서 만든 모두의 말뭉치: 문어 말뭉치',\n",
       " 'open_subtitles': 'Open parallel corpus (OPUS) 에서 제공하는 영화 자막 번역 병렬 말뭉치',\n",
       " 'aihub_translation': 'AI Hub 에서 제공하는 번역용 병렬 말뭉치 (구어 + 대화 + 뉴스 + 한국문화 + 조례 + 지자체웹사이트)',\n",
       " 'aihub_spoken_translation': 'AI Hub 에서 제공하는 번역용 병렬 말뭉치 (구어)',\n",
       " 'aihub_conversation_translation': 'AI Hub 에서 제공하는 번역용 병렬 말뭉치 (대화)',\n",
       " 'aihub_news_translation': 'AI Hub 에서 제공하는 번역용 병렬 말뭉치 (뉴스)',\n",
       " 'aihub_korean_culture_translation': 'AI Hub 에서 제공하는 번역용 병렬 말뭉치 (한국문화)',\n",
       " 'aihub_decree_translation': 'AI Hub 에서 제공하는 번역용 병렬 말뭉치 (조례)',\n",
       " 'aihub_government_website_translation': 'AI Hub 에서 제공하는 번역용 병렬 말뭉치 (지자체웹사이트)'}"
      ]
     },
     "execution_count": 9,
     "metadata": {},
     "output_type": "execute_result"
    }
   ],
   "source": [
    "Korpora.corpus_list()"
   ]
  },
  {
   "cell_type": "code",
   "execution_count": 15,
   "id": "5506a68b",
   "metadata": {},
   "outputs": [
    {
     "name": "stdout",
     "output_type": "stream",
     "text": [
      "usage: korpora [-h] {fetch,list,lmdata} ...\n",
      "korpora: error: unrecognized arguments: --root_dir\n"
     ]
    }
   ],
   "source": [
    "!korpora fetch --corpus korean_chatbot_data --root_dir $PROJECT_DATA"
   ]
  },
  {
   "cell_type": "code",
   "execution_count": 16,
   "id": "a75c1ee5",
   "metadata": {
    "scrolled": true
   },
   "outputs": [
    {
     "name": "stdout",
     "output_type": "stream",
     "text": [
      "\n",
      "    Korpora 는 다른 분들이 연구 목적으로 공유해주신 말뭉치들을\n",
      "    손쉽게 다운로드, 사용할 수 있는 기능만을 제공합니다.\n",
      "\n",
      "    말뭉치들을 공유해 주신 분들에게 감사드리며, 각 말뭉치 별 설명과 라이센스를 공유 드립니다.\n",
      "    해당 말뭉치에 대해 자세히 알고 싶으신 분은 아래의 description 을 참고,\n",
      "    해당 말뭉치를 연구/상용의 목적으로 이용하실 때에는 아래의 라이센스를 참고해 주시기 바랍니다.\n",
      "\n",
      "    # Description\n",
      "    Author : songys@github\n",
      "    Repository : https://github.com/songys/Chatbot_data\n",
      "    References :\n",
      "\n",
      "    Chatbot_data_for_Korean v1.0\n",
      "      1. 챗봇 트레이닝용 문답 페어 11,876개\n",
      "      2. 일상다반사 0, 이별(부정) 1, 사랑(긍정) 2로 레이블링\n",
      "    자세한 내용은 위의 repository를 참고하세요.\n",
      "\n",
      "    # License\n",
      "    CC0 1.0 Universal (CC0 1.0) Public Domain Dedication\n",
      "    Details in https://creativecommons.org/publicdomain/zero/1.0/\n",
      "\n"
     ]
    },
    {
     "ename": "HTTPError",
     "evalue": "HTTP Error 404: Not Found",
     "output_type": "error",
     "traceback": [
      "\u001b[0;31m---------------------------------------------------------------------------\u001b[0m",
      "\u001b[0;31mHTTPError\u001b[0m                                 Traceback (most recent call last)",
      "Cell \u001b[0;32mIn[16], line 2\u001b[0m\n\u001b[1;32m      1\u001b[0m \u001b[38;5;28;01mfrom\u001b[39;00m \u001b[38;5;21;01mKorpora\u001b[39;00m \u001b[38;5;28;01mimport\u001b[39;00m KoreanChatbotKorpus\n\u001b[0;32m----> 2\u001b[0m corpus \u001b[38;5;241m=\u001b[39m \u001b[43mKoreanChatbotKorpus\u001b[49m\u001b[43m(\u001b[49m\u001b[43mroot_dir\u001b[49m\u001b[38;5;241;43m=\u001b[39;49m\u001b[43mdata_path\u001b[49m\u001b[43m)\u001b[49m\n",
      "File \u001b[0;32m~/.pyenv/versions/home-env/lib/python3.11/site-packages/Korpora/korpus_chatbot_data.py:44\u001b[0m, in \u001b[0;36mKoreanChatbotKorpus.__init__\u001b[0;34m(self, root_dir, force_download)\u001b[0m\n\u001b[1;32m     42\u001b[0m \u001b[38;5;28;01mif\u001b[39;00m root_dir \u001b[38;5;129;01mis\u001b[39;00m \u001b[38;5;28;01mNone\u001b[39;00m:\n\u001b[1;32m     43\u001b[0m     root_dir \u001b[38;5;241m=\u001b[39m default_korpora_path\n\u001b[0;32m---> 44\u001b[0m \u001b[43mfetch_chatbot\u001b[49m\u001b[43m(\u001b[49m\u001b[43mroot_dir\u001b[49m\u001b[43m,\u001b[49m\u001b[43m \u001b[49m\u001b[43mforce_download\u001b[49m\u001b[43m)\u001b[49m\n\u001b[1;32m     46\u001b[0m local_path \u001b[38;5;241m=\u001b[39m os\u001b[38;5;241m.\u001b[39mpath\u001b[38;5;241m.\u001b[39mjoin(os\u001b[38;5;241m.\u001b[39mpath\u001b[38;5;241m.\u001b[39mabspath(root_dir), KOREAN_CHATBOT_FETCH_INFORMATION[\u001b[38;5;241m0\u001b[39m][\u001b[38;5;124m'\u001b[39m\u001b[38;5;124mdestination\u001b[39m\u001b[38;5;124m'\u001b[39m])\n\u001b[1;32m     47\u001b[0m \u001b[38;5;28;01mwith\u001b[39;00m \u001b[38;5;28mopen\u001b[39m(local_path, \u001b[38;5;124m'\u001b[39m\u001b[38;5;124mr\u001b[39m\u001b[38;5;124m'\u001b[39m, encoding\u001b[38;5;241m=\u001b[39m\u001b[38;5;124m'\u001b[39m\u001b[38;5;124mutf-8\u001b[39m\u001b[38;5;124m'\u001b[39m) \u001b[38;5;28;01mas\u001b[39;00m f:\n",
      "File \u001b[0;32m~/.pyenv/versions/home-env/lib/python3.11/site-packages/Korpora/korpus_chatbot_data.py:73\u001b[0m, in \u001b[0;36mfetch_chatbot\u001b[0;34m(root_dir, force_download)\u001b[0m\n\u001b[1;32m     71\u001b[0m destination \u001b[38;5;241m=\u001b[39m information[\u001b[38;5;124m'\u001b[39m\u001b[38;5;124mdestination\u001b[39m\u001b[38;5;124m'\u001b[39m]\n\u001b[1;32m     72\u001b[0m local_path \u001b[38;5;241m=\u001b[39m os\u001b[38;5;241m.\u001b[39mpath\u001b[38;5;241m.\u001b[39mjoin(os\u001b[38;5;241m.\u001b[39mpath\u001b[38;5;241m.\u001b[39mabspath(root_dir), destination)\n\u001b[0;32m---> 73\u001b[0m \u001b[43mfetch\u001b[49m\u001b[43m(\u001b[49m\u001b[43murl\u001b[49m\u001b[43m,\u001b[49m\u001b[43m \u001b[49m\u001b[43mlocal_path\u001b[49m\u001b[43m,\u001b[49m\u001b[43m \u001b[49m\u001b[38;5;124;43m'\u001b[39;49m\u001b[38;5;124;43mkorean_chatbot_data\u001b[39;49m\u001b[38;5;124;43m'\u001b[39;49m\u001b[43m,\u001b[49m\u001b[43m \u001b[49m\u001b[43mforce_download\u001b[49m\u001b[43m,\u001b[49m\u001b[43m \u001b[49m\u001b[43minformation\u001b[49m\u001b[43m[\u001b[49m\u001b[38;5;124;43m'\u001b[39;49m\u001b[38;5;124;43mmethod\u001b[39;49m\u001b[38;5;124;43m'\u001b[39;49m\u001b[43m]\u001b[49m\u001b[43m)\u001b[49m\n",
      "File \u001b[0;32m~/.pyenv/versions/home-env/lib/python3.11/site-packages/Korpora/utils.py:215\u001b[0m, in \u001b[0;36mfetch\u001b[0;34m(remote_path, local_path, corpus_name, force_download, method)\u001b[0m\n\u001b[1;32m    212\u001b[0m check_dir(destination)\n\u001b[1;32m    214\u001b[0m \u001b[38;5;28;01mif\u001b[39;00m method \u001b[38;5;241m==\u001b[39m \u001b[38;5;124m\"\u001b[39m\u001b[38;5;124mdownload\u001b[39m\u001b[38;5;124m\"\u001b[39m:\n\u001b[0;32m--> 215\u001b[0m     \u001b[43mweb_download\u001b[49m\u001b[43m(\u001b[49m\u001b[43mremote_path\u001b[49m\u001b[43m,\u001b[49m\u001b[43m \u001b[49m\u001b[43mdestination\u001b[49m\u001b[43m,\u001b[49m\u001b[43m \u001b[49m\u001b[43mcorpus_name\u001b[49m\u001b[43m,\u001b[49m\u001b[43m \u001b[49m\u001b[43mforce_download\u001b[49m\u001b[43m)\u001b[49m\n\u001b[1;32m    216\u001b[0m \u001b[38;5;28;01melif\u001b[39;00m method \u001b[38;5;241m==\u001b[39m \u001b[38;5;124m\"\u001b[39m\u001b[38;5;124mgoogle_drive\u001b[39m\u001b[38;5;124m\"\u001b[39m:\n\u001b[1;32m    217\u001b[0m     google_drive_download(remote_path, destination, corpus_name, force_download)\n",
      "File \u001b[0;32m~/.pyenv/versions/home-env/lib/python3.11/site-packages/Korpora/utils.py:110\u001b[0m, in \u001b[0;36mweb_download\u001b[0;34m(url, local_path, corpus_name, force_download)\u001b[0m\n\u001b[1;32m    109\u001b[0m \u001b[38;5;28;01mdef\u001b[39;00m \u001b[38;5;21mweb_download\u001b[39m(url, local_path, corpus_name\u001b[38;5;241m=\u001b[39m\u001b[38;5;124m'\u001b[39m\u001b[38;5;124m'\u001b[39m, force_download\u001b[38;5;241m=\u001b[39m\u001b[38;5;28;01mFalse\u001b[39;00m):\n\u001b[0;32m--> 110\u001b[0m     site \u001b[38;5;241m=\u001b[39m \u001b[43mrequest\u001b[49m\u001b[38;5;241;43m.\u001b[39;49m\u001b[43murlopen\u001b[49m\u001b[43m(\u001b[49m\u001b[43murl\u001b[49m\u001b[43m)\u001b[49m\n\u001b[1;32m    111\u001b[0m     meta \u001b[38;5;241m=\u001b[39m site\u001b[38;5;241m.\u001b[39minfo()\n\u001b[1;32m    112\u001b[0m     remote_size \u001b[38;5;241m=\u001b[39m \u001b[38;5;28mint\u001b[39m(meta[\u001b[38;5;124m'\u001b[39m\u001b[38;5;124mContent-Length\u001b[39m\u001b[38;5;124m'\u001b[39m])\n",
      "File \u001b[0;32m~/.pyenv/versions/3.11.1/lib/python3.11/urllib/request.py:216\u001b[0m, in \u001b[0;36murlopen\u001b[0;34m(url, data, timeout, cafile, capath, cadefault, context)\u001b[0m\n\u001b[1;32m    214\u001b[0m \u001b[38;5;28;01melse\u001b[39;00m:\n\u001b[1;32m    215\u001b[0m     opener \u001b[38;5;241m=\u001b[39m _opener\n\u001b[0;32m--> 216\u001b[0m \u001b[38;5;28;01mreturn\u001b[39;00m \u001b[43mopener\u001b[49m\u001b[38;5;241;43m.\u001b[39;49m\u001b[43mopen\u001b[49m\u001b[43m(\u001b[49m\u001b[43murl\u001b[49m\u001b[43m,\u001b[49m\u001b[43m \u001b[49m\u001b[43mdata\u001b[49m\u001b[43m,\u001b[49m\u001b[43m \u001b[49m\u001b[43mtimeout\u001b[49m\u001b[43m)\u001b[49m\n",
      "File \u001b[0;32m~/.pyenv/versions/3.11.1/lib/python3.11/urllib/request.py:525\u001b[0m, in \u001b[0;36mOpenerDirector.open\u001b[0;34m(self, fullurl, data, timeout)\u001b[0m\n\u001b[1;32m    523\u001b[0m \u001b[38;5;28;01mfor\u001b[39;00m processor \u001b[38;5;129;01min\u001b[39;00m \u001b[38;5;28mself\u001b[39m\u001b[38;5;241m.\u001b[39mprocess_response\u001b[38;5;241m.\u001b[39mget(protocol, []):\n\u001b[1;32m    524\u001b[0m     meth \u001b[38;5;241m=\u001b[39m \u001b[38;5;28mgetattr\u001b[39m(processor, meth_name)\n\u001b[0;32m--> 525\u001b[0m     response \u001b[38;5;241m=\u001b[39m \u001b[43mmeth\u001b[49m\u001b[43m(\u001b[49m\u001b[43mreq\u001b[49m\u001b[43m,\u001b[49m\u001b[43m \u001b[49m\u001b[43mresponse\u001b[49m\u001b[43m)\u001b[49m\n\u001b[1;32m    527\u001b[0m \u001b[38;5;28;01mreturn\u001b[39;00m response\n",
      "File \u001b[0;32m~/.pyenv/versions/3.11.1/lib/python3.11/urllib/request.py:634\u001b[0m, in \u001b[0;36mHTTPErrorProcessor.http_response\u001b[0;34m(self, request, response)\u001b[0m\n\u001b[1;32m    631\u001b[0m \u001b[38;5;66;03m# According to RFC 2616, \"2xx\" code indicates that the client's\u001b[39;00m\n\u001b[1;32m    632\u001b[0m \u001b[38;5;66;03m# request was successfully received, understood, and accepted.\u001b[39;00m\n\u001b[1;32m    633\u001b[0m \u001b[38;5;28;01mif\u001b[39;00m \u001b[38;5;129;01mnot\u001b[39;00m (\u001b[38;5;241m200\u001b[39m \u001b[38;5;241m<\u001b[39m\u001b[38;5;241m=\u001b[39m code \u001b[38;5;241m<\u001b[39m \u001b[38;5;241m300\u001b[39m):\n\u001b[0;32m--> 634\u001b[0m     response \u001b[38;5;241m=\u001b[39m \u001b[38;5;28;43mself\u001b[39;49m\u001b[38;5;241;43m.\u001b[39;49m\u001b[43mparent\u001b[49m\u001b[38;5;241;43m.\u001b[39;49m\u001b[43merror\u001b[49m\u001b[43m(\u001b[49m\n\u001b[1;32m    635\u001b[0m \u001b[43m        \u001b[49m\u001b[38;5;124;43m'\u001b[39;49m\u001b[38;5;124;43mhttp\u001b[39;49m\u001b[38;5;124;43m'\u001b[39;49m\u001b[43m,\u001b[49m\u001b[43m \u001b[49m\u001b[43mrequest\u001b[49m\u001b[43m,\u001b[49m\u001b[43m \u001b[49m\u001b[43mresponse\u001b[49m\u001b[43m,\u001b[49m\u001b[43m \u001b[49m\u001b[43mcode\u001b[49m\u001b[43m,\u001b[49m\u001b[43m \u001b[49m\u001b[43mmsg\u001b[49m\u001b[43m,\u001b[49m\u001b[43m \u001b[49m\u001b[43mhdrs\u001b[49m\u001b[43m)\u001b[49m\n\u001b[1;32m    637\u001b[0m \u001b[38;5;28;01mreturn\u001b[39;00m response\n",
      "File \u001b[0;32m~/.pyenv/versions/3.11.1/lib/python3.11/urllib/request.py:563\u001b[0m, in \u001b[0;36mOpenerDirector.error\u001b[0;34m(self, proto, *args)\u001b[0m\n\u001b[1;32m    561\u001b[0m \u001b[38;5;28;01mif\u001b[39;00m http_err:\n\u001b[1;32m    562\u001b[0m     args \u001b[38;5;241m=\u001b[39m (\u001b[38;5;28mdict\u001b[39m, \u001b[38;5;124m'\u001b[39m\u001b[38;5;124mdefault\u001b[39m\u001b[38;5;124m'\u001b[39m, \u001b[38;5;124m'\u001b[39m\u001b[38;5;124mhttp_error_default\u001b[39m\u001b[38;5;124m'\u001b[39m) \u001b[38;5;241m+\u001b[39m orig_args\n\u001b[0;32m--> 563\u001b[0m     \u001b[38;5;28;01mreturn\u001b[39;00m \u001b[38;5;28;43mself\u001b[39;49m\u001b[38;5;241;43m.\u001b[39;49m\u001b[43m_call_chain\u001b[49m\u001b[43m(\u001b[49m\u001b[38;5;241;43m*\u001b[39;49m\u001b[43margs\u001b[49m\u001b[43m)\u001b[49m\n",
      "File \u001b[0;32m~/.pyenv/versions/3.11.1/lib/python3.11/urllib/request.py:496\u001b[0m, in \u001b[0;36mOpenerDirector._call_chain\u001b[0;34m(self, chain, kind, meth_name, *args)\u001b[0m\n\u001b[1;32m    494\u001b[0m \u001b[38;5;28;01mfor\u001b[39;00m handler \u001b[38;5;129;01min\u001b[39;00m handlers:\n\u001b[1;32m    495\u001b[0m     func \u001b[38;5;241m=\u001b[39m \u001b[38;5;28mgetattr\u001b[39m(handler, meth_name)\n\u001b[0;32m--> 496\u001b[0m     result \u001b[38;5;241m=\u001b[39m \u001b[43mfunc\u001b[49m\u001b[43m(\u001b[49m\u001b[38;5;241;43m*\u001b[39;49m\u001b[43margs\u001b[49m\u001b[43m)\u001b[49m\n\u001b[1;32m    497\u001b[0m     \u001b[38;5;28;01mif\u001b[39;00m result \u001b[38;5;129;01mis\u001b[39;00m \u001b[38;5;129;01mnot\u001b[39;00m \u001b[38;5;28;01mNone\u001b[39;00m:\n\u001b[1;32m    498\u001b[0m         \u001b[38;5;28;01mreturn\u001b[39;00m result\n",
      "File \u001b[0;32m~/.pyenv/versions/3.11.1/lib/python3.11/urllib/request.py:643\u001b[0m, in \u001b[0;36mHTTPDefaultErrorHandler.http_error_default\u001b[0;34m(self, req, fp, code, msg, hdrs)\u001b[0m\n\u001b[1;32m    642\u001b[0m \u001b[38;5;28;01mdef\u001b[39;00m \u001b[38;5;21mhttp_error_default\u001b[39m(\u001b[38;5;28mself\u001b[39m, req, fp, code, msg, hdrs):\n\u001b[0;32m--> 643\u001b[0m     \u001b[38;5;28;01mraise\u001b[39;00m HTTPError(req\u001b[38;5;241m.\u001b[39mfull_url, code, msg, hdrs, fp)\n",
      "\u001b[0;31mHTTPError\u001b[0m: HTTP Error 404: Not Found"
     ]
    }
   ],
   "source": [
    "from Korpora import KoreanChatbotKorpus\n",
    "corpus = KoreanChatbotKorpus(root_dir=data_path)"
   ]
  },
  {
   "cell_type": "markdown",
   "id": "f5bc0c1f",
   "metadata": {},
   "source": [
    "---\n",
    "\n",
    "❤️‍🔥 민기님 도움을 받아서 주소를 이용해서 데이터를 다운로드"
   ]
  },
  {
   "cell_type": "code",
   "execution_count": 1,
   "id": "7d456a68",
   "metadata": {},
   "outputs": [
    {
     "name": "stdout",
     "output_type": "stream",
     "text": [
      "<class 'pandas.core.frame.DataFrame'>\n",
      "RangeIndex: 11823 entries, 0 to 11822\n",
      "Data columns (total 3 columns):\n",
      " #   Column  Non-Null Count  Dtype \n",
      "---  ------  --------------  ----- \n",
      " 0   Q       11823 non-null  object\n",
      " 1   A       11823 non-null  object\n",
      " 2   label   11823 non-null  int64 \n",
      "dtypes: int64(1), object(2)\n",
      "memory usage: 277.2+ KB\n"
     ]
    }
   ],
   "source": [
    "# 데이터프레임에 담기\n",
    "import pandas as pd\n",
    "\n",
    "df = pd.read_csv('https://raw.githubusercontent.com/songys/Chatbot_data/master/ChatbotData.csv')\n",
    "df.info()"
   ]
  },
  {
   "cell_type": "code",
   "execution_count": 2,
   "id": "a23bac5f",
   "metadata": {},
   "outputs": [
    {
     "data": {
      "text/html": [
       "<div>\n",
       "<style scoped>\n",
       "    .dataframe tbody tr th:only-of-type {\n",
       "        vertical-align: middle;\n",
       "    }\n",
       "\n",
       "    .dataframe tbody tr th {\n",
       "        vertical-align: top;\n",
       "    }\n",
       "\n",
       "    .dataframe thead th {\n",
       "        text-align: right;\n",
       "    }\n",
       "</style>\n",
       "<table border=\"1\" class=\"dataframe\">\n",
       "  <thead>\n",
       "    <tr style=\"text-align: right;\">\n",
       "      <th></th>\n",
       "      <th>Q</th>\n",
       "      <th>A</th>\n",
       "      <th>label</th>\n",
       "    </tr>\n",
       "  </thead>\n",
       "  <tbody>\n",
       "    <tr>\n",
       "      <th>0</th>\n",
       "      <td>12시 땡!</td>\n",
       "      <td>하루가 또 가네요.</td>\n",
       "      <td>0</td>\n",
       "    </tr>\n",
       "    <tr>\n",
       "      <th>1</th>\n",
       "      <td>1지망 학교 떨어졌어</td>\n",
       "      <td>위로해 드립니다.</td>\n",
       "      <td>0</td>\n",
       "    </tr>\n",
       "    <tr>\n",
       "      <th>2</th>\n",
       "      <td>3박4일 놀러가고 싶다</td>\n",
       "      <td>여행은 언제나 좋죠.</td>\n",
       "      <td>0</td>\n",
       "    </tr>\n",
       "    <tr>\n",
       "      <th>3</th>\n",
       "      <td>3박4일 정도 놀러가고 싶다</td>\n",
       "      <td>여행은 언제나 좋죠.</td>\n",
       "      <td>0</td>\n",
       "    </tr>\n",
       "    <tr>\n",
       "      <th>4</th>\n",
       "      <td>PPL 심하네</td>\n",
       "      <td>눈살이 찌푸려지죠.</td>\n",
       "      <td>0</td>\n",
       "    </tr>\n",
       "  </tbody>\n",
       "</table>\n",
       "</div>"
      ],
      "text/plain": [
       "                 Q            A  label\n",
       "0           12시 땡!   하루가 또 가네요.      0\n",
       "1      1지망 학교 떨어졌어    위로해 드립니다.      0\n",
       "2     3박4일 놀러가고 싶다  여행은 언제나 좋죠.      0\n",
       "3  3박4일 정도 놀러가고 싶다  여행은 언제나 좋죠.      0\n",
       "4          PPL 심하네   눈살이 찌푸려지죠.      0"
      ]
     },
     "execution_count": 2,
     "metadata": {},
     "output_type": "execute_result"
    }
   ],
   "source": [
    "df.head()"
   ]
  },
  {
   "cell_type": "markdown",
   "id": "bfadf150",
   "metadata": {},
   "source": [
    "데이터프레임에 Q, A, label이 담겨있다.\n",
    "\n",
    "- 깃헙 data description 정보는 아래와 같다\n",
    "\n",
    "> 챗봇 트레이닝용 문답 페어 11,876개 => 데이터 수정이 있나보다 : **11,823개**<br>\n",
    "> label : 일상다반사=0, 이별(부정)=1, 사랑(긍정)=2"
   ]
  },
  {
   "cell_type": "code",
   "execution_count": 3,
   "id": "2a5d8101",
   "metadata": {},
   "outputs": [
    {
     "name": "stdout",
     "output_type": "stream",
     "text": [
      "Q        0\n",
      "A        0\n",
      "label    0\n",
      "dtype: int64\n"
     ]
    }
   ],
   "source": [
    "# 빈 데이터가 있는지 확인\n",
    "print(df.isnull().sum())"
   ]
  },
  {
   "cell_type": "markdown",
   "id": "f7808a2c",
   "metadata": {},
   "source": [
    "---\n",
    "\n",
    "# EDA \n",
    "[REF] [텐서플로2와 머신러닝으로 시작하는 자연어처리](https://arc.net/l/quote/lbrgynnm), [데이터사이언스스쿨-KoNLPy 한국어 처리 패키지](https://datascienceschool.net/03%20machine%20learning/03.01.02%20KoNLPy%20%ED%95%9C%EA%B5%AD%EC%96%B4%20%EC%B2%98%EB%A6%AC%20%ED%8C%A8%ED%82%A4%EC%A7%80.html)\n",
    "- 내가 필요한 데이터는 Q, A 데이터이니 label은 제외하고 노드에서 학습했던 함수를 사용할수 있도록 sentence형태의 데이터로 만든다\n",
    "- KoNLPy 패키지를 활용해 한국어 형태소 분석 라이브러리를 사용할예정\n",
    "\n",
    "---\n",
    "\n",
    "💡\n",
    "## KoNLPy 형태소분석 라이브러리\n",
    "- Hannanum: 한나눔. KAIST Semantic Web Research Center 개발\n",
    "    - http://semanticweb.kaist.ac.kr/hannanum/\n",
    "- Kkma: 꼬꼬마. 서울대학교 IDS(Intelligent Data Systems) 연구실 개발\n",
    "    - http://kkma.snu.ac.kr/\n",
    "- Komoran: 코모란. Shineware에서 개발.\n",
    "    - https://github.com/shin285/KOMORAN\n",
    "- Mecab: 메카브. 일본어용 형태소 분석기를 한국어를 사용할 수 있도록 수정.\n",
    "    - https://bitbucket.org/eunjeon/mecab-ko\n",
    "- Open Korean Text: 오픈 소스 한국어 분석기. 과거 트위터 형태소 분석기.\n",
    "    - https://github.com/open-korean-text/open-korean-text\n",
    "    \n",
    "\n",
    "    -> 이 중에서 OKT를 사용"
   ]
  },
  {
   "cell_type": "code",
   "execution_count": 4,
   "id": "814e82f0",
   "metadata": {},
   "outputs": [
    {
     "data": {
      "text/plain": [
       "'0.5.2'"
      ]
     },
     "execution_count": 4,
     "metadata": {},
     "output_type": "execute_result"
    }
   ],
   "source": [
    "import warnings\n",
    "warnings.simplefilter(\"ignore\")\n",
    "\n",
    "import konlpy\n",
    "konlpy.__version__"
   ]
  },
  {
   "cell_type": "code",
   "execution_count": 5,
   "id": "f90e6afe",
   "metadata": {},
   "outputs": [],
   "source": [
    "# import libraries\n",
    "import numpy as np\n",
    "import matplotlib.pyplot as plt\n",
    "\n",
    "from konlpy.tag import Okt"
   ]
  },
  {
   "cell_type": "code",
   "execution_count": 6,
   "id": "e6770f4e",
   "metadata": {},
   "outputs": [
    {
     "data": {
      "text/plain": [
       "['12시 땡!', '1지망 학교 떨어졌어', '3박4일 놀러가고 싶다']"
      ]
     },
     "execution_count": 6,
     "metadata": {},
     "output_type": "execute_result"
    }
   ],
   "source": [
    "# sentence 추출\n",
    "sentences = list(df['Q']) + list(df['A'])\n",
    "sentences[:3]"
   ]
  },
  {
   "cell_type": "markdown",
   "id": "7250cda5",
   "metadata": {},
   "source": [
    "- 문장들을 토큰화하고 어절, 형태소, 음절의 길이를 확인\n",
    "    - 이 부분은 '텐서플로2와 머신러닝으로 시작하는 자연어처리' 책 내용을 참고\n",
    "\n",
    "**[기본정보]**\n",
    "- 어절 : 문장성분의 최소 단위 - 띄어쓰기의 단위로 쓴다\n",
    "- 음절 : 발음하는대로 한 글자씩 - 한국어를 발음할때 한 번에 소리낼수 있는 소리의 마디\n",
    "- 형태소 : 뜻을 가진 가장 작은 말의 단위 - 품사에 따라 분석"
   ]
  },
  {
   "cell_type": "code",
   "execution_count": 7,
   "id": "13440f3d",
   "metadata": {},
   "outputs": [],
   "source": [
    "# 문장 토큰화\n",
    "tokenized_sentences = [s.split() for s in sentences]\n",
    "# 토큰(어절) 길이\n",
    "sent_len_by_token = [len(t) for t in tokenized_sentences]\n",
    "# 음절 길이 \n",
    "sent_len_by_eumjeol = [len(s.replace(' ', '')) for s in sentences]\n",
    "\n",
    "okt = Okt()\n",
    "# 형태소 토큰화\n",
    "morph_tokenized_sentences = [okt.morphs(s.replace(' ', '')) for s in sentences]\n",
    "# 형태소 길이\n",
    "sent_len_by_morph = [len(t) for t in morph_tokenized_sentences]"
   ]
  },
  {
   "cell_type": "code",
   "execution_count": 13,
   "id": "02f13b93",
   "metadata": {},
   "outputs": [
    {
     "data": {
      "image/png": "[encoded data removed]",
      "text/plain": [
       "<Figure size 864x360 with 1 Axes>"
      ]
     },
     "metadata": {
      "needs_background": "light"
     },
     "output_type": "display_data"
    }
   ],
   "source": [
    "# 문장 길이 시각화\n",
    "plt.figure(figsize=(12, 5))\n",
    "plt.hist(sent_len_by_token, bins=50, range=[0,50], alpha=0.5, color= 'r', label='eojeol')\n",
    "plt.hist(sent_len_by_morph, bins=50, range=[0,50], alpha=0.5, color='g', label='morph')\n",
    "plt.hist(sent_len_by_eumjeol, bins=50, range=[0,50], alpha=0.5, color='b', label='eumjeol')\n",
    "\n",
    "# Adding title and labels\n",
    "plt.title('Sentence Length Histogram')\n",
    "plt.xlabel('Sentence Length')\n",
    "plt.ylabel('Number of Sentences')\n",
    "\n",
    "# Displaying legend\n",
    "plt.legend()\n",
    "\n",
    "# Display the plot\n",
    "plt.show()"
   ]
  },
  {
   "cell_type": "code",
   "execution_count": 14,
   "id": "a92e3d6b",
   "metadata": {},
   "outputs": [
    {
     "data": {
      "image/png": "[encoded data removed]",
      "text/plain": [
       "<Figure size 864x360 with 1 Axes>"
      ]
     },
     "metadata": {
      "needs_background": "light"
     },
     "output_type": "display_data"
    }
   ],
   "source": [
    "# 음절토큰을 기준으로 문장길이 시각화\n",
    "plt.figure(figsize=(12, 5))\n",
    "plt.hist(sent_len_by_token, bins=50, range=[0,50], alpha=0.5, color= 'r', label='eojeol')\n",
    "plt.hist(sent_len_by_morph, bins=50, range=[0,50], alpha=0.5, color='g', label='morph')\n",
    "plt.hist(sent_len_by_eumjeol, bins=50, range=[0,50], alpha=0.5, color='b', label='eumjeol')\n",
    "\n",
    "# Scaling the y-axis logarithmically for better visualization\n",
    "plt.yscale('log')\n",
    "\n",
    "# Adding title and labels\n",
    "plt.title('Sentence Length Histogram by Eojeol Token')\n",
    "plt.xlabel('Sentence Length')\n",
    "plt.ylabel('Number of Sentences')\n",
    "\n",
    "# Displaying legend\n",
    "plt.legend()\n",
    "\n",
    "# Display the plot\n",
    "plt.show()"
   ]
  },
  {
   "cell_type": "markdown",
   "id": "c27d0005",
   "metadata": {},
   "source": [
    "- 와 뭔가 그래프가 많이 나왔는데 정확하게 음절과 토큰의 개념이 아직 정리가 잘 안되어서인지 어떤 의미인지 알기가 어렵다"
   ]
  },
  {
   "cell_type": "code",
   "execution_count": 10,
   "id": "7173ce0e",
   "metadata": {},
   "outputs": [
    {
     "name": "stdout",
     "output_type": "stream",
     "text": [
      "어절 최대길이: 21\n",
      "어절 최소길이: 1\n",
      "어절 평균길이: 3.64\n",
      "어절 길이 표준편차: 1.74\n",
      "어절 중간길이: 3.0\n",
      "제 1 사분위 길이: 2.0\n",
      "제 3 사분위 길이: 5.0\n"
     ]
    }
   ],
   "source": [
    "# 토큰(어절) 정보 출력\n",
    "print('어절 최대길이: {}'.format(np.max(sent_len_by_token)))\n",
    "print('어절 최소길이: {}'.format(np.min(sent_len_by_token)))\n",
    "print('어절 평균길이: {:.2f}'.format(np.mean(sent_len_by_token)))\n",
    "print('어절 길이 표준편차: {:.2f}'.format(np.std(sent_len_by_token)))\n",
    "print('어절 중간길이: {}'.format(np.median(sent_len_by_token)))\n",
    "print('제 1 사분위 길이: {}'.format(np.percentile(sent_len_by_token, 25)))\n",
    "print('제 3 사분위 길이: {}'.format(np.percentile(sent_len_by_token, 75)))"
   ]
  },
  {
   "cell_type": "code",
   "execution_count": 11,
   "id": "af2f0e46",
   "metadata": {},
   "outputs": [
    {
     "name": "stdout",
     "output_type": "stream",
     "text": [
      "형태소 최대길이: 31\n",
      "형태소 최소길이: 1\n",
      "형태소 평균길이: 5.41\n",
      "형태소 길이 표준편차: 2.56\n",
      "형태소 중간길이: 5.0\n",
      "형태소 1/4 퍼센타일 길이: 4.0\n",
      "형태소 3/4 퍼센타일 길이: 7.0\n"
     ]
    }
   ],
   "source": [
    "# 형태소 정보 출력\n",
    "print('형태소 최대길이: {}'.format(np.max(sent_len_by_morph)))\n",
    "print('형태소 최소길이: {}'.format(np.min(sent_len_by_morph)))\n",
    "print('형태소 평균길이: {:.2f}'.format(np.mean(sent_len_by_morph)))\n",
    "print('형태소 길이 표준편차: {:.2f}'.format(np.std(sent_len_by_morph)))\n",
    "print('형태소 중간길이: {}'.format(np.median(sent_len_by_morph)))\n",
    "print('형태소 1/4 퍼센타일 길이: {}'.format(np.percentile(sent_len_by_morph, 25)))\n",
    "print('형태소 3/4 퍼센타일 길이: {}'.format(np.percentile(sent_len_by_morph, 75)))"
   ]
  },
  {
   "cell_type": "code",
   "execution_count": 12,
   "id": "e8d6dca7",
   "metadata": {},
   "outputs": [
    {
     "name": "stdout",
     "output_type": "stream",
     "text": [
      "음절 최대길이: 57\n",
      "음절 최소길이: 1\n",
      "음절 평균길이: 11.31\n",
      "음절 길이 표준편차: 4.98\n",
      "음절 중간길이: 10.0\n",
      "음절 1/4 퍼센타일 길이: 8.0\n",
      "음절 3/4 퍼센타일 길이: 14.0\n"
     ]
    }
   ],
   "source": [
    "# 음절 정보 출력\n",
    "print('음절 최대길이: {}'.format(np.max(sent_len_by_eumjeol)))\n",
    "print('음절 최소길이: {}'.format(np.min(sent_len_by_eumjeol)))\n",
    "print('음절 평균길이: {:.2f}'.format(np.mean(sent_len_by_eumjeol)))\n",
    "print('음절 길이 표준편차: {:.2f}'.format(np.std(sent_len_by_eumjeol)))\n",
    "print('음절 중간길이: {}'.format(np.median(sent_len_by_eumjeol)))\n",
    "print('음절 1/4 퍼센타일 길이: {}'.format(np.percentile(sent_len_by_eumjeol, 25)))\n",
    "print('음절 3/4 퍼센타일 길이: {}'.format(np.percentile(sent_len_by_eumjeol, 75)))"
   ]
  },
  {
   "cell_type": "markdown",
   "id": "51848bfb",
   "metadata": {},
   "source": [
    "✅ 지난번 프로젝트때 이 길이와 표준편차, percentile 정보를 활용해서 데이터 전처리했던것 같다. 이 부분을 다시 체크필요!"
   ]
  },
  {
   "cell_type": "code",
   "execution_count": 16,
   "id": "16789828",
   "metadata": {},
   "outputs": [
    {
     "data": {
      "image/png": "[encoded data removed]",
      "text/plain": [
       "<Figure size 864x360 with 1 Axes>"
      ]
     },
     "metadata": {
      "needs_background": "light"
     },
     "output_type": "display_data"
    }
   ],
   "source": [
    "# boxplot\n",
    "plt.figure(figsize=(12, 5))\n",
    "plt.boxplot([sent_len_by_token, sent_len_by_morph, sent_len_by_eumjeol],\n",
    "            labels=['Eojeol', 'Morph', 'Eumjeol'], \n",
    "            showmeans=True)\n",
    "plt.show()"
   ]
  },
  {
   "cell_type": "markdown",
   "id": "a60d8082",
   "metadata": {},
   "source": [
    "- 대략적으로 길이 0~10 정도 분포를 가진걸 의미하는것 같다\n",
    "\n",
    "---\n",
    "\n",
    "질문과 대답 데이터셋을 나누어서 확인"
   ]
  },
  {
   "cell_type": "code",
   "execution_count": 18,
   "id": "ddc05259",
   "metadata": {},
   "outputs": [],
   "source": [
    "# 질문 문장 데이터\n",
    "query_sentences = list(df['Q'])\n",
    "\n",
    "# 대답 문장 데이터\n",
    "answer_sentences = list(df['A'])\n",
    "\n",
    "# 질문 형태소 토큰화\n",
    "query_morph_tokenized_sentences = [okt.morphs(s.replace(' ', '')) for s in query_sentences]\n",
    "# 질문 형태소 토큰 길이\n",
    "query_sent_len_by_morph = [len(t) for t in query_morph_tokenized_sentences]\n",
    "\n",
    "# 대답 형태소 토큰화\n",
    "answer_morph_tokenized_sentences = [okt.morphs(s.replace(' ', '')) for s in answer_sentences]\n",
    "# 대답 형태소 토큰 길이\n",
    "answer_sent_len_by_morph = [len(t) for t in answer_morph_tokenized_sentences]"
   ]
  },
  {
   "cell_type": "code",
   "execution_count": 19,
   "id": "48cd490a",
   "metadata": {},
   "outputs": [
    {
     "data": {
      "image/png": "[encoded data removed]",
      "text/plain": [
       "<Figure size 864x360 with 1 Axes>"
      ]
     },
     "metadata": {
      "needs_background": "light"
     },
     "output_type": "display_data"
    }
   ],
   "source": [
    "# Setting up the figure size\n",
    "plt.figure(figsize=(12, 5))\n",
    "\n",
    "# Plotting histogram for query lengths, answer lengths\n",
    "plt.hist(query_sent_len_by_morph, bins=50, range=[0,50], color='g', label='Query')\n",
    "plt.hist(answer_sent_len_by_morph, bins=50, range=[0,50], color='r', alpha=0.5, label='Answer')\n",
    "\n",
    "# Display legned\n",
    "plt.legend()\n",
    "\n",
    "# Adding title and labels\n",
    "plt.title('Query Length Histogram by Morph Token')\n",
    "plt.xlabel('Query Length')\n",
    "plt.ylabel('Number of Queries')\n",
    "\n",
    "plt.show()"
   ]
  },
  {
   "cell_type": "markdown",
   "id": "76b1eea7",
   "metadata": {},
   "source": [
    "- 질문과 대답 모두 비슷한 분포를 보인다"
   ]
  },
  {
   "cell_type": "code",
   "execution_count": 20,
   "id": "6d8d5303",
   "metadata": {},
   "outputs": [
    {
     "data": {
      "image/png": "[encoded data removed]",
      "text/plain": [
       "<Figure size 864x360 with 1 Axes>"
      ]
     },
     "metadata": {
      "needs_background": "light"
     },
     "output_type": "display_data"
    }
   ],
   "source": [
    "# y axis를 log로 변환한 그래프\n",
    "plt.figure(figsize=(12, 5))\n",
    "\n",
    "# Plotting histogram for query lengths, answer lengths\n",
    "plt.hist(query_sent_len_by_morph, bins=50, range=[0,50], color='g', label='Query')\n",
    "plt.hist(answer_sent_len_by_morph, bins=50, range=[0,50], color='r', alpha=0.5, label='Answer')\n",
    "\n",
    "# Displaying legend\n",
    "plt.legend()\n",
    "\n",
    "# Applying logarithmic scale to the y-axis\n",
    "plt.yscale('log', nonposy='clip')\n",
    "plt.title('Query Length Log Histogram by Morph Token')\n",
    "plt.xlabel('Query Length')\n",
    "plt.ylabel('Number of Queries')\n",
    "\n",
    "plt.show()"
   ]
  },
  {
   "cell_type": "markdown",
   "id": "610b220d",
   "metadata": {},
   "source": [
    "## Data preprocessing 1\n",
    "\n",
    "- **정규 표현식(Regular Expression)** 을 사용해서 구두점(punctuation) 제거\n",
    "    - 단어 토크나이징(tokenizing)에 방해되지 않도록 정제\n",
    "    \n",
    "[REF] [blog](https://velog.io/@jochedda/NLP-%EC%9E%90%EC%97%B0%EC%96%B4-%EC%A0%84%EC%B2%98%EB%A6%AC), [유원준님 깃허브](https://github.com/ukairia777/tensorflow-transformer/blob/main/Transformer_Korean_Chatbot.ipynb)"
   ]
  },
  {
   "cell_type": "code",
   "execution_count": 21,
   "id": "622d3af7",
   "metadata": {},
   "outputs": [],
   "source": [
    "import re\n",
    "\n",
    "# 전처리 함수\n",
    "def preprocess_sentence(sentence):\n",
    "    # 입력받은 sentence 양쪽 공백 제거\n",
    "    sentence = sentence.strip()\n",
    "\n",
    "    # 단어와 구두점(punctuation) 사이의 거리 만들기\n",
    "    sentence = re.sub(r\"([?.!,])\", r\" \\1 \", sentence)\n",
    "    sentence = re.sub(r'[\" \"]+', \" \", sentence)\n",
    "\n",
    "    # (\".\", \"?\", \"!\", \",\")와 영어, 한글을 제외한 모든 문자를 공백인 ' '로 대체\n",
    "    sentence = re.sub(r'[^\\.\\?!,-가-힣ㄱ-ㅎㅏ-ㅣ]', ' ', sentence)\n",
    "\n",
    "    return sentence"
   ]
  },
  {
   "cell_type": "code",
   "execution_count": 22,
   "id": "20aafb55",
   "metadata": {},
   "outputs": [
    {
     "name": "stdout",
     "output_type": "stream",
     "text": [
      "전체 샘플 수 : 11823\n",
      "전체 샘플 수 : 11823\n"
     ]
    }
   ],
   "source": [
    "# 질문, 답변 데이터 전처리\n",
    "questions = []\n",
    "answers = []\n",
    "\n",
    "for sentence in df['Q']:\n",
    "    questions.append(preprocess_sentence(sentence))\n",
    "    \n",
    "for sentence in df['A']:\n",
    "    answers.append(preprocess_sentence(sentence))\n",
    "    \n",
    "print('전체 샘플 수 :', len(questions))\n",
    "print('전체 샘플 수 :', len(answers))"
   ]
  },
  {
   "cell_type": "code",
   "execution_count": 24,
   "id": "ee2ac7b7",
   "metadata": {},
   "outputs": [
    {
     "name": "stdout",
     "output_type": "stream",
     "text": [
      "전처리 후의 15번째 질문 샘플: 가        \n",
      "전처리 후의 15번째 답변 샘플:               . \n"
     ]
    }
   ],
   "source": [
    "# 15번째 샘플(인덱스 14 샘플) 확인\n",
    "print('전처리 후의 15번째 질문 샘플: {}'.format(questions[14]))\n",
    "print('전처리 후의 15번째 답변 샘플: {}'.format(answers[14]))"
   ]
  },
  {
   "cell_type": "code",
   "execution_count": 25,
   "id": "24f0e7c7",
   "metadata": {},
   "outputs": [
    {
     "data": {
      "text/plain": [
       "['12    ! ', '1          ', '3 4    가    ', '3 4       가    ', 'PPL    ']"
      ]
     },
     "execution_count": 25,
     "metadata": {},
     "output_type": "execute_result"
    }
   ],
   "source": [
    "questions[:5]"
   ]
  },
  {
   "cell_type": "markdown",
   "id": "48ac968e",
   "metadata": {},
   "source": [
    "- 대부분의 단어들이 삭제 된것 같다. 원래 데이터부터 다시 봐야겠다"
   ]
  },
  {
   "cell_type": "code",
   "execution_count": 26,
   "id": "333cf323",
   "metadata": {},
   "outputs": [
    {
     "data": {
      "text/plain": [
       "0             12시 땡!\n",
       "1        1지망 학교 떨어졌어\n",
       "2       3박4일 놀러가고 싶다\n",
       "3    3박4일 정도 놀러가고 싶다\n",
       "4            PPL 심하네\n",
       "Name: Q, dtype: object"
      ]
     },
     "execution_count": 26,
     "metadata": {},
     "output_type": "execute_result"
    }
   ],
   "source": [
    "df['Q'][:5]"
   ]
  },
  {
   "cell_type": "code",
   "execution_count": 27,
   "id": "82ad38de",
   "metadata": {},
   "outputs": [
    {
     "data": {
      "text/html": [
       "<div>\n",
       "<style scoped>\n",
       "    .dataframe tbody tr th:only-of-type {\n",
       "        vertical-align: middle;\n",
       "    }\n",
       "\n",
       "    .dataframe tbody tr th {\n",
       "        vertical-align: top;\n",
       "    }\n",
       "\n",
       "    .dataframe thead th {\n",
       "        text-align: right;\n",
       "    }\n",
       "</style>\n",
       "<table border=\"1\" class=\"dataframe\">\n",
       "  <thead>\n",
       "    <tr style=\"text-align: right;\">\n",
       "      <th></th>\n",
       "      <th>Q</th>\n",
       "      <th>A</th>\n",
       "      <th>label</th>\n",
       "    </tr>\n",
       "  </thead>\n",
       "  <tbody>\n",
       "    <tr>\n",
       "      <th>0</th>\n",
       "      <td>12시 땡!</td>\n",
       "      <td>하루가 또 가네요.</td>\n",
       "      <td>0</td>\n",
       "    </tr>\n",
       "    <tr>\n",
       "      <th>1</th>\n",
       "      <td>1지망 학교 떨어졌어</td>\n",
       "      <td>위로해 드립니다.</td>\n",
       "      <td>0</td>\n",
       "    </tr>\n",
       "    <tr>\n",
       "      <th>2</th>\n",
       "      <td>3박4일 놀러가고 싶다</td>\n",
       "      <td>여행은 언제나 좋죠.</td>\n",
       "      <td>0</td>\n",
       "    </tr>\n",
       "    <tr>\n",
       "      <th>3</th>\n",
       "      <td>3박4일 정도 놀러가고 싶다</td>\n",
       "      <td>여행은 언제나 좋죠.</td>\n",
       "      <td>0</td>\n",
       "    </tr>\n",
       "    <tr>\n",
       "      <th>4</th>\n",
       "      <td>PPL 심하네</td>\n",
       "      <td>눈살이 찌푸려지죠.</td>\n",
       "      <td>0</td>\n",
       "    </tr>\n",
       "    <tr>\n",
       "      <th>5</th>\n",
       "      <td>SD카드 망가졌어</td>\n",
       "      <td>다시 새로 사는 게 마음 편해요.</td>\n",
       "      <td>0</td>\n",
       "    </tr>\n",
       "    <tr>\n",
       "      <th>6</th>\n",
       "      <td>SD카드 안돼</td>\n",
       "      <td>다시 새로 사는 게 마음 편해요.</td>\n",
       "      <td>0</td>\n",
       "    </tr>\n",
       "    <tr>\n",
       "      <th>7</th>\n",
       "      <td>SNS 맞팔 왜 안하지ㅠㅠ</td>\n",
       "      <td>잘 모르고 있을 수도 있어요.</td>\n",
       "      <td>0</td>\n",
       "    </tr>\n",
       "    <tr>\n",
       "      <th>8</th>\n",
       "      <td>SNS 시간낭비인 거 아는데 매일 하는 중</td>\n",
       "      <td>시간을 정하고 해보세요.</td>\n",
       "      <td>0</td>\n",
       "    </tr>\n",
       "    <tr>\n",
       "      <th>9</th>\n",
       "      <td>SNS 시간낭비인데 자꾸 보게됨</td>\n",
       "      <td>시간을 정하고 해보세요.</td>\n",
       "      <td>0</td>\n",
       "    </tr>\n",
       "  </tbody>\n",
       "</table>\n",
       "</div>"
      ],
      "text/plain": [
       "                         Q                   A  label\n",
       "0                   12시 땡!          하루가 또 가네요.      0\n",
       "1              1지망 학교 떨어졌어           위로해 드립니다.      0\n",
       "2             3박4일 놀러가고 싶다         여행은 언제나 좋죠.      0\n",
       "3          3박4일 정도 놀러가고 싶다         여행은 언제나 좋죠.      0\n",
       "4                  PPL 심하네          눈살이 찌푸려지죠.      0\n",
       "5                SD카드 망가졌어  다시 새로 사는 게 마음 편해요.      0\n",
       "6                  SD카드 안돼  다시 새로 사는 게 마음 편해요.      0\n",
       "7           SNS 맞팔 왜 안하지ㅠㅠ    잘 모르고 있을 수도 있어요.      0\n",
       "8  SNS 시간낭비인 거 아는데 매일 하는 중       시간을 정하고 해보세요.      0\n",
       "9        SNS 시간낭비인데 자꾸 보게됨       시간을 정하고 해보세요.      0"
      ]
     },
     "execution_count": 27,
     "metadata": {},
     "output_type": "execute_result"
    }
   ],
   "source": [
    "df.head(10)"
   ]
  },
  {
   "cell_type": "code",
   "execution_count": 28,
   "id": "5ac3438d",
   "metadata": {},
   "outputs": [],
   "source": [
    "# 전처리 함수 2\n",
    "def preprocess_sentence(sentence):\n",
    "    # 단어와 구두점(punctuation) 사이의 거리 만들기\n",
    "    sentence = re.sub(r\"([?.!,])\", r\" \\1 \", sentence)\n",
    "    sentence = re.sub(r'[\" \"]+', \" \", sentence)\n",
    "\n",
    "    # (\".\", \"?\", \"!\", \",\")와 영어, 한글을 제외한 모든 문자를 공백인 ' '로 대체\n",
    "    sentence = re.sub(r'[^a-zA-Z\\.\\?!,-가-힣ㄱ-ㅎㅏ-ㅣ]', ' ', sentence)\n",
    "\n",
    "    return sentence"
   ]
  },
  {
   "cell_type": "code",
   "execution_count": 29,
   "id": "0d63a8da",
   "metadata": {},
   "outputs": [
    {
     "name": "stdout",
     "output_type": "stream",
     "text": [
      "전체 샘플 수 : 11823\n",
      "전체 샘플 수 : 11823\n"
     ]
    }
   ],
   "source": [
    "# 질문, 답변 데이터 전처리\n",
    "questions = []\n",
    "answers = []\n",
    "\n",
    "for sentence in df['Q']:\n",
    "    questions.append(preprocess_sentence(sentence))\n",
    "    \n",
    "for sentence in df['A']:\n",
    "    answers.append(preprocess_sentence(sentence))\n",
    "    \n",
    "print('전체 샘플 수 :', len(questions))\n",
    "print('전체 샘플 수 :', len(answers))"
   ]
  },
  {
   "cell_type": "code",
   "execution_count": 30,
   "id": "0997f7aa",
   "metadata": {},
   "outputs": [
    {
     "name": "stdout",
     "output_type": "stream",
     "text": [
      "전처리 후의 15번째 질문 샘플: 가        \n",
      "전처리 후의 15번째 답변 샘플:               . \n"
     ]
    }
   ],
   "source": [
    "# 15번째 샘플(인덱스 14 샘플) 확인\n",
    "print('전처리 후의 15번째 질문 샘플: {}'.format(questions[14]))\n",
    "print('전처리 후의 15번째 답변 샘플: {}'.format(answers[14]))"
   ]
  },
  {
   "cell_type": "code",
   "execution_count": 31,
   "id": "4993e2c4",
   "metadata": {},
   "outputs": [
    {
     "name": "stdout",
     "output_type": "stream",
     "text": [
      "전처리 후의 1번째 질문 샘플: 12    ! \n",
      "전처리 후의 1번째 답변 샘플:   가   가   . \n"
     ]
    }
   ],
   "source": [
    "# 1번째 샘플 확인\n",
    "print('전처리 후의 1번째 질문 샘플: {}'.format(questions[0]))\n",
    "print('전처리 후의 1번째 답변 샘플: {}'.format(answers[0]))"
   ]
  },
  {
   "cell_type": "markdown",
   "id": "d1761af4",
   "metadata": {},
   "source": [
    "- 똑같이 처리된다. strip부분이 문제가 아니라 마지막 대체 부분이 문제인것 같다\n",
    "- 이 부분 삭제후 다시시도"
   ]
  },
  {
   "cell_type": "code",
   "execution_count": 32,
   "id": "6dea1247",
   "metadata": {},
   "outputs": [],
   "source": [
    "# 전처리 함수 3\n",
    "def preprocess_sentence(sentence):\n",
    "    # 단어와 구두점(punctuation) 사이의 거리 만들기\n",
    "    sentence = re.sub(r\"([?.!,])\", r\" \\1 \", sentence)\n",
    "    sentence = re.sub(r'[\" \"]+', \" \", sentence)\n",
    "\n",
    "    return sentence"
   ]
  },
  {
   "cell_type": "code",
   "execution_count": 33,
   "id": "8dcf6d30",
   "metadata": {},
   "outputs": [
    {
     "name": "stdout",
     "output_type": "stream",
     "text": [
      "전체 샘플 수 : 11823\n",
      "전체 샘플 수 : 11823\n"
     ]
    }
   ],
   "source": [
    "# 질문, 답변 데이터 전처리\n",
    "questions = []\n",
    "answers = []\n",
    "\n",
    "for sentence in df['Q']:\n",
    "    questions.append(preprocess_sentence(sentence))\n",
    "    \n",
    "for sentence in df['A']:\n",
    "    answers.append(preprocess_sentence(sentence))\n",
    "    \n",
    "print('전체 샘플 수 :', len(questions))\n",
    "print('전체 샘플 수 :', len(answers))"
   ]
  },
  {
   "cell_type": "code",
   "execution_count": 34,
   "id": "96d90910",
   "metadata": {},
   "outputs": [
    {
     "name": "stdout",
     "output_type": "stream",
     "text": [
      "전처리 후의 1번째 질문 샘플: 12시 땡 ! \n",
      "전처리 후의 1번째 답변 샘플: 하루가 또 가네요 . \n"
     ]
    }
   ],
   "source": [
    "# 1번째 샘플 확인\n",
    "print('전처리 후의 1번째 질문 샘플: {}'.format(questions[0]))\n",
    "print('전처리 후의 1번째 답변 샘플: {}'.format(answers[0]))"
   ]
  },
  {
   "cell_type": "code",
   "execution_count": 35,
   "id": "d83ba892",
   "metadata": {},
   "outputs": [
    {
     "name": "stdout",
     "output_type": "stream",
     "text": [
      "전처리 후의 15번째 질문 샘플: 가난한 자의 설움\n",
      "전처리 후의 15번째 답변 샘플: 돈은 다시 들어올 거예요 . \n"
     ]
    }
   ],
   "source": [
    "# 15번째 샘플(인덱스 14 샘플) 확인\n",
    "print('전처리 후의 15번째 질문 샘플: {}'.format(questions[14]))\n",
    "print('전처리 후의 15번째 답변 샘플: {}'.format(answers[14]))"
   ]
  },
  {
   "cell_type": "markdown",
   "id": "2879369e",
   "metadata": {},
   "source": [
    "- 이제 제대로 되는데 왜 해당 부분 코드가 문제가 됬던거지? \n",
    "- 강훈님 도움을 받아 다른 코드로 수정해서 시도"
   ]
  },
  {
   "cell_type": "code",
   "execution_count": 36,
   "id": "5ce8f5be",
   "metadata": {},
   "outputs": [],
   "source": [
    "# 전처리 함수 4\n",
    "def preprocess_sentence(sentence):\n",
    "    # 단어와 구두점(punctuation) 사이의 거리 만들기\n",
    "    sentence = re.sub(r\"([?.!,])\", r\" \\1 \", sentence)\n",
    "    sentence = re.sub(r'[\" \"]+', \" \", sentence)\n",
    "\n",
    "    # (\".\", \"?\", \"!\", \",\")와 영어, 한글을 제외한 모든 문자를 공백인 ' '로 대체\n",
    "    sentence = re.sub(r'[^ㄱ-ㅎ가-힣?.!,]+', ' ', sentence)\n",
    "    return sentence"
   ]
  },
  {
   "cell_type": "code",
   "execution_count": 37,
   "id": "c3caee4c",
   "metadata": {},
   "outputs": [
    {
     "name": "stdout",
     "output_type": "stream",
     "text": [
      "전체 샘플 수 : 11823\n",
      "전체 샘플 수 : 11823\n"
     ]
    }
   ],
   "source": [
    "# 질문, 답변 데이터 전처리\n",
    "q = []\n",
    "a = []\n",
    "\n",
    "for sentence in df['Q']:\n",
    "    q.append(preprocess_sentence(sentence))\n",
    "    \n",
    "for sentence in df['A']:\n",
    "    a.append(preprocess_sentence(sentence))\n",
    "    \n",
    "print('전체 샘플 수 :', len(q))\n",
    "print('전체 샘플 수 :', len(a))"
   ]
  },
  {
   "cell_type": "code",
   "execution_count": 38,
   "id": "6458e6fb",
   "metadata": {},
   "outputs": [
    {
     "name": "stdout",
     "output_type": "stream",
     "text": [
      "전처리 후의 1번째 질문 샘플:  시 땡 ! \n",
      "전처리 후의 1번째 답변 샘플: 하루가 또 가네요 . \n"
     ]
    }
   ],
   "source": [
    "# 1번째 샘플 확인\n",
    "print('전처리 후의 1번째 질문 샘플: {}'.format(q[0]))\n",
    "print('전처리 후의 1번째 답변 샘플: {}'.format(a[0]))"
   ]
  },
  {
   "cell_type": "code",
   "execution_count": 41,
   "id": "52a5a343",
   "metadata": {},
   "outputs": [
    {
     "name": "stdout",
     "output_type": "stream",
     "text": [
      "전처리 후의 1번째 질문 샘플:  심하네\n",
      "전처리 후의 1번째 답변 샘플: 눈살이 찌푸려지죠 . \n"
     ]
    }
   ],
   "source": [
    "# 5번째 샘플 확인\n",
    "print('전처리 후의 1번째 질문 샘플: {}'.format(q[4]))\n",
    "print('전처리 후의 1번째 답변 샘플: {}'.format(a[4]))"
   ]
  },
  {
   "cell_type": "markdown",
   "id": "3e1e0851",
   "metadata": {},
   "source": [
    "- 숫자, 영어가 비어서 나옴\n",
    "- 이부분 수정해서 다시 시도"
   ]
  },
  {
   "cell_type": "code",
   "execution_count": 42,
   "id": "3f8559b8",
   "metadata": {},
   "outputs": [],
   "source": [
    "# 전처리 함수 5\n",
    "def preprocess_sentence(sentence):\n",
    "    # 단어와 구두점(punctuation) 사이의 거리 만들기\n",
    "    sentence = re.sub(r\"([?.!,])\", r\" \\1 \", sentence)\n",
    "    sentence = re.sub(r'[\" \"]+', \" \", sentence)\n",
    "\n",
    "    # (\".\", \"?\", \"!\", \",\")와 영어, 한글을 제외한 모든 문자를 공백인 ' '로 대체\n",
    "    sentence = re.sub(r'[^0-9a-zA-Zㄱ-ㅎ가-힣?.!,]+', ' ', sentence)\n",
    "    return sentence"
   ]
  },
  {
   "cell_type": "code",
   "execution_count": 43,
   "id": "842d22a4",
   "metadata": {},
   "outputs": [
    {
     "name": "stdout",
     "output_type": "stream",
     "text": [
      "전체 샘플 수 : 11823\n",
      "전체 샘플 수 : 11823\n"
     ]
    }
   ],
   "source": [
    "# 질문, 답변 데이터 전처리\n",
    "questions = []\n",
    "answers = []\n",
    "\n",
    "for sentence in df['Q']:\n",
    "    questions.append(preprocess_sentence(sentence))\n",
    "    \n",
    "for sentence in df['A']:\n",
    "    answers.append(preprocess_sentence(sentence))\n",
    "    \n",
    "print('전체 샘플 수 :', len(questions))\n",
    "print('전체 샘플 수 :', len(answers))"
   ]
  },
  {
   "cell_type": "code",
   "execution_count": 44,
   "id": "8a32603f",
   "metadata": {},
   "outputs": [
    {
     "name": "stdout",
     "output_type": "stream",
     "text": [
      "전처리 후의 1번째 질문 샘플: 12시 땡 ! \n",
      "전처리 후의 1번째 답변 샘플: 하루가 또 가네요 . \n"
     ]
    }
   ],
   "source": [
    "# 1번째 샘플 확인\n",
    "print('전처리 후의 1번째 질문 샘플: {}'.format(questions[0]))\n",
    "print('전처리 후의 1번째 답변 샘플: {}'.format(answers[0]))"
   ]
  },
  {
   "cell_type": "code",
   "execution_count": 45,
   "id": "f89ad2ba",
   "metadata": {},
   "outputs": [
    {
     "name": "stdout",
     "output_type": "stream",
     "text": [
      "전처리 후의 1번째 질문 샘플: PPL 심하네\n",
      "전처리 후의 1번째 답변 샘플: 눈살이 찌푸려지죠 . \n"
     ]
    }
   ],
   "source": [
    "# 5번째 샘플 확인\n",
    "print('전처리 후의 1번째 질문 샘플: {}'.format(questions[4]))\n",
    "print('전처리 후의 1번째 답변 샘플: {}'.format(answers[4]))"
   ]
  },
  {
   "cell_type": "markdown",
   "id": "6aa3513e",
   "metadata": {},
   "source": [
    "- 이제 완료!"
   ]
  },
  {
   "cell_type": "markdown",
   "id": "43db4aea",
   "metadata": {},
   "source": [
    "---\n",
    "\n",
    "## Data preprocessing 2 - 병렬 데이터 전처리\n",
    "1. `TensorFlow Datasets SubwordTextEncoder` 를 토크나이저로 사용\n",
    "   - 단어보다 더 작은 단위인 Subword를 기준으로 토크나이징\n",
    "   - 각 토큰을 고유한 정수로 인코딩\n",
    "       - ✅ [tf doc](https://www.tensorflow.org/datasets/api_docs/python/tfds/deprecated/text/SubwordTextEncoder) 공부!\n",
    "   \n",
    "   \n",
    "2. 각 문장을 토큰화하고 각 문장의 시작과 끝을 나타내는 **START_TOKEN 및 END_TOKEN을 추가**\n",
    "\n",
    "\n",
    "3. 최대 길이 **MAX_LENGTH > 40** 문장 필터링\n",
    "    - 아까 EDA에서 확인했을때 형태소 최대 길이가 31로 나왔지만 토큰을 양 옆에 붙여야하니까 그대로 40으로 맞추면 될것 같다\n",
    "    \n",
    "    \n",
    "4. MAX_LENGTH보다 **길이가 짧은 문장들은 40에 맞도록 패딩**\n",
    "\n",
    "[REF][wiki docs](https://wikidocs.net/86792)"
   ]
  },
  {
   "cell_type": "markdown",
   "id": "e492a65e",
   "metadata": {},
   "source": [
    "## 단어장 만들기"
   ]
  },
  {
   "cell_type": "code",
   "execution_count": 46,
   "id": "e690c686",
   "metadata": {},
   "outputs": [],
   "source": [
    "import tensorflow_datasets as tfds\n",
    "\n",
    "# 질문과 답변 데이터셋에 대해서 Vocabulary 생성\n",
    "tokenizer = tfds.deprecated.text.SubwordTextEncoder.build_from_corpus(\n",
    "    questions + answers, target_vocab_size=2**13)"
   ]
  },
  {
   "cell_type": "markdown",
   "id": "5608f968",
   "metadata": {},
   "source": []
  },
  {
   "cell_type": "code",
   "execution_count": 47,
   "id": "22e4ea48",
   "metadata": {},
   "outputs": [],
   "source": [
    "# 시작 토큰과 종료 토큰에 고유한 정수를 부여\n",
    "# 이미 생성된 단어장의 번호와 겹치지 않도록 각각 단어장의 크기보다 +1\n",
    "START_TOKEN, END_TOKEN = [tokenizer.vocab_size], [tokenizer.vocab_size + 1]"
   ]
  },
  {
   "cell_type": "code",
   "execution_count": 48,
   "id": "eb4afb49",
   "metadata": {},
   "outputs": [
    {
     "name": "stdout",
     "output_type": "stream",
     "text": [
      "START_TOKEN의 번호 : [8166]\n",
      "END_TOKEN의 번호 : [8167]\n"
     ]
    }
   ],
   "source": [
    "print('START_TOKEN의 번호 :' ,[tokenizer.vocab_size])\n",
    "print('END_TOKEN의 번호 :' ,[tokenizer.vocab_size + 1])"
   ]
  },
  {
   "cell_type": "code",
   "execution_count": 49,
   "id": "2fc80c0d",
   "metadata": {},
   "outputs": [
    {
     "name": "stdout",
     "output_type": "stream",
     "text": [
      "8168\n"
     ]
    }
   ],
   "source": [
    "# 시작 토큰과 종료 토큰을 고려하여 +2를 하여 단어장의 크기 계산\n",
    "VOCAB_SIZE = tokenizer.vocab_size + 2\n",
    "print(VOCAB_SIZE)"
   ]
  },
  {
   "cell_type": "markdown",
   "id": "e98cd23d",
   "metadata": {},
   "source": [
    "- 숫자가 다르게 나온다... 참고 노트북에서는 단어집합의 크기로 8180이 나오는데, 데이터 전처리부분을 보니 문장 양끝 공백을 삭제하는 부분을 넣지 않아서 달라진걸수도 있겠다\n",
    "- 데이터 전처리를 다시 해서 비교해본다"
   ]
  },
  {
   "cell_type": "code",
   "execution_count": 50,
   "id": "5297bab5",
   "metadata": {},
   "outputs": [],
   "source": [
    "# 전처리 함수 6\n",
    "def preprocess_sentence(sentence):\n",
    "    # 단어와 구두점(punctuation) 사이의 거리 만들기\n",
    "    sentence = re.sub(r\"([?.!,])\", r\" \\1 \", sentence)\n",
    "    sentence = re.sub(r'[\" \"]+', \" \", sentence)\n",
    "\n",
    "    # (\".\", \"?\", \"!\", \",\")와 영어, 한글을 제외한 모든 문자를 공백인 ' '로 대체\n",
    "    sentence = re.sub(r'[^0-9a-zA-Zㄱ-ㅎ가-힣?.!,]+', ' ', sentence)\n",
    "    \n",
    "    # 문장 양 끝 공백 제거\n",
    "    sentence = sentence.strip()\n",
    "    return sentence"
   ]
  },
  {
   "cell_type": "code",
   "execution_count": 51,
   "id": "4287db61",
   "metadata": {},
   "outputs": [
    {
     "name": "stdout",
     "output_type": "stream",
     "text": [
      "전체 샘플 수 : 11823\n",
      "전체 샘플 수 : 11823\n"
     ]
    }
   ],
   "source": [
    "# 질문, 답변 데이터 전처리\n",
    "questions = []\n",
    "answers = []\n",
    "\n",
    "for sentence in df['Q']:\n",
    "    questions.append(preprocess_sentence(sentence))\n",
    "    \n",
    "for sentence in df['A']:\n",
    "    answers.append(preprocess_sentence(sentence))\n",
    "    \n",
    "print('전체 샘플 수 :', len(questions))\n",
    "print('전체 샘플 수 :', len(answers))"
   ]
  },
  {
   "cell_type": "code",
   "execution_count": 52,
   "id": "08655228",
   "metadata": {},
   "outputs": [
    {
     "name": "stdout",
     "output_type": "stream",
     "text": [
      "전처리 후의 1번째 질문 샘플: 12시 땡 !\n",
      "전처리 후의 1번째 답변 샘플: 하루가 또 가네요 .\n",
      "전처리 후의 1번째 질문 샘플: PPL 심하네\n",
      "전처리 후의 1번째 답변 샘플: 눈살이 찌푸려지죠 .\n"
     ]
    }
   ],
   "source": [
    "# 1번째 샘플 확인\n",
    "print('전처리 후의 1번째 질문 샘플: {}'.format(questions[0]))\n",
    "print('전처리 후의 1번째 답변 샘플: {}'.format(answers[0]))\n",
    "\n",
    "# 5번째 샘플 확인\n",
    "print('전처리 후의 1번째 질문 샘플: {}'.format(questions[4]))\n",
    "print('전처리 후의 1번째 답변 샘플: {}'.format(answers[4]))"
   ]
  },
  {
   "cell_type": "code",
   "execution_count": 53,
   "id": "10a001db",
   "metadata": {},
   "outputs": [],
   "source": [
    "# 질문과 답변 데이터셋에 대해서 Vocabulary 생성\n",
    "tokenizer = tfds.deprecated.text.SubwordTextEncoder.build_from_corpus(\n",
    "    questions + answers, target_vocab_size=2**13)"
   ]
  },
  {
   "cell_type": "code",
   "execution_count": 54,
   "id": "af8d14d6",
   "metadata": {},
   "outputs": [],
   "source": [
    "# 시작 토큰과 종료 토큰에 고유한 정수를 부여\n",
    "# 이미 생성된 단어장의 번호와 겹치지 않도록 각각 단어장의 크기보다 +1\n",
    "START_TOKEN, END_TOKEN = [tokenizer.vocab_size], [tokenizer.vocab_size + 1]\n",
    "\n",
    "# 시작 토큰과 종료 토큰을 고려하여 +2를 하여 단어장의 크기 계산\n",
    "VOCAB_SIZE = tokenizer.vocab_size + 2"
   ]
  },
  {
   "cell_type": "code",
   "execution_count": 55,
   "id": "beb93d38",
   "metadata": {},
   "outputs": [
    {
     "name": "stdout",
     "output_type": "stream",
     "text": [
      "START_TOKEN의 번호 : [8164]\n",
      "END_TOKEN의 번호 : [8165]\n",
      "단어 집합 크기 : 8166\n"
     ]
    }
   ],
   "source": [
    "print('START_TOKEN의 번호 :' , START_TOKEN)\n",
    "print('END_TOKEN의 번호 :' , END_TOKEN)\n",
    "print('단어 집합 크기 :', VOCAB_SIZE)"
   ]
  },
  {
   "cell_type": "markdown",
   "id": "118c0625",
   "metadata": {},
   "source": [
    "- 음 모르겠다. csv파일을 열어서 다시 데이터를 꼼꼼히 봐야겠다\n",
    "\n",
    "---\n",
    "\n",
    "**[csv 데이터 확인]**\n",
    "\n",
    "- `~`, `ㅋㅋ`, `ㅠ`, `ㅠㅠ`, `ㅎㅎㅎ` 가 있지만 이미 정규화가 되어있어서 최대 3개까지만 있다.\n",
    "- 위 단어를 제외하면 대부분 중복 표현이 없고, 맞춤법도 다 맞아보인다.\n",
    "- 한번 정제된 데이터셋인것 같다. 데이터전처리 함수에서 단어와 구두점 사이의 공백을 맞추는 부분만 남기고 수정한다"
   ]
  },
  {
   "cell_type": "code",
   "execution_count": 56,
   "id": "4240b0b8",
   "metadata": {},
   "outputs": [],
   "source": [
    "# 전처리 함수 7\n",
    "def preprocess_sentence(sentence):\n",
    "    # 단어와 구두점(punctuation) 사이의 거리 만들기\n",
    "    sentence = re.sub(r\"([?.!,])\", r\" \\1 \", sentence)\n",
    "    sentence = re.sub(r'[\" \"]+', \" \", sentence)\n",
    "    \n",
    "    # 문장 양 끝 공백 제거\n",
    "    sentence = sentence.strip()\n",
    "    return sentence"
   ]
  },
  {
   "cell_type": "code",
   "execution_count": 57,
   "id": "5047d609",
   "metadata": {},
   "outputs": [
    {
     "name": "stdout",
     "output_type": "stream",
     "text": [
      "전체 샘플 수 : 11823\n",
      "전체 샘플 수 : 11823\n"
     ]
    }
   ],
   "source": [
    "# 질문, 답변 데이터 전처리\n",
    "questions = []\n",
    "answers = []\n",
    "\n",
    "for sentence in df['Q']:\n",
    "    questions.append(preprocess_sentence(sentence))\n",
    "    \n",
    "for sentence in df['A']:\n",
    "    answers.append(preprocess_sentence(sentence))\n",
    "    \n",
    "print('전체 샘플 수 :', len(questions))\n",
    "print('전체 샘플 수 :', len(answers))"
   ]
  },
  {
   "cell_type": "code",
   "execution_count": 58,
   "id": "345cd875",
   "metadata": {},
   "outputs": [
    {
     "name": "stdout",
     "output_type": "stream",
     "text": [
      "전처리 후의 1번째 질문 샘플: 12시 땡 !\n",
      "전처리 후의 1번째 답변 샘플: 하루가 또 가네요 .\n",
      "전처리 후의 1번째 질문 샘플: PPL 심하네\n",
      "전처리 후의 1번째 답변 샘플: 눈살이 찌푸려지죠 .\n"
     ]
    }
   ],
   "source": [
    "# 1번째 샘플 확인\n",
    "print('전처리 후의 1번째 질문 샘플: {}'.format(questions[0]))\n",
    "print('전처리 후의 1번째 답변 샘플: {}'.format(answers[0]))\n",
    "\n",
    "# 5번째 샘플 확인\n",
    "print('전처리 후의 1번째 질문 샘플: {}'.format(questions[4]))\n",
    "print('전처리 후의 1번째 답변 샘플: {}'.format(answers[4]))"
   ]
  },
  {
   "cell_type": "code",
   "execution_count": 59,
   "id": "ee614703",
   "metadata": {},
   "outputs": [],
   "source": [
    "# 질문과 답변 데이터셋에 대해서 Vocabulary 생성\n",
    "tokenizer = tfds.deprecated.text.SubwordTextEncoder.build_from_corpus(\n",
    "    questions + answers, target_vocab_size=2**13)"
   ]
  },
  {
   "cell_type": "code",
   "execution_count": 60,
   "id": "cc619ca7",
   "metadata": {},
   "outputs": [],
   "source": [
    "# 시작 토큰과 종료 토큰에 고유한 정수를 부여\n",
    "# 이미 생성된 단어장의 번호와 겹치지 않도록 각각 단어장의 크기보다 +1\n",
    "START_TOKEN, END_TOKEN = [tokenizer.vocab_size], [tokenizer.vocab_size + 1]\n",
    "\n",
    "# 시작 토큰과 종료 토큰을 고려하여 +2를 하여 단어장의 크기 계산\n",
    "VOCAB_SIZE = tokenizer.vocab_size + 2"
   ]
  },
  {
   "cell_type": "code",
   "execution_count": 61,
   "id": "35f56029",
   "metadata": {},
   "outputs": [
    {
     "name": "stdout",
     "output_type": "stream",
     "text": [
      "START_TOKEN의 번호 : [8173]\n",
      "END_TOKEN의 번호 : [8174]\n",
      "단어 집합 크기 : 8175\n"
     ]
    }
   ],
   "source": [
    "print('START_TOKEN의 번호 :' , START_TOKEN)\n",
    "print('END_TOKEN의 번호 :' , END_TOKEN)\n",
    "print('단어 집합 크기 :', VOCAB_SIZE)"
   ]
  },
  {
   "cell_type": "markdown",
   "id": "2a6dd2ef",
   "metadata": {},
   "source": [
    "## 각 단어를 고유한 정수로 인코딩 (Integer encoding) & 패딩 (Padding)\n",
    "- tensorflow_datasets의 `SubwordTextEncoder`로 tokenizer를 정의하고 Vocabulary를 만들면,\n",
    "- `tokenizer.encode()`로 각 단어를 정수로 변환\n",
    "- `tokenizer.decode()`로 정수 시퀀스를 단어 시퀀스로 변환"
   ]
  },
  {
   "cell_type": "code",
   "execution_count": 62,
   "id": "b1f69070",
   "metadata": {},
   "outputs": [
    {
     "name": "stdout",
     "output_type": "stream",
     "text": [
      "정수 인코딩 후의 21번째 질문 샘플: [5764, 610, 2492, 4164]\n",
      "정수 인코딩 후의 21번째 답변 샘플: [2356, 7513, 7, 6276, 97, 1]\n"
     ]
    }
   ],
   "source": [
    "# 임의의 22번째 샘플에 대해서 정수 인코딩 작업을 수행.\n",
    "# 각 토큰을 고유한 정수로 변환\n",
    "print('정수 인코딩 후의 21번째 질문 샘플: {}'.format(tokenizer.encode(questions[21])))\n",
    "print('정수 인코딩 후의 21번째 답변 샘플: {}'.format(tokenizer.encode(answers[21])))"
   ]
  },
  {
   "cell_type": "code",
   "execution_count": 63,
   "id": "b5466855",
   "metadata": {},
   "outputs": [
    {
     "name": "stdout",
     "output_type": "stream",
     "text": [
      "정수 인코딩 후의 문장 [5764, 610, 2492, 4164]\n",
      "기존 문장: 가스비 장난 아님\n"
     ]
    }
   ],
   "source": [
    "# SubwordTextEncoder tokenizer의 .encode()와 decode() 테스트\n",
    "\n",
    "# 임의의 입력 문장을 sample_string에 저장\n",
    "sample_string = questions[21]\n",
    "\n",
    "# encode() : 텍스트 시퀀스 --> 정수 시퀀스\n",
    "tokenized_string = tokenizer.encode(sample_string)\n",
    "print ('정수 인코딩 후의 문장 {}'.format(tokenized_string))\n",
    "\n",
    "# decode() : 정수 시퀀스 --> 텍스트 시퀀스\n",
    "original_string = tokenizer.decode(tokenized_string)\n",
    "print ('기존 문장: {}'.format(original_string))\n",
    "     "
   ]
  },
  {
   "cell_type": "code",
   "execution_count": 64,
   "id": "70a11c14",
   "metadata": {},
   "outputs": [
    {
     "name": "stdout",
     "output_type": "stream",
     "text": [
      "5764 ----> 가스\n",
      "610 ----> 비 \n",
      "2492 ----> 장난 \n",
      "4164 ----> 아님\n"
     ]
    }
   ],
   "source": [
    "# 각 정수는 각 단어와 어떻게 mapping되는지 병렬로 출력\n",
    "# 서브워드텍스트인코더는 의미있는 단위의 서브워드로 토크나이징한다. 띄어쓰기 단위 X 형태소 분석 단위 X\n",
    "for ts in tokenized_string:\n",
    "  print ('{} ----> {}'.format(ts, tokenizer.decode([ts])))"
   ]
  },
  {
   "cell_type": "code",
   "execution_count": 66,
   "id": "a632da0a",
   "metadata": {},
   "outputs": [
    {
     "name": "stdout",
     "output_type": "stream",
     "text": [
      "40\n"
     ]
    }
   ],
   "source": [
    "# 샘플의 최대 허용 길이 또는 패딩 후의 최종 길이 설정\n",
    "MAX_LENGTH = 40\n",
    "print(MAX_LENGTH)"
   ]
  },
  {
   "cell_type": "code",
   "execution_count": 70,
   "id": "4769807a",
   "metadata": {},
   "outputs": [],
   "source": [
    "import tensorflow as tf\n",
    "\n",
    "# 토큰화 / 정수 인코딩 / 시작토큰, 종료 토큰 추가 / 최대 길이를 초과하는 샘플 제거 /패딩 추가 함수\n",
    "def tokenize_and_filter(inputs, outputs):\n",
    "    tokenized_inputs, tokenized_outputs = [], []\n",
    "\n",
    "    for (sentence1, sentence2) in zip(inputs, outputs):\n",
    "        # 정수 인코딩 과정에서 시작 토큰, 종료 토큰 추가\n",
    "        sentence1 = START_TOKEN + tokenizer.encode(sentence1) + END_TOKEN\n",
    "        sentence2 = START_TOKEN + tokenizer.encode(sentence2) + END_TOKEN\n",
    "\n",
    "        # 최대 길이 35 이하인 경우만 데이터셋으로 허용\n",
    "        if len(sentence1) <= MAX_LENGTH and len(sentence2) <= MAX_LENGTH:\n",
    "            tokenized_inputs.append(sentence1)\n",
    "            tokenized_outputs.append(sentence2)\n",
    "\n",
    "    # 최대 길이 40으로 모든 데이터셋 패딩\n",
    "    tokenized_inputs = tf.keras.preprocessing.sequence.pad_sequences(\n",
    "      tokenized_inputs, maxlen=MAX_LENGTH, padding='post')\n",
    "    tokenized_outputs = tf.keras.preprocessing.sequence.pad_sequences(\n",
    "      tokenized_outputs, maxlen=MAX_LENGTH, padding='post')\n",
    "\n",
    "    return tokenized_inputs, tokenized_outputs"
   ]
  },
  {
   "cell_type": "code",
   "execution_count": 71,
   "id": "bbba994a",
   "metadata": {
    "code_folding": []
   },
   "outputs": [],
   "source": [
    "# 정수 인코딩 전처리 \n",
    "questions, answers = tokenize_and_filter(questions, answers)"
   ]
  },
  {
   "cell_type": "code",
   "execution_count": 72,
   "id": "9d281410",
   "metadata": {},
   "outputs": [
    {
     "name": "stdout",
     "output_type": "stream",
     "text": [
      "단어장의 크기 : 8175\n",
      "필터링 후의 질문 샘플 개수: 11823\n",
      "필터링 후의 답변 샘플 개수: 11823\n"
     ]
    }
   ],
   "source": [
    "print('단어장의 크기 :',(VOCAB_SIZE))\n",
    "print('필터링 후의 질문 샘플 개수: {}'.format(len(questions)))\n",
    "print('필터링 후의 답변 샘플 개수: {}'.format(len(answers)))"
   ]
  },
  {
   "cell_type": "markdown",
   "id": "67584b59",
   "metadata": {},
   "source": [
    "## 교사강요(Teacher Forcing) 사용\n",
    "- `tf.data.Dataset API` 는 훈련 프로세스의 속도가 빨라지도록 입력 파이프라인을 구축하는 API\n",
    "- 이를 적극 사용하기 위해서 질문과 답변의 쌍을 tf.data.Dataset의 입력으로 넣어주는 작업이 필요\n",
    "- 이때, 디코더의 입력과 실제값(레이블)을 정의해 주기 위해서는 **[교사 강요(Teacher Forcing)](https://wikidocs.net/46496)** 이라는 언어 모델의 훈련 기법을 사용\n",
    "\n",
    "**자기회귀 모델(auto-regressive model, AR)**\n",
    "- 이전 자신의 출력이 현재 자신의 상태를 결정함\n",
    "- 트랜스포머의 디코더도 자기회귀모델!"
   ]
  },
  {
   "cell_type": "code",
   "execution_count": 73,
   "id": "02c871a7",
   "metadata": {},
   "outputs": [],
   "source": [
    "# tf.data.Dataset API로 파이프라인 구성\n",
    "BATCH_SIZE = 64\n",
    "BUFFER_SIZE = 20000\n",
    "\n",
    "# 디코더 : 이전의 target을 다음의 input으로 사용\n",
    "# outputs에서는 START_TOKEN을 제거\n",
    "dataset = tf.data.Dataset.from_tensor_slices((\n",
    "    {\n",
    "        'inputs': questions,\n",
    "        'dec_inputs': answers[:, :-1] # decoder의 input : 마지막 패딩 토큰 제거\n",
    "    },\n",
    "    {\n",
    "        'outputs': answers[:, 1:]     # 시작 토큰 제거\n",
    "    },\n",
    "))\n",
    "\n",
    "dataset = dataset.cache()\n",
    "dataset = dataset.shuffle(BUFFER_SIZE)\n",
    "dataset = dataset.batch(BATCH_SIZE)\n",
    "dataset = dataset.prefetch(tf.data.experimental.AUTOTUNE)"
   ]
  },
  {
   "cell_type": "markdown",
   "id": "c89bd0f3",
   "metadata": {},
   "source": [
    "---\n",
    "\n",
    "# ===STEP 2. 트랜스포머 모델 구현===\n",
    "\n",
    "💡\n",
    "# Transformer\n",
    "[paper \"Attention is all you need\"](https://arxiv.org/pdf/1706.03762.pdf)<br>\n",
    "[wikidocs](https://wikidocs.net/31379) - 트랜스포머 개념 전반은 위키독스를 참고\n",
    "\n",
    "## Encoder, Decoder\n",
    "**트랜스포머는 encoders, decoders로만 구성된 모델**\n",
    "- encoder와 decoder는 각 6개씩 존재\n",
    "<a href='http://jalammar.github.io/illustrated-transformer/'><img src='./img/transformer_out_struct.png' width=70% height=70%></a>\n",
    "\n",
    "- Encoders에서 Input 정보를 추출하고, Decoders에서 출력문장의 단어를 하나씩 만들어감\n",
    "\n",
    "<a href='http://jalammar.github.io/illustrated-transformer/'><img src='./img/transformer_struct.png' width=80% height=80%></a>\n",
    "\n",
    "**트랜스포머 특징 : Positional encoding**\n",
    "\n",
    "<img src='./img/positional_encoding_paper.png' width=50% height=50%>\n",
    "\n",
    "- RNN처럼 단어입력을 순차적으로 받지 X - 문장의 단어를 모두 한꺼번에 입력받음 \n",
    "    - 단어의 위치정보가 필요!\n",
    "- 단어의 위치 정보를 얻기 위해 **각 단어의 임베딩 벡터에 \"위치 정보\"를 더해서** 모델 입력으로 사용\n",
    "\n",
    "<img src='./img/adding_positional_encoding.png'>\n",
    "\n",
    "- 입력으로 사용되는 임베딩 벡터들이 트랜스포머의 입력으로 사용되기 전에 **positional encoding** 값이 더해진다\n",
    "- 실제로는 행렬끼리의 덧셈\n",
    "<img src='./img/adding_matrix.png'>\n",
    "\n",
    "- 임베딩벡터가 모여 만들어진 **문장벡터행렬** + **positional encoding 행렬** => positional matrix\n",
    "- $pos$ : 입력문장 임베딩 벡터의 위치, $i$: 임베딩 벡터내의 차원 index\n",
    "- positional encoding 값을 만들기위해 sin함수와 cosin함수를 이용\n",
    "\t- $PE_{(pos,\\ 2i)}=sin(pos/10000^{2i/d_{model}})$\n",
    "\t- $PE_{(pos,\\ 2i+1)}=cos(pos/10000^{2i/d_{model}})$\n",
    "\t\t- i가 짝수면 사인함수, 홀수면 코사인함수의 값을 사용\n",
    "\t\t- $d_{model}$ : 모든 층의 출력차원 (논문에서는 512)\n"
   ]
  },
  {
   "cell_type": "markdown",
   "id": "80333d05",
   "metadata": {},
   "source": [
    "## Positional encoding matrix 구현"
   ]
  },
  {
   "cell_type": "code",
   "execution_count": 75,
   "id": "b95180bb",
   "metadata": {},
   "outputs": [],
   "source": [
    "# positional encoding layer\n",
    "class PositionalEncoding(tf.keras.layers.Layer):\n",
    "    def __init__(self, position, d_model):\n",
    "        super(PositionalEncoding, self).__init__()\n",
    "        self.pos_encoding = self.positional_encoding(position, d_model)\n",
    "        \n",
    "    def get_angles(self, position, i, d_model):\n",
    "        angles = 1 / tf.pow(10000, (2 * (i // 2) / tf.cast(d_model, tf.float32)))\n",
    "        return position * angles\n",
    "    \n",
    "    def positional_encoding(self, position, d_model):\n",
    "        # 각도 배열 생성\n",
    "        angle_rads = self.get_angles(\n",
    "            position=tf.range(position, dtype=tf.float32)[:, tf.newaxis],\n",
    "            i=tf.range(d_model, dtype=tf.float32)[tf.newaxis, :],\n",
    "            d_model=d_model)\n",
    "        \n",
    "        # 배열의 짝수 인덱스(2i)에는 sin함수 적용\n",
    "        sines = tf.math.sin(angle_rads[:, 0::2])\n",
    "        \n",
    "        # 배열의 홀수 인덱스(2i+1)에는 cos함수 적용\n",
    "        cosines = tf.math.cos(angle_rads[:, 1::2])\n",
    "        \n",
    "        # sin과 cos이 교차되도록 재배열\n",
    "        pos_encoding = tf.stack([sines, cosines], axis=0)\n",
    "        pos_encoding = tf.transpose(pos_encoding,[1,2,0])\n",
    "        pos_encoding = tf.reshape(pos_encoding, [position, d_model])\n",
    "        \n",
    "        pos_encoding = pos_encoding[tf.newaxis, ...] # '...' : all the remaining dims of the tensor\n",
    "        # in python '...' represent multiple colons ':'\n",
    "        # add a new axis to the pos_encoding tensor and keep all existing dims unchanged\n",
    "        \n",
    "        print(pos_encoding.shape)\n",
    "        return tf.cast(pos_encoding, tf.float32)\n",
    "    \n",
    "    def call(self, inputs):\n",
    "        return inputs + self.pos_encoding[:, :tf.shape(inputs)[1], :]"
   ]
  },
  {
   "cell_type": "code",
   "execution_count": 77,
   "id": "a00cc6e3",
   "metadata": {},
   "outputs": [
    {
     "name": "stdout",
     "output_type": "stream",
     "text": [
      "(1, 40, 512)\n"
     ]
    },
    {
     "data": {
      "image/png": "[encoded data removed]",
      "text/plain": [
       "<Figure size 432x288 with 2 Axes>"
      ]
     },
     "metadata": {
      "needs_background": "light"
     },
     "output_type": "display_data"
    }
   ],
   "source": [
    "# 문장의 길이 40, 임베딩 차원 512인 행렬 만들기\n",
    "sample_pos_encoding = PositionalEncoding(40, 512)\n",
    "\n",
    "# visualize\n",
    "plt.pcolormesh(sample_pos_encoding.pos_encoding.numpy()[0], cmap='Pastel2')\n",
    "plt.xlabel('Depth')\n",
    "plt.xlim((0, 512))\n",
    "plt.ylabel('Position')\n",
    "plt.colorbar()\n",
    "plt.show()"
   ]
  },
  {
   "cell_type": "markdown",
   "id": "5949f9b5",
   "metadata": {},
   "source": [
    "---\n",
    "\n",
    "# Attention mechanism\n",
    "\n",
    "입력 시퀀스가 길어지면 출력 시퀀스의 정확도가 떨어지는 걸 보정하기 위해 등장한 메커니즘\n",
    "- 디코더에서 출력 단어를 예측하는 매 시점(time step)마다 인코더에서 전체 입력문장을 다시 참고한다\n",
    "    - 전체 입력 문장을 '동일한 비율'로 보는게 아니라 **해당 시점에서 예측해야할 단어와 연관이 있는 부분**을 더 **집중**해서\n",
    "\n",
    "## Attention function\n",
    "<img src='./img/attention.png'>\n",
    "\n",
    "**Attention(Q, K, V) = Attention Value**\n",
    "- 어텐션 함수는 주어진 query에 대해 각 key와의 유사도를 계산 -> 이 유사도를 value에 반영 -> 이 value들의 총합을 'Attention value 어텐션 값'으로 리턴\n",
    ">   - t = 어텐션 메커니즘이 수행되는 디코더 셀의 현재 시점\n",
    ">   - Q = Query : t 시점(어텐션마다 다름, t-1시점)의 디코더 셀의 은닉상태($s_t$)\n",
    ">   - K = Keys : 모든 시점의 인코더 셀의 은닉상태($h_t$)\n",
    ">   - V = Values : 모든 시점의 인코더 셀의 은닉상태\n",
    "        - 예시) 구글링할때 검색키워드가 `Q`, 검색결과들이 `K`, 각 결과의 세부 내용이 `V`\n"
   ]
  },
  {
   "cell_type": "markdown",
   "id": "981c006b",
   "metadata": {},
   "source": [
    "---\n",
    "\n",
    "# 트랜스포머에서 사용하는 3가지 Attention\n",
    "\n",
    "<img src='./img/3attentions.png'>\n",
    "\n",
    "- 1번 그림은 encoder에서, 2,3번 그림은 decoder에서 진행됨\n",
    "\n",
    ">[Encoder] Encoder self-attention : Q = K = V<br>\n",
    "> - 인코더의 입력으로 들어간 문장 내 단어간의 유사도를 구함<br>\n",
    ">\n",
    "> [Decoder] Masked Decoder self-attention : Q = K = V<br>\n",
    "> - 단어를 1개씩 생성하는 디코더가 생성된 앞 단어들과의 유사도를 구함\n",
    ">\n",
    "> [Decoder] Encoder-Decoder attention : Q : decoder's vectors, K = V : Encoder's vectors<br>\n",
    "> - 디코더가 잘 예측하도록 인코더에 입력된 단어들과의 유사도를 구함\n",
    "\n",
    "\n",
    "<img src='./img/transformer_attention_overview.png' width=80% height=80%>\n",
    "\n",
    "- 그림을 보면 3가지 attention이 일어나는 위치를 볼수 있음\n",
    "- 박스 안을 보면 'Multi-head'라는 이름이 붙여져있는데 트랜스포머가 어텐션을 **병렬적으로** 수행한다는걸 의미\n",
    "\n",
    "\n",
    "- 여기에서 사용되는 Q, K, V는 트랜스포머의 여러 연산을 거친 정보를 함축한 '**단어 벡터**'"
   ]
  },
  {
   "cell_type": "markdown",
   "id": "763c998d",
   "metadata": {},
   "source": [
    "---\n",
    "\n",
    "## Self-Attention\n",
    "\n",
    "**Q, K, V가 동일한 경우**\n",
    "- 벡터의 출처가 동일하다(벡터의 값이 동일X)\n",
    "- 현재 문장 내의 단어간의 유사도를 구하는 경우임\n",
    "\n",
    "> [트랜스포머 셀프어텐션]<br>Q : 입력 문장의 모든 단어 벡터들<br>\n",
    "> K : 입력 문장의 모든 단어 벡터들<br>\n",
    "> V : 입력 문장의 모든 단어 벡터들<br>\n",
    "\n",
    "<a href='https://ai.googleblog.com/2017/08/transformer-novel-neural-network.html'><img src='./img/self-attention.png'></a>\n",
    "\n",
    "- 여기에서 'it'은 'street'인지 'animal'인지를 알아내기위해 입력문장내의 단어들끼리의 유사도를 구한다 => Attention function의 역할!\n",
    "    - 이 유사도를 알수 있는 지표 = 'Attention Value'\n",
    "\n",
    "다시 정리하면,\n",
    "- 어텐션 함수는 Q에 대해 모든 K와의 유사도를 각각 구하고, K에 매핑되어있는 V에 각 유사도를 가중치로 반영한다.\n",
    "- 이 유사도가 반영된 V를 모두 가중합해서 리턴하는데 이 값이 **Attention Value**"
   ]
  },
  {
   "cell_type": "markdown",
   "id": "e65cc312",
   "metadata": {},
   "source": [
    "---\n",
    "\n",
    "# Transformer - Scaled dot-product Attention\n",
    "트랜스포머는 **scaled dot-product attention**을 사용\n",
    "$$Attention(Q, K, V) = softmax({QK^T\\over{\\sqrt{d_k}}})V$$\n",
    "\n",
    "**[Key concept 3]**\n",
    "1. `Q`, `K`, `V`는 단어 벡터를 행으로 하는 문장행렬\n",
    "2. 벡터의 **내적(dot product)**는 벡터의 유사도를 의미\n",
    "3. 특정 값을 분모로 사용하는 것은 값의 크기를 조절하는 스케일링(scaling)때문\n",
    "\n",
    "**[process]**\n",
    "1. 문장행렬에 가중치 행렬을 곱해서 **Q행렬**, **K행렬**, **V행렬**을 구함\n",
    "<img src='./img/transformer12.png'>\n",
    "\n",
    "\n",
    "2. Attention score 행렬 구함\n",
    "    - Q행렬 ● K행렬\n",
    "<img src='./img/transformer15.png'>\n",
    "\n",
    "\n",
    "3. Attention score를 $\\sqrt{d_{k}}$로 나눈뒤 Attention distribution구하고(softmax, 이 값들이 attention weights) V행렬 내적곱\n",
    "<img src='./img/attention_function_formular.png'>\n",
    "          "
   ]
  },
  {
   "cell_type": "code",
   "execution_count": 78,
   "id": "f608ae20",
   "metadata": {},
   "outputs": [],
   "source": [
    "# scaled dot-product attention\n",
    "def scaled_dot_product_attention(query, key, value, mask):\n",
    "    '''\n",
    "    ===\n",
    "    query size: (batch_size, num_heads, query의 문장 길이, d_model/num_heads)\n",
    "    key size : (batch_size, num_heads, key의 문장 길이, d_model/num_heads)\n",
    "    value size : (batch_size, num_heads, value의 문장 길이, d_model/num_heads)\n",
    "    padding_mask : (batch_size, 1, 1, key의 문장 길이)\n",
    "    ===\n",
    "    (논문에서 사용한 수치)\n",
    "    num_heads = 8\n",
    "    d_model = 512\n",
    "    d_k = d_model / num_heads = 64\n",
    "    ===\n",
    "    '''\n",
    "    # Attention score matrix : Q x K\n",
    "    matmul_qk = tf.matmul(query, key, transpose_b=True)\n",
    "    \n",
    "    # scaling : d_k 루트값으로 나누기\n",
    "    depth = tf.cast(tf.shape(key)[-1], tf.float32)\n",
    "    logits = matmul_qk / tf.math.sqrt(depth)\n",
    "    \n",
    "    # masking : attention score matrix의 마스킹할 위치에 매우 작은 음수를 넣는다\n",
    "    # 매우 작은 값이라 소프트맥스 함수를 지나면 행렬 해당 위치의 값이 0이 됨\n",
    "    if mask is not None:\n",
    "        logits += (mask * -1e9)\n",
    "        \n",
    "    # softmax : 마지막 차원인 key의 문장길이 방향으로 수행됨\n",
    "    # attention_weights : (batch_size, num_heads, query의 문장 길이, key의 문장길이)\n",
    "    attention_weights = tf.nn.softmax(logits, axis=-1)\n",
    "    \n",
    "    # Attention value : attention weights x V mastrix\n",
    "    # output : (batch_size, num_heads, query의 문장길이, d_model/num_heads)\n",
    "    output = tf.matmul(attention_weights, value)\n",
    "    \n",
    "    return output, attention_weights"
   ]
  },
  {
   "cell_type": "code",
   "execution_count": 79,
   "id": "f381f6c8",
   "metadata": {},
   "outputs": [],
   "source": [
    "# scaled_dot_product_attention test\n",
    "\n",
    "# 임의의 Q, K, V 행렬 생성\n",
    "np.set_printoptions(suppress=True)\n",
    "temp_k = tf.constant([[10,0,0],\n",
    "                      [0,10,0],\n",
    "                      [0,0,10],\n",
    "                      [0,0,10]], dtype=tf.float32)  # (4, 3)\n",
    "\n",
    "temp_v = tf.constant([[   1,0],\n",
    "                      [  10,0],\n",
    "                      [ 100,5],\n",
    "                      [1000,6]], dtype=tf.float32)  # (4, 2)\n",
    "temp_q = tf.constant([[0, 10, 0]], dtype=tf.float32)  # (1, 3)"
   ]
  },
  {
   "cell_type": "markdown",
   "id": "feff999c",
   "metadata": {},
   "source": [
    "- `temp_q`는 `temp_k`의 두번째 값과 일치!\n",
    "    - attention distribution, attention value 어떻게 나오는지 확인"
   ]
  },
  {
   "cell_type": "code",
   "execution_count": 80,
   "id": "d4679730",
   "metadata": {
    "code_folding": []
   },
   "outputs": [
    {
     "name": "stdout",
     "output_type": "stream",
     "text": [
      "attention distribution : tf.Tensor([[0. 1. 0. 0.]], shape=(1, 4), dtype=float32)\n",
      "attention value : tf.Tensor([[10.  0.]], shape=(1, 2), dtype=float32)\n"
     ]
    }
   ],
   "source": [
    "# scaled_dot_product_attention test\n",
    "\n",
    "# 함수 실행\n",
    "temp_out, temp_attn = scaled_dot_product_attention(temp_q, temp_k, temp_v, None)\n",
    "print('attention distribution :', temp_attn) # attention distribution(어텐션 가중치의 나열)\n",
    "print('attention value :', temp_out)  # attention values"
   ]
  },
  {
   "cell_type": "markdown",
   "id": "7c00b1ac",
   "metadata": {},
   "source": [
    "Q가 K의 두번째 값과 일치했기때문에 \n",
    "- 어텐션 분포는 [0. 1. 0. 0.]: 두번째 값이 1로, \n",
    "- 어텐션 value는 V의 두번째 값 [10.  0.]이 출력됨"
   ]
  },
  {
   "cell_type": "markdown",
   "id": "b53c0686",
   "metadata": {},
   "source": [
    "# Multi-head Attention\n",
    "트랜스포머는 `num_heads` 변수를 사용해서 병렬로 어텐션을 수행함\n",
    "\n",
    "<img src='./img/transformer17.png'>\n",
    "\n",
    "- $d_{model}$ 차원을 num_heads로 나눠서 $d_{model}/num\\_heads$ 차원을 갖는 Q, K, V에 대해 num_heads개의 병렬 어텐션을 수행함\n",
    "- 그림에서 $a_{num\\_heads}$(어텐션 값 행렬)을 **Attention head 어텐션 헤드**라고 부름\n",
    "\n",
    "\n",
    "**병렬 어텐션 효과**\n",
    "- 여러 시점의 시각으로 정보들을 수집할수 있다\n",
    "\n",
    "<img src='./img/transformer19.png'>\n",
    "\n",
    "- 트랜스포머의 초기입력 문장행렬의 크기는 문장의 길이를 행으로, `d_model`을 열로 가짐\n",
    "- 어텐션헤드를 모두 연결한 행렬에 또다른 가중치 행렬 $W^o$를 곱합\n",
    "\n",
    "\n",
    "**Multi-head attention 구현 단계**\n",
    "1. WQ, WK, WV에 해당하는 d_model 크기의 Dense layer를 통과\n",
    "2. 지정된 num_heads만큼 나눈다(split)\n",
    "3. scaled dot-product attention\n",
    "4. 나눠졌던 헤드를 concatenate\n",
    "5. Wo에 해당하는 dense layer 통과"
   ]
  },
  {
   "cell_type": "code",
   "execution_count": 81,
   "id": "0cefbcef",
   "metadata": {},
   "outputs": [],
   "source": [
    "# multi-head attention 구현\n",
    "class MultiHeadAttention(tf.keras.layers.Layer):\n",
    "    def __init__(self, d_model, num_heads, name='multi_head_attention'):\n",
    "        super(MultiHeadAttention, self).__init__(name=name)\n",
    "        self.num_heads = num_heads\n",
    "        self.d_model = d_model\n",
    "        \n",
    "        assert d_model % self.num_heads == 0\n",
    "        \n",
    "        #d_model을 num_headsfh 나눈 값 : 논문 기준 64\n",
    "        self.depth = d_model // self.num_heads\n",
    "        \n",
    "        # WQ, WK, WV에 해당하는 dense layer\n",
    "        self.query_dense = tf.keras.layers.Dense(units=d_model)\n",
    "        self.key_dense = tf.keras.layers.Dense(units=d_model)\n",
    "        self.value_dense = tf.keras.layers.Dense(units=d_model)\n",
    "        \n",
    "        # Wo에 해당하는 dense layer\n",
    "        self.dense = tf.keras.layers.Dense(units=d_model)\n",
    "        \n",
    "    # num_heads 개수만큼 q, k, v를 split\n",
    "    def split_heads(self, inputs, batch_size):\n",
    "        inputs = tf.reshape(inputs, shape=(batch_size, -1, self.num_heads, self.depth))\n",
    "        return tf.transpose(inputs, perm=[0, 2, 1, 3])\n",
    "    \n",
    "    def call(self, inputs):\n",
    "        query, key, value, mask = inputs['query'], inputs['key'], inputs['value'], inputs['mask']\n",
    "        batch_size = tf.shape(query)[0]\n",
    "        \n",
    "        # 1. WQ, WK, WV에 해당하는 d_model 크기의 Dense layer를 통과\n",
    "        '''\n",
    "        q : (batch_size, query의 문장 길이, d_model)\n",
    "        k : (batch_size, key의 문장 길이, d_model)\n",
    "        v : (batch_size, value의 문장 길이, d_model)\n",
    "        참고) 인코더(k, v)-디코더(q) 어텐션에서는 query 길이와 key, value의 길이는 다를 수 있음\n",
    "        '''\n",
    "        query = self.query_dense(query)\n",
    "        key = self.key_dense(key)\n",
    "        value = self.value_dense(value)\n",
    "\n",
    "        # 2. head나누기\n",
    "        '''\n",
    "        q : (batch_size, num_heads, query의 문장 길이, d_model/num_heads)\n",
    "        k : (batch_size, num_heads, key의 문장 길이, d_model/num_heads)\n",
    "        v : (batch_size, num_heads, value의 문장 길이, d_model/num_heads)\n",
    "        '''\n",
    "        query = self.split_heads(query, batch_size)\n",
    "        key = self.split_heads(key, batch_size)\n",
    "        value = self.split_heads(value, batch_size)\n",
    "\n",
    "        # 3. scaled dot-product attention\n",
    "        '''\n",
    "        (batch_size, num_heads, query의 문장 길이, d_model/num_heads)\n",
    "        '''\n",
    "        scaled_attention, _ = scaled_dot_product_attention(query, key, value, mask)\n",
    "        # shape 변경 : (batch_size, query의 문장 길이, num_heads, d_model/num_heads)\n",
    "        scaled_attention = tf.transpose(scaled_attention, perm=[0, 2, 1, 3])\n",
    "\n",
    "        # 4. concatenate heads : (batch_size, query의 문장 길이, d_model)\n",
    "        concat_attention = tf.reshape(scaled_attention, (batch_size, -1, self.d_model))\n",
    "\n",
    "        # 5. Wo dense layer 통과 : (batch_size, query의 문장 길이, d_model)\n",
    "        outputs = self.dense(concat_attention)\n",
    "\n",
    "        return outputs"
   ]
  },
  {
   "cell_type": "markdown",
   "id": "0a71cad1",
   "metadata": {},
   "source": [
    "# Masking\n",
    "**Masking**은 특정 값을 가려서 실제 연산에 방해가 되지 않도록 하는 기법\n",
    "- 트랜스포머에서는 2가지 마스킹을 사용\n",
    "\n",
    "## Padding Masking\n",
    "- padding token을 사용\n",
    "- '패딩'은 문장의 길이가 다를때, 모든 문장의 길이를 동일하게 하는 과정에서 **정한 길이보다 짧은 문장의 경우 '0'을 채워서 문장의 길이를 맞추는** NLP 전처리 방법\n",
    "- **[Encoder] Encoder self-attention**에서 사용\n",
    "\n",
    "<img src='./img/padding_token.png'>\n",
    "\n",
    "- 위 그림은 keras의 `pad_sequences()`를 사용해서 패딩하는 과정을 시각화한 그림\n",
    "- 숫자 0은 의미있는 단어가 아니므로 연산에서는 제외해야함\n",
    "- 트랜스포머에서 사용한 mask값을 받아서 아주 작은 값을 곱한뒤 어텐션스코어행렬에 더해주는건 패딩을 연산에서 제외시키기 위함\n",
    "\n",
    "<img src='./img/pad_masking2.png'>\n",
    "\n",
    "👉softmax함수를 통과한 뒤: <img src='./img/pad_masking3.png'>\n",
    "\n"
   ]
  },
  {
   "cell_type": "code",
   "execution_count": 82,
   "id": "e7303d2c",
   "metadata": {},
   "outputs": [],
   "source": [
    "# padding masking function\n",
    "def create_padding_mask(x):\n",
    "    mask = tf.cast(tf.math.equal(x, 0), tf.float32)\n",
    "    # (batch_size, 1, 1, sequence length=key 문장 길이)\n",
    "    return mask[:, tf.newaxis, tf.newaxis, :]"
   ]
  },
  {
   "cell_type": "code",
   "execution_count": 83,
   "id": "32dd772b",
   "metadata": {},
   "outputs": [
    {
     "name": "stdout",
     "output_type": "stream",
     "text": [
      "tf.Tensor([[[[0. 0. 0. 1. 1.]]]], shape=(1, 1, 1, 5), dtype=float32)\n"
     ]
    }
   ],
   "source": [
    "# mask test\n",
    "print(create_padding_mask(tf.constant([[1, 21, 777, 0, 0]])))"
   ]
  },
  {
   "cell_type": "markdown",
   "id": "291d7e81",
   "metadata": {},
   "source": [
    "- 0인 부분만 '1'로 표시된 벡터를 얻을수 있다"
   ]
  },
  {
   "cell_type": "markdown",
   "id": "79a23f42",
   "metadata": {},
   "source": [
    "## Look-ahead masking, 다음 단어 가리기\n",
    "트랜스포머는 전체 문장이 문장행렬로 입력되기때문에 위치와 상관없이 모든 단어를 참고해서 다음 단어를 예측할수 있음  \n",
    "but, **이전 단어만 참고해서 다음 단어를 예측**하는 훈련을 하는게 목적!\n",
    "\n",
    "**Look-ahead masking** : 다음에 나올 단어는 참고하지 않도록 가리는 마스킹 기법\n",
    "\n",
    "<a href='https://www.youtube.com/watch?v=xhY7m8QVKjo'><img src='./img/look_ahead_masking.png' width=80% height=80%></a>\n",
    "\n",
    "- 어텐션을 수행할때 Query 단어 뒤에 나오는 Key 단어는 마스킹 \n",
    "- **[Decoder] Masked Decoder self-attention**에서 사용"
   ]
  },
  {
   "cell_type": "code",
   "execution_count": 84,
   "id": "c6bfed6f",
   "metadata": {},
   "outputs": [],
   "source": [
    "# decoder의 첫번째 sublayer에서 미래 토큰을 mask하는 함수\n",
    "def create_look_ahead_mask(x):\n",
    "    seq_len = tf.shape(x)[1]\n",
    "    look_ahead_mask = 1 - tf.linalg.band_part(tf.ones((seq_len, seq_len)), -1, 0)\n",
    "    padding_mask = create_padding_mask(x)\n",
    "    return tf.maximum(look_ahead_mask, padding_mask)"
   ]
  },
  {
   "cell_type": "code",
   "execution_count": 85,
   "id": "4f877a53",
   "metadata": {},
   "outputs": [
    {
     "name": "stdout",
     "output_type": "stream",
     "text": [
      "tf.Tensor(\n",
      "[[[[0. 1. 1. 1. 1.]\n",
      "   [0. 0. 1. 1. 1.]\n",
      "   [0. 0. 0. 1. 1.]\n",
      "   [0. 0. 0. 0. 1.]\n",
      "   [0. 0. 0. 0. 0.]]]], shape=(1, 1, 5, 5), dtype=float32)\n"
     ]
    }
   ],
   "source": [
    "# mask test\n",
    "print(create_look_ahead_mask(tf.constant([[1, 2, 3, 4, 5]])))"
   ]
  },
  {
   "cell_type": "code",
   "execution_count": 86,
   "id": "c11480ab",
   "metadata": {},
   "outputs": [
    {
     "name": "stdout",
     "output_type": "stream",
     "text": [
      "tf.Tensor(\n",
      "[[[[1. 1. 1. 1. 1.]\n",
      "   [1. 0. 1. 1. 1.]\n",
      "   [1. 0. 0. 1. 1.]\n",
      "   [1. 0. 0. 0. 1.]\n",
      "   [1. 0. 0. 0. 0.]]]], shape=(1, 1, 5, 5), dtype=float32)\n"
     ]
    }
   ],
   "source": [
    "# mask test2 - 0 padding이 포함된 경우\n",
    "print(create_look_ahead_mask(tf.constant([[0, 5, 1, 5, 5]])))"
   ]
  },
  {
   "cell_type": "markdown",
   "id": "632f6a79",
   "metadata": {},
   "source": [
    "- 숫자 0은 무조건 1로 채워진다"
   ]
  },
  {
   "cell_type": "markdown",
   "id": "9ff0367d",
   "metadata": {},
   "source": [
    "---\n",
    "\n",
    "# Encoder layer 구현\n",
    "\n",
    "<img src='./img/encoder.png' width=70% height=70%>\n",
    "<img src='./img/encoder_detail.png' width=60% height=60%>\n",
    "\n",
    "하나의 인코더층은 2개의 sublayer로 나눠짐\n",
    "- Self attention + Feed Forward Neural Network\n",
    "    - 셀프어텐션은 Multi head attention으로 병렬로 일어남\n",
    "    "
   ]
  },
  {
   "cell_type": "code",
   "execution_count": 87,
   "id": "e7b4a733",
   "metadata": {},
   "outputs": [],
   "source": [
    "# 1개의 Encoder layer\n",
    "def encoder_layer(units, d_model, num_heads, dropout, name='encoder_layer'):\n",
    "    inputs = tf.keras.Input(shape=(None, d_model), name='inputs')\n",
    "    \n",
    "    # padding mask\n",
    "    padding_mask = tf.keras.Input(shape=(1,1,None), name='padding_mask')\n",
    "    \n",
    "    # Sublayer 1 : Multi head attention layer(self attention)\n",
    "    attention = MultiHeadAttention(\n",
    "        d_model, num_heads, name='attention')({\n",
    "        'query': inputs,\n",
    "        'key' : inputs,\n",
    "        'value': inputs,\n",
    "        'mask' : padding_mask\n",
    "    })\n",
    "    \n",
    "    # Dropout + Residual connection & Layer Normalization()\n",
    "    # sublayer 1 어텐션의 결과의 훈련을 돕기위한 과정\n",
    "    attention = tf.keras.layers.Dropout(rate=dropout)(attention)\n",
    "    attention = tf.keras.layers.LayerNormalization(\n",
    "        epsilon=1e-6)(inputs + attention)\n",
    "    \n",
    "    # Sublayer 2 : Feed Forward NN (2개의 완전연결층)\n",
    "    outputs = tf.keras.layers.Dense(units=units, activation='relu')(attention)\n",
    "    outputs = tf.keras.layers.Dense(units=d_model)(outputs)\n",
    "    \n",
    "    # Dropout + Residual connection & Layer Normalization()\n",
    "    # sublayer 2 dense layer 결과의 훈련을 돕기위한 과정\n",
    "    outputs = tf.keras.layers.Dropout(rate=dropout)(outputs)\n",
    "    outputs = tf.keras.layers.LayerNormalization(epsilon=1e-6)(attention + outputs)\n",
    "    \n",
    "    return tf.keras.Model(inputs=[inputs, padding_mask],\n",
    "                         outputs=outputs, name=name)"
   ]
  },
  {
   "cell_type": "markdown",
   "id": "a07d6186",
   "metadata": {},
   "source": [
    "# Encoder\n",
    "트랜스포머는 `num_layers` 개수의 인코더 층을 쌓는다\n",
    "\n",
    "- encoder layer + embedding layer + positional encoding = Encoder\n",
    "\n",
    "---\n",
    "\n",
    "💡 **[embedding]**\n",
    "- 사람이 사용하는 언어(자연어)를 컴퓨터가 이해할 수 있는 언어(숫자) 형태인 **vector(벡터)로 변환한 결과 혹은 일련 과정**\n",
    "- 역할 : (1) 단어 및 문장 간 관련성 계산, (2) 의미적/문법적 정보 함축\n",
    "\n",
    "\n",
    "[REF] [blog](https://velog.io/@choonsik_mom/%EB%8B%A4%EC%96%91%ED%95%9C-NLP-Embedding-%EA%B8%B0%EB%B2%95.araboja) \n",
    "\n",
    "---\n",
    "\n",
    "- 아래 코드에서는 `tf.keras.layers.Embedding`을 사용\n",
    "    - 임베딩 방식이 여러개가 있는데, 케라스 임베딩 레이어는 어떤 방식을 사용할까?\n",
    "    - [tf doc](https://www.tensorflow.org/api_docs/python/tf/keras/layers/Embedding#output-shape)에서는 별다른 설명을 찾지 못했다.\n",
    "    \n",
    "> **처음에 무작위로 초기화된 상태에서 정수 word를 정해진 크기의 벡터로 바꿔서 다음 layer에 전달하고, 학습단계에서는 역전파되는 기울기를 바탕으로 해당 word의 임베딩 값을 조정 -> 주변 문맥을 반영하지 않음** 참고: [블로그](https://heegyukim.medium.com/keras-embedding%EC%9D%80-word2vec%EC%9D%B4-%EC%95%84%EB%8B%88%EB%8B%A4-619bd683ded6), [StackExchange](https://stats.stackexchange.com/questions/270546/how-does-keras-embedding-layer-work)\n",
    "\n",
    "- ✅ 트랜스포머 논문 천천히 읽어보기\n"
   ]
  },
  {
   "cell_type": "code",
   "execution_count": 88,
   "id": "8e83561e",
   "metadata": {},
   "outputs": [],
   "source": [
    "# Encoder\n",
    "def encoder(vocab_size, num_layers, units, d_model, num_heads, dropout, name='encoder'):\n",
    "    inputs = tf.keras.Input(shape=(None,), name='inputs')\n",
    "    \n",
    "    # padding mask\n",
    "    padding_mask = tf.keras.Input(shape=(1,1,None), name='padding_mask')\n",
    "    \n",
    "    # Embedding layer\n",
    "    embeddings = tf.keras.layers.Embedding(vocab_size, d_model)(inputs)\n",
    "    embeddings *= tf.math.sqrt(tf.cast(d_model, tf.float32))\n",
    "    \n",
    "    # Positional encoding\n",
    "    embeddings = PositionalEncoding(vocab_size, d_model)(embeddings)\n",
    "    \n",
    "    outputs = tf.keras.layers.Dropout(rate=dropout)(embeddings)\n",
    "    \n",
    "    # num_layers만큼 layer 쌓기\n",
    "    for i in range(num_layers):\n",
    "        outputs = encoder_layer(units=units,\n",
    "                               d_model=d_model,\n",
    "                               num_heads=num_heads,\n",
    "                               dropout=dropout,\n",
    "                               name='encoder_layer_{}'.format(i),\n",
    "                               )([outputs, padding_mask])\n",
    "        \n",
    "    return tf.keras.Model(inputs=[inputs, padding_mask],\n",
    "                         outputs=outputs, name=name)"
   ]
  },
  {
   "cell_type": "markdown",
   "id": "18f4941a",
   "metadata": {},
   "source": [
    "---\n",
    "\n",
    "# Decoder layer 구현\n",
    "디코더는 3개의 sublayer로 구성\n",
    "\n",
    "<img src='./img/decoder_layer.png' width=80% height=80%>\n",
    "\n",
    "- **Self-attention + Encoder-Decoder Attention + Feed forward**\n",
    "    - Encoder-Decoder Attention은 Q:decoder vector, K,V: encoder vector!\n",
    "        - 여기에서 encoder가 입력문장의 정보를 decoder에 전달함\n",
    "\n",
    "<img src='./img/decoder_layer_detail.png'>\n",
    "\n",
    "- attention 모두 **multi-head attention으로 병렬처리**!"
   ]
  },
  {
   "cell_type": "code",
   "execution_count": 89,
   "id": "2de4e2ca",
   "metadata": {},
   "outputs": [],
   "source": [
    "# 1개의 decoder layer\n",
    "def decoder_layer(units, d_model, num_heads, dropout, name='decoder_layer'):\n",
    "    inputs = tf.keras.Input(shape=(None, d_model), name='inputs')\n",
    "    enc_outputs = tf.keras.Input(shape=(None, d_model), name='encoder_outputs')\n",
    "    \n",
    "    # Sublayer 1 : Look-ahead mask\n",
    "    look_ahead_mask = tf.keras.Input(shape=(1, None, None), name='look_ahead_mask')\n",
    "    \n",
    "    # Sublayer 2 : Padding mask\n",
    "    padding_mask = tf.keras.Input(shape=(1,1,None), name='padding_mask')\n",
    "    \n",
    "    # Sublayer 1 : Multi-head attention(masked self attention)\n",
    "    attention1 = MultiHeadAttention(d_model, num_heads, name='attention_1')(inputs={\n",
    "        'query': inputs,\n",
    "        'key' : inputs,\n",
    "        'value': inputs,\n",
    "        'mask' : look_ahead_mask\n",
    "    })\n",
    "    \n",
    "    # Residual connection + LayerNormalization\n",
    "    # sublayer 1 어텐션의 결과의 훈련을 돕기위한 과정\n",
    "    attention1 = tf.keras.layers.LayerNormalization(epsilon=1e-6)(attention1 + inputs)\n",
    "    \n",
    "    # Sublayer 2 : masked Multi-head attention(Encoder-Decoder attention)\n",
    "    attention2 = MultiHeadAttention(\n",
    "        d_model, num_heads, name='attention_2')(inputs={\n",
    "        'query': attention1,\n",
    "        'key' : enc_outputs,\n",
    "        'value' : enc_outputs,\n",
    "        'mask' : padding_mask\n",
    "    })\n",
    "    \n",
    "    # Dropout + Residual connection + LayerNormalization\n",
    "    # sublayer 2 어텐션 결과의 훈련을 돕기위한 과정\n",
    "    attention2 = tf.keras.layers.Dropout(rate=dropout)(attention2)\n",
    "    attention2 = tf.keras.layers.LayerNormalization(epsilon=1e-6)(attention2 + attention1)\n",
    "    \n",
    "    # Sublayer 3 : Feed forward NN(Dense layer)\n",
    "    outputs = tf.keras.layers.Dense(units=units, activation='relu')(attention2)\n",
    "    outputs = tf.keras.layers.Dense(units=d_model)(outputs)\n",
    "    \n",
    "    # Dropout + Residual connection + LayerNormalization\n",
    "    # sublayer 3 결과의 훈련을 돕기위한 과정\n",
    "    outputs = tf.keras.layers.Dropout(rate=dropout)(outputs)\n",
    "    outputs = tf.keras.layers.LayerNormalization(epsilon=1e-6)(outputs + attention2)\n",
    "    \n",
    "    return tf.keras.Model(inputs=[inputs, enc_outputs, look_ahead_mask, padding_mask],\n",
    "                         outputs=outputs, name=name)"
   ]
  },
  {
   "cell_type": "markdown",
   "id": "9487d13c",
   "metadata": {},
   "source": [
    "# Decoder"
   ]
  },
  {
   "cell_type": "code",
   "execution_count": 90,
   "id": "39dbb002",
   "metadata": {},
   "outputs": [],
   "source": [
    "def decoder(vocab_size, num_layers, units, d_model, num_heads, dropout, name='decoder'):\n",
    "    inputs = tf.keras.Input(shape=(None,), name='inputs')\n",
    "    enc_outputs = tf.keras.Input(shape=(None, d_model), name='encoder_outputs')\n",
    "    \n",
    "    # look-ahead mask\n",
    "    look_ahead_mask = tf.keras.Input(shape=(1, None, None), name='look_ahead_mask')\n",
    "    \n",
    "    # padding mask\n",
    "    padding_mask = tf.keras.Input(shape=(1, 1, None), name='padding_mask')\n",
    "    \n",
    "    # Embedding layer\n",
    "    embeddings = tf.keras.layers.Embedding(vocab_size, d_model)(inputs)\n",
    "    embeddings *= tf.math.sqrt(tf.cast(d_model, tf.float32))\n",
    "    \n",
    "    # Positional encoding\n",
    "    embeddings = PositionalEncoding(vocab_size, d_model)(embeddings)\n",
    "    \n",
    "    # Dropout\n",
    "    outputs = tf.keras.layers.Dropout(rate=dropout)(embeddings)\n",
    "    \n",
    "    # num_layers만큼 layer 쌓기\n",
    "    for i in range(num_layers):\n",
    "        outputs = decoder_layer(units=units,\n",
    "                               d_model=d_model,\n",
    "                               num_heads=num_heads,\n",
    "                               dropout=dropout,\n",
    "                               name='decoder_layer_{}'.format(i),\n",
    "                               )(inputs=[outputs, enc_outputs, look_ahead_mask, padding_mask])\n",
    "    \n",
    "    return tf.keras.Model(inputs=[inputs, enc_outputs, look_ahead_mask, padding_mask],\n",
    "                         outputs=outputs,\n",
    "                         name=name)"
   ]
  },
  {
   "cell_type": "markdown",
   "id": "6d2037c2",
   "metadata": {},
   "source": [
    "---\n",
    "\n",
    "# Transformer\n",
    "\n",
    "위에서 만든 함수들을 모두 합한 트랜스포머 함수 "
   ]
  },
  {
   "cell_type": "code",
   "execution_count": 91,
   "id": "85c61cf4",
   "metadata": {},
   "outputs": [],
   "source": [
    "def transformer(vocab_size, num_layers, units, \n",
    "                d_model, num_heads, dropout, name='transformer'):\n",
    "    inputs = tf.keras.Input(shape=(None,), name='inputs')\n",
    "    dec_inputs = tf.keras.Input(shape=(None,), name='dec_inputs')\n",
    "    \n",
    "    # padding mask for encoder\n",
    "    enc_padding_mask = tf.keras.layers.Lambda(\n",
    "        create_padding_mask, output_shape=(1,1,None),\n",
    "        name='enc_paddint_mask')(inputs)\n",
    "    \n",
    "    \n",
    "    # look-ahead mask for decoder\n",
    "    # decoder에서 미래토큰을 마스크하기위해 사용\n",
    "    look_ahead_mask = tf.keras.layers.Lambda(\n",
    "        create_look_ahead_mask,\n",
    "        output_shape=(1, None, None),\n",
    "        name='look_ahead_mask')(dec_inputs)\n",
    "    \n",
    "    # padding mask for decoder\n",
    "    dec_padding_mask = tf.keras.layers.Lambda(\n",
    "        create_padding_mask, output_shape=(1,1,None),\n",
    "        name='dec_padding_mask')(inputs)\n",
    "    \n",
    "    # Encoder\n",
    "    enc_outputs = encoder(\n",
    "        vocab_size=vocab_size,\n",
    "        num_layers=num_layers,\n",
    "        units=units,\n",
    "        d_model=d_model,\n",
    "        num_heads=num_heads,\n",
    "        dropout=dropout)(inputs=[inputs, enc_padding_mask])\n",
    "    \n",
    "    # Decoder\n",
    "    dec_outputs = decoder(\n",
    "        vocab_size=vocab_size,\n",
    "        num_layers=num_layers,\n",
    "        units=units,\n",
    "        d_model=d_model,\n",
    "        num_heads=num_heads,\n",
    "        dropout=dropout)(inputs=[dec_inputs, enc_outputs, look_ahead_mask, dec_padding_mask])\n",
    "\n",
    "    # 완전연결층\n",
    "    outputs = tf.keras.layers.Dense(units=vocab_size, name='outputs')(dec_outputs)\n",
    "\n",
    "    return tf.keras.Model(inputs=[inputs, dec_inputs], outputs=outputs, name=name)"
   ]
  },
  {
   "cell_type": "markdown",
   "id": "e67eed6f",
   "metadata": {},
   "source": [
    "---\n",
    "\n",
    "# 모델 생성"
   ]
  },
  {
   "cell_type": "code",
   "execution_count": 92,
   "id": "bff47d36",
   "metadata": {},
   "outputs": [
    {
     "name": "stdout",
     "output_type": "stream",
     "text": [
      "(1, 8175, 256)\n",
      "(1, 8175, 256)\n",
      "Model: \"transformer\"\n",
      "__________________________________________________________________________________________________\n",
      "Layer (type)                    Output Shape         Param #     Connected to                     \n",
      "==================================================================================================\n",
      "inputs (InputLayer)             [(None, None)]       0                                            \n",
      "__________________________________________________________________________________________________\n",
      "dec_inputs (InputLayer)         [(None, None)]       0                                            \n",
      "__________________________________________________________________________________________________\n",
      "enc_paddint_mask (Lambda)       (None, 1, 1, None)   0           inputs[0][0]                     \n",
      "__________________________________________________________________________________________________\n",
      "encoder (Functional)            (None, None, 256)    4728320     inputs[0][0]                     \n",
      "                                                                 enc_paddint_mask[0][0]           \n",
      "__________________________________________________________________________________________________\n",
      "look_ahead_mask (Lambda)        (None, 1, None, None 0           dec_inputs[0][0]                 \n",
      "__________________________________________________________________________________________________\n",
      "dec_padding_mask (Lambda)       (None, 1, 1, None)   0           inputs[0][0]                     \n",
      "__________________________________________________________________________________________________\n",
      "decoder (Functional)            (None, None, 256)    6046720     dec_inputs[0][0]                 \n",
      "                                                                 encoder[0][0]                    \n",
      "                                                                 look_ahead_mask[0][0]            \n",
      "                                                                 dec_padding_mask[0][0]           \n",
      "__________________________________________________________________________________________________\n",
      "outputs (Dense)                 (None, None, 8175)   2100975     decoder[0][0]                    \n",
      "==================================================================================================\n",
      "Total params: 12,876,015\n",
      "Trainable params: 12,876,015\n",
      "Non-trainable params: 0\n",
      "__________________________________________________________________________________________________\n"
     ]
    }
   ],
   "source": [
    "tf.keras.backend.clear_session()\n",
    "\n",
    "# 하이퍼파라미터\n",
    "NUM_LAYERS = 5 # 인코더와 디코더의 층의 개수 : 논문엔 6이지만 5로 해본다!\n",
    "D_MODEL = 256  # 인코더와 디코더 내부의 입, 출력의 고정 차원\n",
    "NUM_HEADS = 8  # Multi-head attention의 헤드 수 \n",
    "UNITS = 512    # Fead forward NN의 은닉층 크기\n",
    "DROPOUT = 0.3  # 드롭아웃 비율\n",
    "\n",
    "model = transformer(\n",
    "    vocab_size=VOCAB_SIZE,\n",
    "    num_layers=NUM_LAYERS,\n",
    "    units=UNITS,\n",
    "    d_model=D_MODEL,\n",
    "    num_heads=NUM_HEADS,\n",
    "    dropout=DROPOUT,\n",
    "    name='transformer')\n",
    "\n",
    "model.summary()"
   ]
  },
  {
   "cell_type": "code",
   "execution_count": 93,
   "id": "af868de9",
   "metadata": {},
   "outputs": [
    {
     "data": {
      "image/png": "[encoded data removed]",
      "text/plain": [
       "<IPython.core.display.Image object>"
      ]
     },
     "execution_count": 93,
     "metadata": {},
     "output_type": "execute_result"
    }
   ],
   "source": [
    "tf.keras.utils.plot_model(\n",
    "    model, to_file='transformer.png', show_shapes=True)"
   ]
  },
  {
   "cell_type": "markdown",
   "id": "641ca203",
   "metadata": {},
   "source": [
    "# Loss function\n",
    "- label인 sequence에 패딩이 되어있으니 loss 계산할때 패딩마스크 적용해야함!"
   ]
  },
  {
   "cell_type": "code",
   "execution_count": 94,
   "id": "bd1deae4",
   "metadata": {},
   "outputs": [],
   "source": [
    "def loss_function(y_true, y_pred):\n",
    "  y_true = tf.reshape(y_true, shape=(-1, MAX_LENGTH - 1))\n",
    "  \n",
    "  loss = tf.keras.losses.SparseCategoricalCrossentropy(\n",
    "      from_logits=True, reduction='none')(y_true, y_pred)\n",
    "\n",
    "  mask = tf.cast(tf.not_equal(y_true, 0), tf.float32)\n",
    "  loss = tf.multiply(loss, mask)\n",
    "\n",
    "  return tf.reduce_mean(loss)"
   ]
  },
  {
   "cell_type": "markdown",
   "id": "ff80ac28",
   "metadata": {},
   "source": [
    "# Custom Learning rate\n",
    "**커스텀 학습률 스케줄링(Custom Learning rate Scheduling)**\n",
    "- 모델학습 초기에 learning rate를 급격히 높였다가, 이후 train step이 진행됨에 따라 서서히 낮추어 가면서 안정적으로 수렴하게 하는 고급 기법\n",
    "- 논문에 나온 공식을 참고하여 커스텀 학습률 스케줄러를 통한 아담 옵티마이저 사용\n",
    "\n",
    "[REF] [tf doc](https://www.tensorflow.org/api_docs/python/tf/keras/optimizers/schedules/LearningRateSchedule)"
   ]
  },
  {
   "cell_type": "code",
   "execution_count": 95,
   "id": "fad0d7d3",
   "metadata": {},
   "outputs": [],
   "source": [
    "class CustomSchedule(tf.keras.optimizers.schedules.LearningRateSchedule):\n",
    "    def __init__(self, d_model, warmup_steps=4000):\n",
    "        super(CustomSchedule, self).__init__()\n",
    "\n",
    "        self.d_model = d_model\n",
    "        self.d_model = tf.cast(self.d_model, tf.float32)\n",
    "\n",
    "        self.warmup_steps = warmup_steps\n",
    "\n",
    "    def __call__(self, step):\n",
    "        arg1 = tf.math.rsqrt(step)\n",
    "        arg2 = step * (self.warmup_steps**-1.5)\n",
    "\n",
    "        return tf.math.rsqrt(self.d_model) * tf.math.minimum(arg1, arg2)"
   ]
  },
  {
   "cell_type": "code",
   "execution_count": 96,
   "id": "b5d2bf47",
   "metadata": {},
   "outputs": [
    {
     "data": {
      "text/plain": [
       "Text(0.5, 0, 'Train Step')"
      ]
     },
     "execution_count": 96,
     "metadata": {},
     "output_type": "execute_result"
    },
    {
     "data": {
      "image/png": "[encoded data removed]",
      "text/plain": [
       "<Figure size 432x288 with 1 Axes>"
      ]
     },
     "metadata": {
      "needs_background": "light"
     },
     "output_type": "display_data"
    }
   ],
   "source": [
    "# 방금 정의한 커스텀 학습률 스케줄링 계획 시각화\n",
    "sample_learning_rate = CustomSchedule(d_model=128)\n",
    "\n",
    "plt.plot(sample_learning_rate(tf.range(200000, dtype=tf.float32)))\n",
    "plt.ylabel(\"Learning Rate\")\n",
    "plt.xlabel(\"Train Step\")"
   ]
  },
  {
   "cell_type": "markdown",
   "id": "cf009433",
   "metadata": {},
   "source": [
    "# Compile model"
   ]
  },
  {
   "cell_type": "code",
   "execution_count": 98,
   "id": "bcdf7682",
   "metadata": {},
   "outputs": [],
   "source": [
    "learning_rate = CustomSchedule(D_MODEL)\n",
    "\n",
    "optimizer = tf.keras.optimizers.Adam(\n",
    "    learning_rate, beta_1=0.9, beta_2=0.98, epsilon=1e-9)\n",
    "\n",
    "def accuracy(y_true, y_pred):\n",
    "    # ensure labels have shape (batch_size, MAX_LENGTH - 1)\n",
    "    y_true = tf.reshape(y_true, shape=(-1, MAX_LENGTH - 1))\n",
    "    return tf.keras.metrics.sparse_categorical_accuracy(y_true, y_pred)"
   ]
  },
  {
   "cell_type": "code",
   "execution_count": 99,
   "id": "b08e5b74",
   "metadata": {},
   "outputs": [
    {
     "name": "stdout",
     "output_type": "stream",
     "text": [
      "GPU train\n"
     ]
    }
   ],
   "source": [
    "print('GPU train')\n",
    "with tf.device('/GPU:0'):\n",
    "    model.compile(optimizer=optimizer, loss=loss_function, metrics=[accuracy])"
   ]
  },
  {
   "cell_type": "markdown",
   "id": "de5f8149",
   "metadata": {},
   "source": [
    "---\n",
    "\n",
    "# ===STEP 3. 모델 훈련===\n",
    "\n",
    "# Train model"
   ]
  },
  {
   "cell_type": "code",
   "execution_count": 100,
   "id": "7d63f056",
   "metadata": {},
   "outputs": [
    {
     "name": "stdout",
     "output_type": "stream",
     "text": [
      "Epoch 1/50\n",
      "185/185 [==============================] - 40s 103ms/step - loss: 1.4510 - accuracy: 0.0211\n",
      "Epoch 2/50\n",
      "185/185 [==============================] - 19s 104ms/step - loss: 1.2033 - accuracy: 0.0313\n",
      "Epoch 3/50\n",
      "185/185 [==============================] - 19s 103ms/step - loss: 1.0421 - accuracy: 0.0496\n",
      "Epoch 4/50\n",
      "185/185 [==============================] - 19s 102ms/step - loss: 0.9799 - accuracy: 0.0504\n",
      "Epoch 5/50\n",
      "185/185 [==============================] - 19s 102ms/step - loss: 0.9425 - accuracy: 0.0516\n",
      "Epoch 6/50\n",
      "185/185 [==============================] - 19s 103ms/step - loss: 0.9195 - accuracy: 0.0529\n",
      "Epoch 7/50\n",
      "185/185 [==============================] - 19s 102ms/step - loss: 0.8982 - accuracy: 0.0538\n",
      "Epoch 8/50\n",
      "185/185 [==============================] - 19s 102ms/step - loss: 0.8758 - accuracy: 0.0549\n",
      "Epoch 9/50\n",
      "185/185 [==============================] - 19s 102ms/step - loss: 0.8538 - accuracy: 0.0562\n",
      "Epoch 10/50\n",
      "185/185 [==============================] - 19s 102ms/step - loss: 0.8314 - accuracy: 0.0575\n",
      "Epoch 11/50\n",
      "185/185 [==============================] - 19s 102ms/step - loss: 0.8088 - accuracy: 0.0584\n",
      "Epoch 12/50\n",
      "185/185 [==============================] - 19s 102ms/step - loss: 0.7854 - accuracy: 0.0596\n",
      "Epoch 13/50\n",
      "185/185 [==============================] - 19s 103ms/step - loss: 0.7618 - accuracy: 0.0606\n",
      "Epoch 14/50\n",
      "185/185 [==============================] - 19s 102ms/step - loss: 0.7358 - accuracy: 0.0621\n",
      "Epoch 15/50\n",
      "185/185 [==============================] - 19s 102ms/step - loss: 0.7101 - accuracy: 0.0637\n",
      "Epoch 16/50\n",
      "185/185 [==============================] - 19s 102ms/step - loss: 0.6855 - accuracy: 0.0651\n",
      "Epoch 17/50\n",
      "185/185 [==============================] - 19s 102ms/step - loss: 0.6594 - accuracy: 0.0673\n",
      "Epoch 18/50\n",
      "185/185 [==============================] - 19s 101ms/step - loss: 0.6328 - accuracy: 0.0697\n",
      "Epoch 19/50\n",
      "185/185 [==============================] - 19s 102ms/step - loss: 0.6077 - accuracy: 0.0722\n",
      "Epoch 20/50\n",
      "185/185 [==============================] - 19s 102ms/step - loss: 0.5803 - accuracy: 0.0751\n",
      "Epoch 21/50\n",
      "185/185 [==============================] - 19s 102ms/step - loss: 0.5554 - accuracy: 0.0781\n",
      "Epoch 22/50\n",
      "185/185 [==============================] - 19s 102ms/step - loss: 0.5318 - accuracy: 0.0808\n",
      "Epoch 23/50\n",
      "185/185 [==============================] - 19s 102ms/step - loss: 0.5029 - accuracy: 0.0848\n",
      "Epoch 24/50\n",
      "185/185 [==============================] - 19s 102ms/step - loss: 0.4769 - accuracy: 0.0883\n",
      "Epoch 25/50\n",
      "185/185 [==============================] - 19s 102ms/step - loss: 0.4524 - accuracy: 0.0918\n",
      "Epoch 26/50\n",
      "185/185 [==============================] - 19s 101ms/step - loss: 0.4310 - accuracy: 0.0951\n",
      "Epoch 27/50\n",
      "185/185 [==============================] - 19s 102ms/step - loss: 0.4123 - accuracy: 0.0981\n",
      "Epoch 28/50\n",
      "185/185 [==============================] - 19s 102ms/step - loss: 0.3941 - accuracy: 0.1011\n",
      "Epoch 29/50\n",
      "185/185 [==============================] - 19s 102ms/step - loss: 0.3788 - accuracy: 0.1038\n",
      "Epoch 30/50\n",
      "185/185 [==============================] - 19s 102ms/step - loss: 0.3643 - accuracy: 0.1062\n",
      "Epoch 31/50\n",
      "185/185 [==============================] - 19s 102ms/step - loss: 0.3530 - accuracy: 0.1079\n",
      "Epoch 32/50\n",
      "185/185 [==============================] - 19s 102ms/step - loss: 0.3418 - accuracy: 0.1101\n",
      "Epoch 33/50\n",
      "185/185 [==============================] - 19s 102ms/step - loss: 0.3326 - accuracy: 0.1119\n",
      "Epoch 34/50\n",
      "185/185 [==============================] - 19s 102ms/step - loss: 0.3240 - accuracy: 0.1136\n",
      "Epoch 35/50\n",
      "185/185 [==============================] - 19s 101ms/step - loss: 0.3158 - accuracy: 0.1154\n",
      "Epoch 36/50\n",
      "185/185 [==============================] - 19s 101ms/step - loss: 0.3092 - accuracy: 0.1166\n",
      "Epoch 37/50\n",
      "185/185 [==============================] - 19s 102ms/step - loss: 0.3036 - accuracy: 0.1174\n",
      "Epoch 38/50\n",
      "185/185 [==============================] - 19s 101ms/step - loss: 0.2980 - accuracy: 0.1184\n",
      "Epoch 39/50\n",
      "185/185 [==============================] - 19s 100ms/step - loss: 0.2921 - accuracy: 0.1198\n",
      "Epoch 40/50\n",
      "185/185 [==============================] - 19s 101ms/step - loss: 0.2885 - accuracy: 0.1205\n",
      "Epoch 41/50\n",
      "185/185 [==============================] - 19s 102ms/step - loss: 0.2841 - accuracy: 0.1215\n",
      "Epoch 42/50\n",
      "185/185 [==============================] - 19s 102ms/step - loss: 0.2805 - accuracy: 0.1224\n",
      "Epoch 43/50\n",
      "185/185 [==============================] - 19s 101ms/step - loss: 0.2767 - accuracy: 0.1231\n",
      "Epoch 44/50\n",
      "185/185 [==============================] - 19s 101ms/step - loss: 0.2723 - accuracy: 0.1239\n",
      "Epoch 45/50\n",
      "185/185 [==============================] - 19s 101ms/step - loss: 0.2700 - accuracy: 0.1244s - loss: 0.2693 - \n",
      "Epoch 46/50\n",
      "185/185 [==============================] - 19s 101ms/step - loss: 0.2668 - accuracy: 0.1252\n",
      "Epoch 47/50\n",
      "185/185 [==============================] - 19s 101ms/step - loss: 0.2640 - accuracy: 0.1259\n",
      "Epoch 48/50\n",
      "185/185 [==============================] - 19s 100ms/step - loss: 0.2606 - accuracy: 0.1263\n",
      "Epoch 49/50\n",
      "185/185 [==============================] - 19s 101ms/step - loss: 0.2585 - accuracy: 0.1268\n",
      "Epoch 50/50\n",
      "185/185 [==============================] - 19s 101ms/step - loss: 0.2565 - accuracy: 0.1275\n"
     ]
    }
   ],
   "source": [
    "EPOCHS = 50\n",
    "\n",
    "with tf.device('/GPU:0'):\n",
    "    model.fit(dataset, epochs=EPOCHS, verbose=1)"
   ]
  },
  {
   "cell_type": "markdown",
   "id": "a6ce2443",
   "metadata": {},
   "source": [
    "---\n",
    "\n",
    "# ===STEP 4. 모델 테스트===\n",
    "\n",
    "# Test Chatbot \n",
    "**예측(inference) 단계**\n",
    "\n",
    "1. 새로운 입력 문장에 대해서는 훈련 때와 동일한 전처리를 거친다.\n",
    "2. 입력 문장을 토크나이징하고, START_TOKEN과 END_TOKEN을 추가\n",
    "3. 패딩 마스킹과 룩 어헤드 마스킹 계산\n",
    "4. 디코더는 입력 시퀀스로부터 다음 단어를 예측\n",
    "5. 디코더는 예측된 다음 단어를 기존의 입력 시퀀스에 추가하여 새로운 입력으로 사용\n",
    "6. END_TOKEN이 예측되거나 문장의 최대 길이에 도달하면 디코더는 동작을 멈춘다."
   ]
  },
  {
   "cell_type": "code",
   "execution_count": 101,
   "id": "c77412d9",
   "metadata": {},
   "outputs": [],
   "source": [
    "# 예측 함수\n",
    "def decoder_inference(sentence):\n",
    "    sentence = preprocess_sentence(sentence)\n",
    "\n",
    "    # 입력된 문장을 정수 인코딩 후, 시작 토큰과 종료 토큰을 앞뒤로 추가\n",
    "    sentence = tf.expand_dims(\n",
    "      START_TOKEN + tokenizer.encode(sentence) + END_TOKEN, axis=0)\n",
    "\n",
    "    # 디코더의 현재까지의 예측한 출력 시퀀스가 지속적으로 저장되는 변수\n",
    "    # 처음에는 예측한 내용이 없음으로 시작 토큰만 별도 저장\n",
    "    output_sequence = tf.expand_dims(START_TOKEN, 0)\n",
    "\n",
    "    # 디코더 인퍼런스 단계\n",
    "    for i in range(MAX_LENGTH):\n",
    "        # 디코더는 최대 MAX_LENGTH의 길이만큼 다음 단어 예측을 반복\n",
    "        predictions = model(inputs=[sentence, output_sequence], training=False)\n",
    "        predictions = predictions[:, -1:, :]\n",
    "\n",
    "        # 현재 예측한 단어의 정수\n",
    "        predicted_id = tf.cast(tf.argmax(predictions, axis=-1), tf.int32)\n",
    "\n",
    "        # 만약 현재 예측한 단어가 종료 토큰이라면 for문을 종료\n",
    "        if tf.equal(predicted_id, END_TOKEN[0]):\n",
    "            break\n",
    "\n",
    "        # 예측한 단어들은 지속적으로 output_sequence에 추가\n",
    "        # 이 output_sequence는 다시 디코더의 입력이 됨\n",
    "        output_sequence = tf.concat([output_sequence, predicted_id], axis=-1)\n",
    "\n",
    "    return tf.squeeze(output_sequence, axis=0)"
   ]
  },
  {
   "cell_type": "code",
   "execution_count": 102,
   "id": "0af5fbde",
   "metadata": {},
   "outputs": [],
   "source": [
    "# 챗봇의 대답을 얻는 sentence_generation()함수\n",
    "# 임의의 입력 문장에 대해서 decoder_inference() 함수를 호출\n",
    "def sentence_generation(sentence):\n",
    "    # 입력 문장에 대해서 디코더를 동작 시켜 예측된 정수 시퀀스를 리턴\n",
    "    prediction = decoder_inference(sentence)\n",
    "\n",
    "    # 정수 시퀀스를 다시 텍스트 시퀀스로 변환\n",
    "    predicted_sentence = tokenizer.decode(\n",
    "      [i for i in prediction if i < tokenizer.vocab_size])\n",
    "\n",
    "    print('Input : {}'.format(sentence))\n",
    "    print('Output : {}'.format(predicted_sentence))\n",
    "\n",
    "    return predicted_sentence"
   ]
  },
  {
   "cell_type": "markdown",
   "id": "4e91a506",
   "metadata": {},
   "source": [
    "- 챗봇데이터 내용을 참고해서 질문테스트"
   ]
  },
  {
   "cell_type": "code",
   "execution_count": 103,
   "id": "90c4787e",
   "metadata": {},
   "outputs": [
    {
     "name": "stdout",
     "output_type": "stream",
     "text": [
      "Input : 오늘 기분이 안좋아\n",
      "Output : 이젠 그녀를 놓아주세요 .\n"
     ]
    },
    {
     "data": {
      "text/plain": [
       "'이젠 그녀를 놓아주세요 .'"
      ]
     },
     "execution_count": 103,
     "metadata": {},
     "output_type": "execute_result"
    }
   ],
   "source": [
    "# chatbot test1\n",
    "sentence_generation('오늘 기분이 안좋아')"
   ]
  },
  {
   "cell_type": "code",
   "execution_count": 104,
   "id": "3a6c1bab",
   "metadata": {},
   "outputs": [
    {
     "name": "stdout",
     "output_type": "stream",
     "text": [
      "Input : 나 그 사람 좋아하는 것 같아\n",
      "Output : 사랑은 쟁취하는거예요 .\n"
     ]
    },
    {
     "data": {
      "text/plain": [
       "'사랑은 쟁취하는거예요 .'"
      ]
     },
     "execution_count": 104,
     "metadata": {},
     "output_type": "execute_result"
    }
   ],
   "source": [
    "# chatbot test2\n",
    "sentence_generation(\"나 그 사람 좋아하는 것 같아\")"
   ]
  },
  {
   "cell_type": "code",
   "execution_count": 105,
   "id": "7edc73df",
   "metadata": {},
   "outputs": [
    {
     "name": "stdout",
     "output_type": "stream",
     "text": [
      "Input : 점심 뭐 먹지?\n",
      "Output : 회원정보 찾기를 해보세요 .\n"
     ]
    },
    {
     "data": {
      "text/plain": [
       "'회원정보 찾기를 해보세요 .'"
      ]
     },
     "execution_count": 105,
     "metadata": {},
     "output_type": "execute_result"
    }
   ],
   "source": [
    "# chatbot test3\n",
    "sentence_generation(\"점심 뭐 먹지?\")"
   ]
  },
  {
   "cell_type": "code",
   "execution_count": 106,
   "id": "f70e8696",
   "metadata": {},
   "outputs": [
    {
     "name": "stdout",
     "output_type": "stream",
     "text": [
      "Input : 이제 하나도 안 아프다\n",
      "Output : 더 많이 배웠길 바라요 .\n"
     ]
    },
    {
     "data": {
      "text/plain": [
       "'더 많이 배웠길 바라요 .'"
      ]
     },
     "execution_count": 106,
     "metadata": {},
     "output_type": "execute_result"
    }
   ],
   "source": [
    "# chatbot test4\n",
    "sentence_generation(\"이제 하나도 안 아프다\")"
   ]
  },
  {
   "cell_type": "code",
   "execution_count": 107,
   "id": "4f4e482f",
   "metadata": {},
   "outputs": [
    {
     "name": "stdout",
     "output_type": "stream",
     "text": [
      "Input : 에휴\n",
      "Output : 더 많이 배웠길 바라요 .\n"
     ]
    },
    {
     "data": {
      "text/plain": [
       "'더 많이 배웠길 바라요 .'"
      ]
     },
     "execution_count": 107,
     "metadata": {},
     "output_type": "execute_result"
    }
   ],
   "source": [
    "# chatbot test5\n",
    "sentence_generation(\"에휴\")"
   ]
  },
  {
   "cell_type": "code",
   "execution_count": 108,
   "id": "34976436",
   "metadata": {},
   "outputs": [
    {
     "name": "stdout",
     "output_type": "stream",
     "text": [
      "Input : 한숨만 나와\n",
      "Output : 제가 있잖아요 .\n"
     ]
    },
    {
     "data": {
      "text/plain": [
       "'제가 있잖아요 .'"
      ]
     },
     "execution_count": 108,
     "metadata": {},
     "output_type": "execute_result"
    }
   ],
   "source": [
    "# chatbot test6\n",
    "sentence_generation(\"한숨만 나와\")"
   ]
  },
  {
   "cell_type": "code",
   "execution_count": 109,
   "id": "458fab6f",
   "metadata": {},
   "outputs": [
    {
     "name": "stdout",
     "output_type": "stream",
     "text": [
      "Input : 비온다!\n",
      "Output : 맛있게 드세요 .\n"
     ]
    },
    {
     "data": {
      "text/plain": [
       "'맛있게 드세요 .'"
      ]
     },
     "execution_count": 109,
     "metadata": {},
     "output_type": "execute_result"
    }
   ],
   "source": [
    "# chatbot test7\n",
    "sentence_generation(\"비온다!\")"
   ]
  },
  {
   "cell_type": "code",
   "execution_count": 110,
   "id": "38c24cd8",
   "metadata": {},
   "outputs": [
    {
     "name": "stdout",
     "output_type": "stream",
     "text": [
      "Input : 재밌는 일을 해보고 싶다\n",
      "Output : 더 많이 믿어주세요 .\n"
     ]
    },
    {
     "data": {
      "text/plain": [
       "'더 많이 믿어주세요 .'"
      ]
     },
     "execution_count": 110,
     "metadata": {},
     "output_type": "execute_result"
    }
   ],
   "source": [
    "# chatbot test8\n",
    "sentence_generation(\"재밌는 일을 해보고 싶다\")"
   ]
  },
  {
   "cell_type": "code",
   "execution_count": 112,
   "id": "feafcba4",
   "metadata": {},
   "outputs": [
    {
     "name": "stdout",
     "output_type": "stream",
     "text": [
      "Input : 날씨가 참 좋다!\n",
      "Output : 잘할 수 있을 거예요 .\n"
     ]
    },
    {
     "data": {
      "text/plain": [
       "'잘할 수 있을 거예요 .'"
      ]
     },
     "execution_count": 112,
     "metadata": {},
     "output_type": "execute_result"
    }
   ],
   "source": [
    "# chatbot test9\n",
    "sentence_generation(\"날씨가 참 좋다!\")"
   ]
  },
  {
   "cell_type": "code",
   "execution_count": 113,
   "id": "66bdf66c",
   "metadata": {},
   "outputs": [
    {
     "name": "stdout",
     "output_type": "stream",
     "text": [
      "Input : 춤을 춰야겠어\n",
      "Output : 잘할 수 있을 거예요 .\n"
     ]
    },
    {
     "data": {
      "text/plain": [
       "'잘할 수 있을 거예요 .'"
      ]
     },
     "execution_count": 113,
     "metadata": {},
     "output_type": "execute_result"
    }
   ],
   "source": [
    "# chatbot test10\n",
    "sentence_generation(\"춤을 춰야겠어\")"
   ]
  },
  {
   "cell_type": "code",
   "execution_count": 114,
   "id": "8dc518bd",
   "metadata": {},
   "outputs": [
    {
     "name": "stdout",
     "output_type": "stream",
     "text": [
      "Input : 친구랑 대화가 잘 통해서 신기해\n",
      "Output : 사랑은 쟁취하는거예요 .\n"
     ]
    },
    {
     "data": {
      "text/plain": [
       "'사랑은 쟁취하는거예요 .'"
      ]
     },
     "execution_count": 114,
     "metadata": {},
     "output_type": "execute_result"
    }
   ],
   "source": [
    "# chatbot test11\n",
    "sentence_generation(\"친구랑 대화가 잘 통해서 신기해\")"
   ]
  },
  {
   "cell_type": "code",
   "execution_count": 115,
   "id": "006a87de",
   "metadata": {},
   "outputs": [
    {
     "name": "stdout",
     "output_type": "stream",
     "text": [
      "Input : 역시 세상에서 사랑이 최고야\n",
      "Output : 좋은 소식 아닌가요 ?\n"
     ]
    },
    {
     "data": {
      "text/plain": [
       "'좋은 소식 아닌가요 ?'"
      ]
     },
     "execution_count": 115,
     "metadata": {},
     "output_type": "execute_result"
    }
   ],
   "source": [
    "# chatbot test12\n",
    "sentence_generation(\"역시 세상에서 사랑이 최고야\")"
   ]
  },
  {
   "cell_type": "markdown",
   "id": "ec71a58b",
   "metadata": {},
   "source": [
    "- 부정적인 표현에 대해서는 꽤 그럴싸한 답변을 내놓는데, 일상 표현에 대해서는 조금 어색한 대답을 한다.\n",
    "- 레이블 분포를 봐야겠다\n",
    "\n",
    "> label : 일상다반사=0, 이별(부정)=1, 사랑(긍정)=2"
   ]
  },
  {
   "cell_type": "code",
   "execution_count": 121,
   "id": "043ab066",
   "metadata": {},
   "outputs": [
    {
     "data": {
      "text/plain": [
       "(                    Q            A  label\n",
       " 0              12시 땡!   하루가 또 가네요.      0\n",
       " 1         1지망 학교 떨어졌어    위로해 드립니다.      0\n",
       " 2        3박4일 놀러가고 싶다  여행은 언제나 좋죠.      0\n",
       " 3     3박4일 정도 놀러가고 싶다  여행은 언제나 좋죠.      0\n",
       " 4             PPL 심하네   눈살이 찌푸려지죠.      0\n",
       " ...               ...          ...    ...\n",
       " 5285             힘내야지       응원합니다!      0\n",
       " 5286      힘든 것 좀 끝났으면   다 지나갈 거예요.      0\n",
       " 5287     힘든 시기가 지나갔으면   다 지나갈 거예요.      0\n",
       " 5288   힘든 데도 날 도와준 사람  잊지말고 보답하세요.      0\n",
       " 5289           힘차게 시작       응원합니다!      0\n",
       " \n",
       " [5290 rows x 3 columns],\n",
       "                          Q                          A  label\n",
       " 5290     1000일 만난 여자친구와 이별         더 오래 만날 사람 만날 거예요.      1\n",
       " 5291       10년 연애. 헤어졌습니다.              더 공허함이 크시겠네요.      1\n",
       " 5292  10년 연애사 되돌아보니 다 부질없네           더 좋은 사람 만나실 거예요.      1\n",
       " 5293              10년 연예의끝               더 마음이 허하겠어요.      1\n",
       " 5294           10년만나다 헤어지네  충분히 슬퍼하고 충분히 아파하다가 이겨내세요.      1\n",
       " ...                    ...                        ...    ...\n",
       " 8855                 힘듭니다.    어떤 말도 위로가 되지 않겠지만 힘내세요.      1\n",
       " 8856          힘이 될런지 모르겠지만    어떤 말도 위로가 되지 않겠지만 힘내세요.      1\n",
       " 8857                 힘이 드네    어떤 말도 위로가 되지 않겠지만 힘내세요.      1\n",
       " 8858                 힘이 없어                      힘내세요!      1\n",
       " 8859           힘이드네.여자들이란.    어떤 말도 위로가 되지 않겠지만 힘내세요.      1\n",
       " \n",
       " [3570 rows x 3 columns],\n",
       "                               Q                         A  label\n",
       " 8860         짝사랑만큼 고통스러운 건 없겠지.  짝사랑 만큼 감정소모가 큰 건 없을 거예요.      2\n",
       " 8861        1년 넘게 만났는데 지금도 불타올라         정열적인 사랑을 하고 있나봐요.      2\n",
       " 8862            1년 동거 중인데 계속 좋아    서로 깊게 알게되면서 더 좋아졌나봅니다.      2\n",
       " 8863               1년 동거하고 결혼했어                    축하합니다!      2\n",
       " 8864   1년 만났는데도 그 사람에 대해 잘 모르겠어                  더 만나보세요.      2\n",
       " ...                         ...                       ...    ...\n",
       " 11818            훔쳐보는 것도 눈치 보임.        티가 나니까 눈치가 보이는 거죠!      2\n",
       " 11819            훔쳐보는 것도 눈치 보임.             훔쳐보는 거 티나나봐요.      2\n",
       " 11820               흑기사 해주는 짝남.                    설렜겠어요.      2\n",
       " 11821   힘든 연애 좋은 연애라는게 무슨 차이일까?  잘 헤어질 수 있는 사이 여부인 거 같아요.      2\n",
       " 11822                힘들어서 결혼할까봐        도피성 결혼은 하지 않길 바라요.      2\n",
       " \n",
       " [2963 rows x 3 columns])"
      ]
     },
     "execution_count": 121,
     "metadata": {},
     "output_type": "execute_result"
    }
   ],
   "source": [
    "# 레이블 분포 확인 \n",
    "\n",
    "# 데이터 레이블별로 추출\n",
    "daily = df[df['label'] == 0]\n",
    "neg = df[df['label'] == 1]\n",
    "pos = df[df['label'] == 2]\n",
    "\n",
    "daily, neg, pos"
   ]
  },
  {
   "cell_type": "code",
   "execution_count": 117,
   "id": "b2280532",
   "metadata": {},
   "outputs": [
    {
     "data": {
      "image/png": "[encoded data removed]",
      "text/plain": [
       "<Figure size 432x288 with 1 Axes>"
      ]
     },
     "metadata": {
      "needs_background": "light"
     },
     "output_type": "display_data"
    }
   ],
   "source": [
    "import seaborn as sns\n",
    "\n",
    "sns.countplot(x='label', data=df)\n",
    "\n",
    "plt.title('Comparison of Data by Label')\n",
    "plt.xlabel('Label')\n",
    "plt.ylabel('Data Count')\n",
    "\n",
    "plt.show()"
   ]
  },
  {
   "cell_type": "code",
   "execution_count": 124,
   "id": "8a551189",
   "metadata": {},
   "outputs": [
    {
     "data": {
      "image/png": "[encoded data removed]",
      "text/plain": [
       "<Figure size 432x288 with 1 Axes>"
      ]
     },
     "metadata": {},
     "output_type": "display_data"
    }
   ],
   "source": [
    "# Calculate the percentage of each label\n",
    "label_percentages = df['label'].value_counts(normalize=True) * 100\n",
    "\n",
    "# Use Matplotlib to create a pie chart\n",
    "plt.pie(label_percentages, labels=label_percentages.index, autopct='%1.1f%%', startangle=90)\n",
    "\n",
    "# Add title to the pie chart\n",
    "plt.title('Percentage Distribution of Labels')\n",
    "\n",
    "plt.show()"
   ]
  },
  {
   "cell_type": "markdown",
   "id": "a8ec72c6",
   "metadata": {},
   "source": [
    "- 일상 질문의 비율이 훨씬 더 많다."
   ]
  },
  {
   "cell_type": "markdown",
   "id": "904e2a41",
   "metadata": {},
   "source": [
    "# ===SUMMARY===\n",
    "\n",
    "노드에서는 트랜스포머 모델을 구현하는 부분에서는 굉장히 힘들었고, 오늘 프로젝트 진행에서는 데이터를 가져오는 부분과 역시 EDA에서 힘들었다. 이론을 공부하는 것도 필요하고, 데이터를 가져와서 실습해보는 것도 필요한데 여전히 공부할 지점이 많다. 무엇보다 NLP의 플로우를 완전히 잊은 상태라 분명 이전에 공부했던 내용일텐데 음절, 어절에 대한 정의부터 다시 파악해야했다. NLP 다시 천천히 공부해보자!"
   ]
  },
  {
   "cell_type": "markdown",
   "id": "ad80a596",
   "metadata": {},
   "source": [
    "# ===KPT===\n",
    "\n",
    "**[KEEP]**\n",
    "- 포기하지않고 마무리지었다.\n",
    "- 프로젝트는 강훈님과 대화하면서 진행했는데 사실 생각보다 집중이 더 잘됬고, 모르는 지점을 바로 확인해보고, 서로의 코드를 비교분석해볼수 있었다. 보통은 나 혼자서 집중해서 프로젝트를 진행하는데 신기했다.\n",
    "\n",
    "**[PROBLEM]**\n",
    "- 데이터를 불러오는 과정에서 404에러가 발생해서 한참이나 헤맸다.\n",
    "- NLP 데이터 전처리 플로우에 대한 이해가 매우 부족했다.\n",
    "\n",
    "**[TRY]**\n",
    "- NLP 프로젝트를 하나 더 진행하면서 다시 천천히 복습해본다.\n",
    "- 이론에 대한 공부가 필요한데, 정은님이 주셨던 자료를 공부해본다.... (꼭..)\n",
    "\n"
   ]
  }
 ],
 "metadata": {
  "kernelspec": {
   "display_name": "Python 3 (ipykernel)",
   "language": "python",
   "name": "python3"
  },
  "language_info": {
   "codemirror_mode": {
    "name": "ipython",
    "version": 3
   },
   "file_extension": ".py",
   "mimetype": "text/x-python",
   "name": "python",
   "nbconvert_exporter": "python",
   "pygments_lexer": "ipython3",
   "version": "3.9.7"
  },
  "toc": {
   "base_numbering": 1,
   "nav_menu": {},
   "number_sections": false,
   "sideBar": true,
   "skip_h1_title": false,
   "title_cell": "Table of Contents",
   "title_sidebar": "Contents",
   "toc_cell": false,
   "toc_position": {
    "height": "754px",
    "left": "133px",
    "top": "180px",
    "width": "193.188px"
   },
   "toc_section_display": true,
   "toc_window_display": true
  }
 },
 "nbformat": 4,
 "nbformat_minor": 5
}
